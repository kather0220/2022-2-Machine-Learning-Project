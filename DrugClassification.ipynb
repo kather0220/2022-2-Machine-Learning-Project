{
  "metadata": {
    "colab": {
      "provenance": [],
      "collapsed_sections": [
        "nkoQhxWhpupc",
        "1ZgX5DfMpupe"
      ]
    },
    "kernelspec": {
      "name": "python3",
      "display_name": "Python 3",
      "language": "python"
    },
    "language_info": {
      "name": "python",
      "version": "3.7.12",
      "mimetype": "text/x-python",
      "codemirror_mode": {
        "name": "ipython",
        "version": 3
      },
      "pygments_lexer": "ipython3",
      "nbconvert_exporter": "python",
      "file_extension": ".py"
    }
  },
  "nbformat_minor": 0,
  "nbformat": 4,
  "cells": [
    {
      "cell_type": "markdown",
      "source": [
        "#0. Data importing"
      ],
      "metadata": {
        "id": "0oyPFdVi8E9_"
      }
    },
    {
      "cell_type": "code",
      "source": [
        "import numpy as np\n",
        "import pandas as pd\n",
        "import seaborn as sns\n",
        "import matplotlib.pyplot as plt"
      ],
      "metadata": {
        "id": "UYGrDiANK1jE",
        "execution": {
          "iopub.status.busy": "2022-12-01T06:56:04.067493Z",
          "iopub.execute_input": "2022-12-01T06:56:04.067942Z",
          "iopub.status.idle": "2022-12-01T06:56:04.815552Z",
          "shell.execute_reply.started": "2022-12-01T06:56:04.067901Z",
          "shell.execute_reply": "2022-12-01T06:56:04.814263Z"
        },
        "trusted": true
      },
      "execution_count": 1,
      "outputs": []
    },
    {
      "cell_type": "code",
      "source": [
        "url=\"https://drive.google.com/file/d/1uknnBu30czwjuTiFOMx5hKozvf8HIZ6f/view?usp=sharing\"\n",
        "path='https://drive.google.com/uc?id='+url.split('/')[-2]\n",
        "df=pd.read_csv(path)\n",
        "df.head()"
      ],
      "metadata": {
        "id": "Pp0OUXGPK-86",
        "execution": {
          "iopub.status.busy": "2022-12-01T06:56:10.190599Z",
          "iopub.execute_input": "2022-12-01T06:56:10.191143Z",
          "iopub.status.idle": "2022-12-01T06:56:10.205529Z",
          "shell.execute_reply.started": "2022-12-01T06:56:10.191098Z",
          "shell.execute_reply": "2022-12-01T06:56:10.203281Z"
        },
        "trusted": true,
        "colab": {
          "base_uri": "https://localhost:8080/",
          "height": 206
        },
        "outputId": "c03e75bc-0ad4-461a-8ec3-63b886574782"
      },
      "execution_count": 2,
      "outputs": [
        {
          "output_type": "execute_result",
          "data": {
            "text/plain": [
              "   Age Sex      BP Cholesterol  Na_to_K   Drug\n",
              "0   23   F    HIGH        HIGH   25.355  DrugY\n",
              "1   47   M     LOW        HIGH   13.093  drugC\n",
              "2   47   M     LOW        HIGH   10.114  drugC\n",
              "3   28   F  NORMAL        HIGH    7.798  drugX\n",
              "4   61   F     LOW        HIGH   18.043  DrugY"
            ],
            "text/html": [
              "\n",
              "  <div id=\"df-4bdca57a-f179-4572-b8d1-2753c8ea18a7\">\n",
              "    <div class=\"colab-df-container\">\n",
              "      <div>\n",
              "<style scoped>\n",
              "    .dataframe tbody tr th:only-of-type {\n",
              "        vertical-align: middle;\n",
              "    }\n",
              "\n",
              "    .dataframe tbody tr th {\n",
              "        vertical-align: top;\n",
              "    }\n",
              "\n",
              "    .dataframe thead th {\n",
              "        text-align: right;\n",
              "    }\n",
              "</style>\n",
              "<table border=\"1\" class=\"dataframe\">\n",
              "  <thead>\n",
              "    <tr style=\"text-align: right;\">\n",
              "      <th></th>\n",
              "      <th>Age</th>\n",
              "      <th>Sex</th>\n",
              "      <th>BP</th>\n",
              "      <th>Cholesterol</th>\n",
              "      <th>Na_to_K</th>\n",
              "      <th>Drug</th>\n",
              "    </tr>\n",
              "  </thead>\n",
              "  <tbody>\n",
              "    <tr>\n",
              "      <th>0</th>\n",
              "      <td>23</td>\n",
              "      <td>F</td>\n",
              "      <td>HIGH</td>\n",
              "      <td>HIGH</td>\n",
              "      <td>25.355</td>\n",
              "      <td>DrugY</td>\n",
              "    </tr>\n",
              "    <tr>\n",
              "      <th>1</th>\n",
              "      <td>47</td>\n",
              "      <td>M</td>\n",
              "      <td>LOW</td>\n",
              "      <td>HIGH</td>\n",
              "      <td>13.093</td>\n",
              "      <td>drugC</td>\n",
              "    </tr>\n",
              "    <tr>\n",
              "      <th>2</th>\n",
              "      <td>47</td>\n",
              "      <td>M</td>\n",
              "      <td>LOW</td>\n",
              "      <td>HIGH</td>\n",
              "      <td>10.114</td>\n",
              "      <td>drugC</td>\n",
              "    </tr>\n",
              "    <tr>\n",
              "      <th>3</th>\n",
              "      <td>28</td>\n",
              "      <td>F</td>\n",
              "      <td>NORMAL</td>\n",
              "      <td>HIGH</td>\n",
              "      <td>7.798</td>\n",
              "      <td>drugX</td>\n",
              "    </tr>\n",
              "    <tr>\n",
              "      <th>4</th>\n",
              "      <td>61</td>\n",
              "      <td>F</td>\n",
              "      <td>LOW</td>\n",
              "      <td>HIGH</td>\n",
              "      <td>18.043</td>\n",
              "      <td>DrugY</td>\n",
              "    </tr>\n",
              "  </tbody>\n",
              "</table>\n",
              "</div>\n",
              "      <button class=\"colab-df-convert\" onclick=\"convertToInteractive('df-4bdca57a-f179-4572-b8d1-2753c8ea18a7')\"\n",
              "              title=\"Convert this dataframe to an interactive table.\"\n",
              "              style=\"display:none;\">\n",
              "        \n",
              "  <svg xmlns=\"http://www.w3.org/2000/svg\" height=\"24px\"viewBox=\"0 0 24 24\"\n",
              "       width=\"24px\">\n",
              "    <path d=\"M0 0h24v24H0V0z\" fill=\"none\"/>\n",
              "    <path d=\"M18.56 5.44l.94 2.06.94-2.06 2.06-.94-2.06-.94-.94-2.06-.94 2.06-2.06.94zm-11 1L8.5 8.5l.94-2.06 2.06-.94-2.06-.94L8.5 2.5l-.94 2.06-2.06.94zm10 10l.94 2.06.94-2.06 2.06-.94-2.06-.94-.94-2.06-.94 2.06-2.06.94z\"/><path d=\"M17.41 7.96l-1.37-1.37c-.4-.4-.92-.59-1.43-.59-.52 0-1.04.2-1.43.59L10.3 9.45l-7.72 7.72c-.78.78-.78 2.05 0 2.83L4 21.41c.39.39.9.59 1.41.59.51 0 1.02-.2 1.41-.59l7.78-7.78 2.81-2.81c.8-.78.8-2.07 0-2.86zM5.41 20L4 18.59l7.72-7.72 1.47 1.35L5.41 20z\"/>\n",
              "  </svg>\n",
              "      </button>\n",
              "      \n",
              "  <style>\n",
              "    .colab-df-container {\n",
              "      display:flex;\n",
              "      flex-wrap:wrap;\n",
              "      gap: 12px;\n",
              "    }\n",
              "\n",
              "    .colab-df-convert {\n",
              "      background-color: #E8F0FE;\n",
              "      border: none;\n",
              "      border-radius: 50%;\n",
              "      cursor: pointer;\n",
              "      display: none;\n",
              "      fill: #1967D2;\n",
              "      height: 32px;\n",
              "      padding: 0 0 0 0;\n",
              "      width: 32px;\n",
              "    }\n",
              "\n",
              "    .colab-df-convert:hover {\n",
              "      background-color: #E2EBFA;\n",
              "      box-shadow: 0px 1px 2px rgba(60, 64, 67, 0.3), 0px 1px 3px 1px rgba(60, 64, 67, 0.15);\n",
              "      fill: #174EA6;\n",
              "    }\n",
              "\n",
              "    [theme=dark] .colab-df-convert {\n",
              "      background-color: #3B4455;\n",
              "      fill: #D2E3FC;\n",
              "    }\n",
              "\n",
              "    [theme=dark] .colab-df-convert:hover {\n",
              "      background-color: #434B5C;\n",
              "      box-shadow: 0px 1px 3px 1px rgba(0, 0, 0, 0.15);\n",
              "      filter: drop-shadow(0px 1px 2px rgba(0, 0, 0, 0.3));\n",
              "      fill: #FFFFFF;\n",
              "    }\n",
              "  </style>\n",
              "\n",
              "      <script>\n",
              "        const buttonEl =\n",
              "          document.querySelector('#df-4bdca57a-f179-4572-b8d1-2753c8ea18a7 button.colab-df-convert');\n",
              "        buttonEl.style.display =\n",
              "          google.colab.kernel.accessAllowed ? 'block' : 'none';\n",
              "\n",
              "        async function convertToInteractive(key) {\n",
              "          const element = document.querySelector('#df-4bdca57a-f179-4572-b8d1-2753c8ea18a7');\n",
              "          const dataTable =\n",
              "            await google.colab.kernel.invokeFunction('convertToInteractive',\n",
              "                                                     [key], {});\n",
              "          if (!dataTable) return;\n",
              "\n",
              "          const docLinkHtml = 'Like what you see? Visit the ' +\n",
              "            '<a target=\"_blank\" href=https://colab.research.google.com/notebooks/data_table.ipynb>data table notebook</a>'\n",
              "            + ' to learn more about interactive tables.';\n",
              "          element.innerHTML = '';\n",
              "          dataTable['output_type'] = 'display_data';\n",
              "          await google.colab.output.renderOutput(dataTable, element);\n",
              "          const docLink = document.createElement('div');\n",
              "          docLink.innerHTML = docLinkHtml;\n",
              "          element.appendChild(docLink);\n",
              "        }\n",
              "      </script>\n",
              "    </div>\n",
              "  </div>\n",
              "  "
            ]
          },
          "metadata": {},
          "execution_count": 2
        }
      ]
    },
    {
      "cell_type": "markdown",
      "source": [
        "# 1-1. Basic Data Analysis"
      ],
      "metadata": {
        "id": "AOy_b9xIVE9j"
      }
    },
    {
      "cell_type": "markdown",
      "source": [
        "### General information\n",
        "From the results below, there are no missing/null value in this dataset.\n"
      ],
      "metadata": {
        "id": "6FANOIZ9pupW"
      }
    },
    {
      "cell_type": "code",
      "source": [
        "df.info()"
      ],
      "metadata": {
        "id": "GCY3KeA9LE-y",
        "execution": {
          "iopub.status.busy": "2022-12-01T06:56:20.098129Z",
          "iopub.execute_input": "2022-12-01T06:56:20.098563Z",
          "iopub.status.idle": "2022-12-01T06:56:20.134822Z",
          "shell.execute_reply.started": "2022-12-01T06:56:20.098529Z",
          "shell.execute_reply": "2022-12-01T06:56:20.133524Z"
        },
        "trusted": true,
        "colab": {
          "base_uri": "https://localhost:8080/"
        },
        "outputId": "0944fa45-2967-4015-9a94-ec4a21b29a76"
      },
      "execution_count": 3,
      "outputs": [
        {
          "output_type": "stream",
          "name": "stdout",
          "text": [
            "<class 'pandas.core.frame.DataFrame'>\n",
            "RangeIndex: 200 entries, 0 to 199\n",
            "Data columns (total 6 columns):\n",
            " #   Column       Non-Null Count  Dtype  \n",
            "---  ------       --------------  -----  \n",
            " 0   Age          200 non-null    int64  \n",
            " 1   Sex          200 non-null    object \n",
            " 2   BP           200 non-null    object \n",
            " 3   Cholesterol  200 non-null    object \n",
            " 4   Na_to_K      200 non-null    float64\n",
            " 5   Drug         200 non-null    object \n",
            "dtypes: float64(1), int64(1), object(4)\n",
            "memory usage: 9.5+ KB\n"
          ]
        }
      ]
    },
    {
      "cell_type": "code",
      "source": [
        "df.shape"
      ],
      "metadata": {
        "id": "hRyBoiK5PFyb",
        "execution": {
          "iopub.status.busy": "2022-12-01T06:56:42.863924Z",
          "iopub.execute_input": "2022-12-01T06:56:42.864348Z",
          "iopub.status.idle": "2022-12-01T06:56:42.875658Z",
          "shell.execute_reply.started": "2022-12-01T06:56:42.864317Z",
          "shell.execute_reply": "2022-12-01T06:56:42.874264Z"
        },
        "trusted": true,
        "colab": {
          "base_uri": "https://localhost:8080/"
        },
        "outputId": "02c55417-9de4-4bcb-dca9-9974eb24577f"
      },
      "execution_count": 4,
      "outputs": [
        {
          "output_type": "execute_result",
          "data": {
            "text/plain": [
              "(200, 6)"
            ]
          },
          "metadata": {},
          "execution_count": 4
        }
      ]
    },
    {
      "cell_type": "markdown",
      "source": [
        "### Drug"
      ],
      "metadata": {
        "id": "aUFIc6fRpupY"
      }
    },
    {
      "cell_type": "code",
      "source": [
        "df.Drug.value_counts()"
      ],
      "metadata": {
        "id": "j4yxj8Y3LRgF",
        "execution": {
          "iopub.status.busy": "2022-12-01T07:01:00.398868Z",
          "iopub.execute_input": "2022-12-01T07:01:00.399344Z",
          "iopub.status.idle": "2022-12-01T07:01:00.409613Z",
          "shell.execute_reply.started": "2022-12-01T07:01:00.399303Z",
          "shell.execute_reply": "2022-12-01T07:01:00.408159Z"
        },
        "trusted": true,
        "colab": {
          "base_uri": "https://localhost:8080/"
        },
        "outputId": "6f78dd01-1263-4bd0-fbe4-6b2335e90511"
      },
      "execution_count": 5,
      "outputs": [
        {
          "output_type": "execute_result",
          "data": {
            "text/plain": [
              "DrugY    91\n",
              "drugX    54\n",
              "drugA    23\n",
              "drugC    16\n",
              "drugB    16\n",
              "Name: Drug, dtype: int64"
            ]
          },
          "metadata": {},
          "execution_count": 5
        }
      ]
    },
    {
      "cell_type": "code",
      "source": [
        "plt.figure(figsize = (9,5))\n",
        "sns.countplot(x = df.Drug)\n",
        "plt.show()"
      ],
      "metadata": {
        "execution": {
          "iopub.status.busy": "2022-12-01T07:01:02.659658Z",
          "iopub.execute_input": "2022-12-01T07:01:02.660115Z",
          "iopub.status.idle": "2022-12-01T07:01:02.927638Z",
          "shell.execute_reply.started": "2022-12-01T07:01:02.660076Z",
          "shell.execute_reply": "2022-12-01T07:01:02.923536Z"
        },
        "trusted": true,
        "colab": {
          "base_uri": "https://localhost:8080/",
          "height": 334
        },
        "id": "FtpNwu9EpupZ",
        "outputId": "28e38ad8-7fd4-4b1c-da57-fcada4115e33"
      },
      "execution_count": 6,
      "outputs": [
        {
          "output_type": "display_data",
          "data": {
            "text/plain": [
              "<Figure size 648x360 with 1 Axes>"
            ],
            "image/png": "[encoded data removed]"
          },
          "metadata": {
            "needs_background": "light"
          }
        }
      ]
    },
    {
      "cell_type": "markdown",
      "source": [
        "DrugY has more amount than other types of drugs."
      ],
      "metadata": {
        "id": "Uyl5igEnpupa"
      }
    },
    {
      "cell_type": "markdown",
      "source": [
        "### Sex"
      ],
      "metadata": {
        "id": "YPhJxrTXpupa"
      }
    },
    {
      "cell_type": "code",
      "source": [
        "df.Sex.value_counts()"
      ],
      "metadata": {
        "id": "V4B4k6t_Lsyc",
        "execution": {
          "iopub.status.busy": "2022-12-01T07:01:16.348623Z",
          "iopub.execute_input": "2022-12-01T07:01:16.349097Z",
          "iopub.status.idle": "2022-12-01T07:01:16.361392Z",
          "shell.execute_reply.started": "2022-12-01T07:01:16.349048Z",
          "shell.execute_reply": "2022-12-01T07:01:16.359982Z"
        },
        "trusted": true,
        "colab": {
          "base_uri": "https://localhost:8080/"
        },
        "outputId": "8f4b28fc-6a10-442e-d690-361116da0089"
      },
      "execution_count": 7,
      "outputs": [
        {
          "output_type": "execute_result",
          "data": {
            "text/plain": [
              "M    104\n",
              "F     96\n",
              "Name: Sex, dtype: int64"
            ]
          },
          "metadata": {},
          "execution_count": 7
        }
      ]
    },
    {
      "cell_type": "code",
      "source": [
        "plt.figure(figsize = (9,5))\n",
        "sns.countplot(x = df.Sex)\n",
        "plt.show()"
      ],
      "metadata": {
        "execution": {
          "iopub.status.busy": "2022-12-01T07:01:18.801934Z",
          "iopub.execute_input": "2022-12-01T07:01:18.802379Z",
          "iopub.status.idle": "2022-12-01T07:01:19.022060Z",
          "shell.execute_reply.started": "2022-12-01T07:01:18.802339Z",
          "shell.execute_reply": "2022-12-01T07:01:19.020800Z"
        },
        "trusted": true,
        "colab": {
          "base_uri": "https://localhost:8080/",
          "height": 334
        },
        "id": "nFfV0siApupb",
        "outputId": "68d924d6-0cdc-4634-d9cf-6d81331e9629"
      },
      "execution_count": 8,
      "outputs": [
        {
          "output_type": "display_data",
          "data": {
            "text/plain": [
              "<Figure size 648x360 with 1 Axes>"
            ],
            "image/png": "[encoded data removed]"
          },
          "metadata": {
            "needs_background": "light"
          }
        }
      ]
    },
    {
      "cell_type": "markdown",
      "source": [
        "The distribution of patient gender is balanced."
      ],
      "metadata": {
        "id": "b0tem0Cupupb"
      }
    },
    {
      "cell_type": "markdown",
      "source": [
        "### Blood Pressure"
      ],
      "metadata": {
        "id": "nkoQhxWhpupc"
      }
    },
    {
      "cell_type": "code",
      "source": [
        "df.BP.value_counts()"
      ],
      "metadata": {
        "id": "7bTdBeF2L8ss",
        "execution": {
          "iopub.status.busy": "2022-12-01T07:01:47.963634Z",
          "iopub.execute_input": "2022-12-01T07:01:47.964092Z",
          "iopub.status.idle": "2022-12-01T07:01:47.975033Z",
          "shell.execute_reply.started": "2022-12-01T07:01:47.964053Z",
          "shell.execute_reply": "2022-12-01T07:01:47.973598Z"
        },
        "trusted": true,
        "colab": {
          "base_uri": "https://localhost:8080/"
        },
        "outputId": "99bbbaae-3619-4f0f-eb99-a0cd7635658c"
      },
      "execution_count": 9,
      "outputs": [
        {
          "output_type": "execute_result",
          "data": {
            "text/plain": [
              "HIGH      77\n",
              "LOW       64\n",
              "NORMAL    59\n",
              "Name: BP, dtype: int64"
            ]
          },
          "metadata": {},
          "execution_count": 9
        }
      ]
    },
    {
      "cell_type": "code",
      "source": [
        "plt.figure(figsize = (9,5))\n",
        "sns.countplot(x = df.BP)\n",
        "plt.show()"
      ],
      "metadata": {
        "execution": {
          "iopub.status.busy": "2022-12-01T07:02:00.734094Z",
          "iopub.execute_input": "2022-12-01T07:02:00.735842Z",
          "iopub.status.idle": "2022-12-01T07:02:01.089228Z",
          "shell.execute_reply.started": "2022-12-01T07:02:00.735786Z",
          "shell.execute_reply": "2022-12-01T07:02:01.087802Z"
        },
        "trusted": true,
        "colab": {
          "base_uri": "https://localhost:8080/",
          "height": 0
        },
        "id": "7H1bGMzxpupd",
        "outputId": "78bb92a1-8fce-40a9-b87f-697cff2ff155"
      },
      "execution_count": 10,
      "outputs": [
        {
          "output_type": "display_data",
          "data": {
            "text/plain": [
              "<Figure size 648x360 with 1 Axes>"
            ],
            "image/png": "[encoded data removed]"
          },
          "metadata": {
            "needs_background": "light"
          }
        }
      ]
    },
    {
      "cell_type": "markdown",
      "source": [
        "The distribution of blood pressure level is balanced."
      ],
      "metadata": {
        "id": "8T9Z--A8pupd"
      }
    },
    {
      "cell_type": "markdown",
      "source": [
        "### Cholesterol"
      ],
      "metadata": {
        "id": "1ZgX5DfMpupe"
      }
    },
    {
      "cell_type": "code",
      "source": [
        "df.Cholesterol.value_counts()"
      ],
      "metadata": {
        "id": "KFLkCnlWME09",
        "execution": {
          "iopub.status.busy": "2022-12-01T07:02:26.503061Z",
          "iopub.execute_input": "2022-12-01T07:02:26.504397Z",
          "iopub.status.idle": "2022-12-01T07:02:26.517144Z",
          "shell.execute_reply.started": "2022-12-01T07:02:26.504338Z",
          "shell.execute_reply": "2022-12-01T07:02:26.515484Z"
        },
        "trusted": true,
        "colab": {
          "base_uri": "https://localhost:8080/"
        },
        "outputId": "2ca3ff9d-65e8-407d-acfb-ebf155d1a57d"
      },
      "execution_count": 11,
      "outputs": [
        {
          "output_type": "execute_result",
          "data": {
            "text/plain": [
              "HIGH      103\n",
              "NORMAL     97\n",
              "Name: Cholesterol, dtype: int64"
            ]
          },
          "metadata": {},
          "execution_count": 11
        }
      ]
    },
    {
      "cell_type": "code",
      "source": [
        "plt.figure(figsize = (9,5))\n",
        "sns.countplot(x = df.Cholesterol)\n",
        "plt.show()"
      ],
      "metadata": {
        "execution": {
          "iopub.status.busy": "2022-12-01T07:02:36.285372Z",
          "iopub.execute_input": "2022-12-01T07:02:36.285861Z",
          "iopub.status.idle": "2022-12-01T07:02:36.516265Z",
          "shell.execute_reply.started": "2022-12-01T07:02:36.285823Z",
          "shell.execute_reply": "2022-12-01T07:02:36.515042Z"
        },
        "trusted": true,
        "colab": {
          "base_uri": "https://localhost:8080/",
          "height": 0
        },
        "id": "V79SRVGcpupf",
        "outputId": "6bb370e1-405c-4480-d276-43fbc0f24699"
      },
      "execution_count": 12,
      "outputs": [
        {
          "output_type": "display_data",
          "data": {
            "text/plain": [
              "<Figure size 648x360 with 1 Axes>"
            ],
            "image/png": "[encoded data removed]"
          },
          "metadata": {
            "needs_background": "light"
          }
        }
      ]
    },
    {
      "cell_type": "markdown",
      "source": [
        "The distribution of cholesterol level is balanced."
      ],
      "metadata": {
        "id": "QpFO-pqEpupf"
      }
    },
    {
      "cell_type": "markdown",
      "source": [
        "### Age"
      ],
      "metadata": {
        "id": "EaKMn4NWpupf"
      }
    },
    {
      "cell_type": "code",
      "source": [
        "print(\"Max Age:\", df.Age.max())\n",
        "print(\"Min Age:\", df.Age.min())"
      ],
      "metadata": {
        "id": "5sphKKTyOUpp",
        "execution": {
          "iopub.status.busy": "2022-12-01T07:02:52.318468Z",
          "iopub.execute_input": "2022-12-01T07:02:52.318926Z",
          "iopub.status.idle": "2022-12-01T07:02:52.326286Z",
          "shell.execute_reply.started": "2022-12-01T07:02:52.318886Z",
          "shell.execute_reply": "2022-12-01T07:02:52.324990Z"
        },
        "trusted": true,
        "colab": {
          "base_uri": "https://localhost:8080/"
        },
        "outputId": "b1619c19-2fe4-477a-81ca-0cf886f035bf"
      },
      "execution_count": 13,
      "outputs": [
        {
          "output_type": "stream",
          "name": "stdout",
          "text": [
            "Max Age: 74\n",
            "Min Age: 15\n"
          ]
        }
      ]
    },
    {
      "cell_type": "code",
      "source": [
        "plt.figure(figsize = (9,5))\n",
        "sns.histplot(x = df.Age)\n",
        "plt.show()"
      ],
      "metadata": {
        "execution": {
          "iopub.status.busy": "2022-12-01T07:04:05.383613Z",
          "iopub.execute_input": "2022-12-01T07:04:05.384342Z",
          "iopub.status.idle": "2022-12-01T07:04:05.674727Z",
          "shell.execute_reply.started": "2022-12-01T07:04:05.384289Z",
          "shell.execute_reply": "2022-12-01T07:04:05.673356Z"
        },
        "trusted": true,
        "colab": {
          "base_uri": "https://localhost:8080/",
          "height": 334
        },
        "id": "9yuwXOyGpupi",
        "outputId": "3fb553fa-6397-4ff3-8cc1-4642aebddb01"
      },
      "execution_count": 14,
      "outputs": [
        {
          "output_type": "display_data",
          "data": {
            "text/plain": [
              "<Figure size 648x360 with 1 Axes>"
            ],
            "image/png": "[encoded data removed]"
          },
          "metadata": {
            "needs_background": "light"
          }
        }
      ]
    },
    {
      "cell_type": "markdown",
      "source": [
        "### Sodium–potassium pump"
      ],
      "metadata": {
        "id": "bxyrJ8ZNpupi"
      }
    },
    {
      "cell_type": "code",
      "source": [
        "plt.figure(figsize = (9,5))\n",
        "sns.histplot(x = df.Na_to_K)\n",
        "plt.show()\n",
        "\n",
        "print(\"Max Na_to_K:\",df.Na_to_K.max())\n",
        "print(\"Min Na_to_K:\",df.Na_to_K.min())\n",
        "print(\"Mean Na_to_K:\",df.Na_to_K.mean())"
      ],
      "metadata": {
        "id": "ZbAI0vsEOvpS",
        "execution": {
          "iopub.status.busy": "2022-12-01T07:05:39.025094Z",
          "iopub.execute_input": "2022-12-01T07:05:39.025585Z",
          "iopub.status.idle": "2022-12-01T07:05:39.328761Z",
          "shell.execute_reply.started": "2022-12-01T07:05:39.025542Z",
          "shell.execute_reply": "2022-12-01T07:05:39.327512Z"
        },
        "trusted": true,
        "colab": {
          "base_uri": "https://localhost:8080/",
          "height": 390
        },
        "outputId": "58f14103-4f61-4b26-c390-77717e53b8ab"
      },
      "execution_count": 15,
      "outputs": [
        {
          "output_type": "display_data",
          "data": {
            "text/plain": [
              "<Figure size 648x360 with 1 Axes>"
            ],
            "image/png": "[encoded data removed]"
          },
          "metadata": {
            "needs_background": "light"
          }
        },
        {
          "output_type": "stream",
          "name": "stdout",
          "text": [
            "Max Na_to_K: 38.247\n",
            "Min Na_to_K: 6.269\n",
            "Mean Na_to_K: 16.084485\n"
          ]
        }
      ]
    },
    {
      "cell_type": "markdown",
      "source": [
        "# 1-2. Relation between an input variable and an output variable"
      ],
      "metadata": {
        "id": "KiDgfM11VJne"
      }
    },
    {
      "cell_type": "markdown",
      "source": [
        "### Age--Drug relation"
      ],
      "metadata": {
        "id": "cI_L4l_Upupk"
      }
    },
    {
      "cell_type": "code",
      "source": [
        "plt.figure(figsize = (9,5))\n",
        "sns.swarmplot(x = \"Drug\", y = \"Age\",data = df)\n",
        "plt.legend(df.Drug.value_counts().index)\n",
        "plt.title(\"Age -- Drug\")\n",
        "plt.show()\n",
        "\n",
        "print(\"Minimum Age of DrugB\",df.Age[df.Drug == \"drugB\"].min())\n",
        "print(\"Maximum Age of DrugA\",df.Age[df.Drug == \"drugA\"].max())"
      ],
      "metadata": {
        "id": "hTcLvVdtPRtt",
        "execution": {
          "iopub.status.busy": "2022-12-01T07:05:46.399508Z",
          "iopub.execute_input": "2022-12-01T07:05:46.401189Z",
          "iopub.status.idle": "2022-12-01T07:05:47.228043Z",
          "shell.execute_reply.started": "2022-12-01T07:05:46.401129Z",
          "shell.execute_reply": "2022-12-01T07:05:47.226536Z"
        },
        "trusted": true,
        "colab": {
          "base_uri": "https://localhost:8080/",
          "height": 386
        },
        "outputId": "c766be4d-0780-46d4-8ef5-765a7931e093"
      },
      "execution_count": 16,
      "outputs": [
        {
          "output_type": "display_data",
          "data": {
            "text/plain": [
              "<Figure size 648x360 with 1 Axes>"
            ],
            "image/png": "[encoded data removed]"
          },
          "metadata": {
            "needs_background": "light"
          }
        },
        {
          "output_type": "stream",
          "name": "stdout",
          "text": [
            "Minimum Age of DrugB 51\n",
            "Maximum Age of DrugA 50\n"
          ]
        }
      ]
    },
    {
      "cell_type": "markdown",
      "source": [
        "- DrugB is taken only by older than 51 years old. \n",
        "- DrugA is taken only by younger than 50 years old."
      ],
      "metadata": {
        "id": "a-AS8yCEQsMl"
      }
    },
    {
      "cell_type": "markdown",
      "source": [
        "### Sex -- Drug relation"
      ],
      "metadata": {
        "id": "0theOes5pupl"
      }
    },
    {
      "cell_type": "code",
      "source": [
        "df_Sex_Drug = df.groupby([\"Drug\",\"Sex\"]).size().reset_index(name = \"Count\")\n",
        "plt.figure(figsize = (9,5))\n",
        "sns.barplot(x = \"Drug\",y=\"Count\", hue = \"Sex\",data = df_Sex_Drug)\n",
        "plt.title(\"Sex -- Drug\")\n",
        "plt.show()"
      ],
      "metadata": {
        "id": "9H4uEg6TQocv",
        "execution": {
          "iopub.status.busy": "2022-12-01T07:06:08.018723Z",
          "iopub.execute_input": "2022-12-01T07:06:08.019206Z",
          "iopub.status.idle": "2022-12-01T07:06:08.334236Z",
          "shell.execute_reply.started": "2022-12-01T07:06:08.019165Z",
          "shell.execute_reply": "2022-12-01T07:06:08.333131Z"
        },
        "trusted": true,
        "colab": {
          "base_uri": "https://localhost:8080/",
          "height": 350
        },
        "outputId": "0af500a1-828c-4f47-d58b-fce85ee14cf1"
      },
      "execution_count": 17,
      "outputs": [
        {
          "output_type": "display_data",
          "data": {
            "text/plain": [
              "<Figure size 648x360 with 1 Axes>"
            ],
            "image/png": "[encoded data removed]"
          },
          "metadata": {
            "needs_background": "light"
          }
        }
      ]
    },
    {
      "cell_type": "markdown",
      "source": [
        "- Male people got drugA, drugB and drugC more than female people did.\n",
        "- Female people got DrugY more than male people did.\n",
        "- drugX seems equal for male and female.\n",
        "- Sex feature is not an important feature for classification."
      ],
      "metadata": {
        "id": "OlhJwVJcRM0V"
      }
    },
    {
      "cell_type": "markdown",
      "source": [
        "### BP -- Drug"
      ],
      "metadata": {
        "id": "vBkCXzWapupm"
      }
    },
    {
      "cell_type": "code",
      "source": [
        "df_BP_Drug = df.groupby([\"Drug\",\"BP\"]).size().reset_index(name = \"Count\")\n",
        "plt.figure(figsize = (9,5))\n",
        "sns.barplot(x = \"Drug\",y=\"Count\", hue = \"BP\",data = df_BP_Drug)\n",
        "plt.title(\"BP -- Drug\")\n",
        "plt.show()"
      ],
      "metadata": {
        "id": "t6XeOh78RPpl",
        "execution": {
          "iopub.status.busy": "2022-12-01T07:06:21.260806Z",
          "iopub.execute_input": "2022-12-01T07:06:21.261268Z",
          "iopub.status.idle": "2022-12-01T07:06:21.636680Z",
          "shell.execute_reply.started": "2022-12-01T07:06:21.261228Z",
          "shell.execute_reply": "2022-12-01T07:06:21.635460Z"
        },
        "trusted": true,
        "colab": {
          "base_uri": "https://localhost:8080/",
          "height": 350
        },
        "outputId": "1b359a6f-83b9-450c-db1d-5636d475b226"
      },
      "execution_count": 18,
      "outputs": [
        {
          "output_type": "display_data",
          "data": {
            "text/plain": [
              "<Figure size 648x360 with 1 Axes>"
            ],
            "image/png": "[encoded data removed]"
          },
          "metadata": {
            "needs_background": "light"
          }
        }
      ]
    },
    {
      "cell_type": "markdown",
      "source": [
        "- drugA and drugB were given only to people with HIGH blood pressure.\n",
        "- drugC was given to people with LOW blood pressure.\n",
        "- drugX was Not given to people with HIGH blood pressure.\n",
        "- BP is an important feature for classification."
      ],
      "metadata": {
        "id": "LdhuBSjaRnp0"
      }
    },
    {
      "cell_type": "markdown",
      "source": [
        "### Na_to_K -- Drug"
      ],
      "metadata": {
        "id": "-vgBGhzWpupo"
      }
    },
    {
      "cell_type": "code",
      "source": [
        "plt.figure(figsize = (9,5))\n",
        "sns.swarmplot(x = \"Drug\", y = \"Na_to_K\",data = df)\n",
        "plt.title(\"Na_to_K -- Drug\")\n",
        "plt.show()\n",
        "print(\"Minimum Na_to_K for DrugY:\",df.Na_to_K[df.Drug == \"DrugY\"].min())"
      ],
      "metadata": {
        "id": "HTWut00_RsW0",
        "execution": {
          "iopub.status.busy": "2022-12-01T07:06:38.257832Z",
          "iopub.execute_input": "2022-12-01T07:06:38.258287Z",
          "iopub.status.idle": "2022-12-01T07:06:38.645649Z",
          "shell.execute_reply.started": "2022-12-01T07:06:38.258252Z",
          "shell.execute_reply": "2022-12-01T07:06:38.644362Z"
        },
        "trusted": true,
        "colab": {
          "base_uri": "https://localhost:8080/",
          "height": 368
        },
        "outputId": "c9ecaf24-b16b-4bc0-dd11-c69d9d29fc9c"
      },
      "execution_count": 19,
      "outputs": [
        {
          "output_type": "display_data",
          "data": {
            "text/plain": [
              "<Figure size 648x360 with 1 Axes>"
            ],
            "image/png": "[encoded data removed]"
          },
          "metadata": {
            "needs_background": "light"
          }
        },
        {
          "output_type": "stream",
          "name": "stdout",
          "text": [
            "Minimum Na_to_K for DrugY: 15.015\n"
          ]
        }
      ]
    },
    {
      "cell_type": "markdown",
      "source": [
        "- People with Na_to_K ratio bigger than 15, got DrugY.\n",
        "- Na to K is an important feature for DrugY classification."
      ],
      "metadata": {
        "id": "dAL0exJOR8WS"
      }
    },
    {
      "cell_type": "markdown",
      "source": [
        "### Cholesterol -- Drug"
      ],
      "metadata": {
        "id": "QKwdww6hpupp"
      }
    },
    {
      "cell_type": "code",
      "source": [
        "df_CH_Drug = df.groupby([\"Drug\",\"Cholesterol\"]).size().reset_index(name = \"Count\")\n",
        "plt.figure(figsize = (9,5))\n",
        "sns.barplot(x = \"Drug\",y=\"Count\", hue = \"Cholesterol\",data = df_CH_Drug)\n",
        "plt.title(\"Cholesterol -- Drug\")\n",
        "plt.show()"
      ],
      "metadata": {
        "id": "-0GLHfNjSYwy",
        "execution": {
          "iopub.status.busy": "2022-12-01T07:06:59.340380Z",
          "iopub.execute_input": "2022-12-01T07:06:59.340934Z",
          "iopub.status.idle": "2022-12-01T07:06:59.669797Z",
          "shell.execute_reply.started": "2022-12-01T07:06:59.340891Z",
          "shell.execute_reply": "2022-12-01T07:06:59.667143Z"
        },
        "trusted": true,
        "colab": {
          "base_uri": "https://localhost:8080/",
          "height": 350
        },
        "outputId": "4603c893-2685-4b8d-f3fe-4e264839646b"
      },
      "execution_count": 20,
      "outputs": [
        {
          "output_type": "display_data",
          "data": {
            "text/plain": [
              "<Figure size 648x360 with 1 Axes>"
            ],
            "image/png": "[encoded data removed]"
          },
          "metadata": {
            "needs_background": "light"
          }
        }
      ]
    },
    {
      "cell_type": "markdown",
      "source": [
        "- drugC was only given to people with HIGH cholesterol.\n",
        "- Cholesterol is an important feature to classify drugC."
      ],
      "metadata": {
        "id": "49tonfhDScaV"
      }
    },
    {
      "cell_type": "markdown",
      "source": [
        "# 2. Data Preparation\n",
        "\n",
        "### 2-1. Age\n",
        "The age will be divided into 7 age categories:\n",
        "- Below 20 y.o.\n",
        "- 20 - 29 y.o.\n",
        "- 30 - 39 y.o.\n",
        "- 40 - 49 y.o.\n",
        "- 50 - 59 y.o.\n",
        "- 60 - 69 y.o.\n",
        "- Above 70.\n"
      ],
      "metadata": {
        "id": "diTZ5fJlTMKU"
      }
    },
    {
      "cell_type": "code",
      "source": [
        "bin_age = [0, 19, 29, 39, 49, 59, 69, 80]\n",
        "category_age = ['<20s', '20s', '30s', '40s', '50s', '60s', '>60s']\n",
        "df['Age_binned'] = pd.cut(df['Age'], bins=bin_age, labels=category_age)\n",
        "df = df.drop(['Age'], axis = 1)"
      ],
      "metadata": {
        "id": "kvvc1eF1TJ73",
        "execution": {
          "iopub.status.busy": "2022-12-01T07:07:08.530460Z",
          "iopub.execute_input": "2022-12-01T07:07:08.530929Z",
          "iopub.status.idle": "2022-12-01T07:07:08.546155Z",
          "shell.execute_reply.started": "2022-12-01T07:07:08.530891Z",
          "shell.execute_reply": "2022-12-01T07:07:08.544530Z"
        },
        "trusted": true
      },
      "execution_count": 21,
      "outputs": []
    },
    {
      "cell_type": "markdown",
      "source": [
        "### 2-2. Na_to_K\n",
        "The chemical ratio will be divided into 4 categories:\n",
        "- Below 10.\n",
        "- 10 - 20.\n",
        "- 20 - 30.\n",
        "- Above 30."
      ],
      "metadata": {
        "id": "rwYCaAVJTg9C"
      }
    },
    {
      "cell_type": "code",
      "source": [
        "bin_NatoK = [0, 9, 19, 29, 50]\n",
        "category_NatoK = ['<10', '10-20', '20-30', '>30']\n",
        "df['Na_to_K_binned'] = pd.cut(df['Na_to_K'], bins=bin_NatoK, labels=category_NatoK)\n",
        "df = df.drop(['Na_to_K'], axis = 1)"
      ],
      "metadata": {
        "id": "9cLRbIv_TdD3",
        "execution": {
          "iopub.status.busy": "2022-12-01T07:07:13.046240Z",
          "iopub.execute_input": "2022-12-01T07:07:13.046689Z",
          "iopub.status.idle": "2022-12-01T07:07:13.059062Z",
          "shell.execute_reply.started": "2022-12-01T07:07:13.046645Z",
          "shell.execute_reply": "2022-12-01T07:07:13.057472Z"
        },
        "trusted": true
      },
      "execution_count": 22,
      "outputs": []
    },
    {
      "cell_type": "markdown",
      "source": [
        "# 3. Splitting the dataset\n",
        "The dataset will be split into 70% training and 30% testing."
      ],
      "metadata": {
        "id": "aEpbSJKwTxyZ"
      }
    },
    {
      "cell_type": "code",
      "source": [
        "from sklearn.metrics import confusion_matrix\n",
        "from sklearn.metrics import classification_report\n",
        "from sklearn.model_selection import train_test_split"
      ],
      "metadata": {
        "id": "50Rfj3BCT2JB",
        "execution": {
          "iopub.status.busy": "2022-12-01T07:07:22.487503Z",
          "iopub.execute_input": "2022-12-01T07:07:22.488016Z",
          "iopub.status.idle": "2022-12-01T07:07:22.625286Z",
          "shell.execute_reply.started": "2022-12-01T07:07:22.487974Z",
          "shell.execute_reply": "2022-12-01T07:07:22.624026Z"
        },
        "trusted": true
      },
      "execution_count": 23,
      "outputs": []
    },
    {
      "cell_type": "code",
      "source": [
        "X = df.drop([\"Drug\"], axis=1)\n",
        "y = df[\"Drug\"]\n",
        "\n",
        "X_train, X_test, y_train, y_test = train_test_split(X, y, test_size = 0.3, random_state = 0)"
      ],
      "metadata": {
        "id": "d91K6McWT5RT",
        "execution": {
          "iopub.status.busy": "2022-12-01T07:07:24.645786Z",
          "iopub.execute_input": "2022-12-01T07:07:24.646330Z",
          "iopub.status.idle": "2022-12-01T07:07:24.679390Z",
          "shell.execute_reply.started": "2022-12-01T07:07:24.646280Z",
          "shell.execute_reply": "2022-12-01T07:07:24.678148Z"
        },
        "trusted": true
      },
      "execution_count": 24,
      "outputs": []
    },
    {
      "cell_type": "markdown",
      "source": [
        "## 3-1. Feature Engineering\n",
        "- one-hot encoding \n",
        "- transforming categorical variables"
      ],
      "metadata": {
        "id": "MBUofwWiUAmT"
      }
    },
    {
      "cell_type": "code",
      "source": [
        "X_train = pd.get_dummies(X_train)\n",
        "X_test = pd.get_dummies(X_test)\n",
        "X_train.head()\n",
        "X_test.head()"
      ],
      "metadata": {
        "id": "cnY05DSAT-1C",
        "execution": {
          "iopub.status.busy": "2022-12-01T07:07:27.105080Z",
          "iopub.execute_input": "2022-12-01T07:07:27.105700Z",
          "iopub.status.idle": "2022-12-01T07:07:27.185825Z",
          "shell.execute_reply.started": "2022-12-01T07:07:27.105650Z",
          "shell.execute_reply": "2022-12-01T07:07:27.184371Z"
        },
        "trusted": true,
        "colab": {
          "base_uri": "https://localhost:8080/",
          "height": 287
        },
        "outputId": "6d1f7bb0-734c-489a-d12e-ff6969e0b4a2"
      },
      "execution_count": 25,
      "outputs": [
        {
          "output_type": "execute_result",
          "data": {
            "text/plain": [
              "     Sex_F  Sex_M  BP_HIGH  BP_LOW  BP_NORMAL  Cholesterol_HIGH  \\\n",
              "18       0      1        0       1          0                 1   \n",
              "170      1      0        0       0          1                 1   \n",
              "107      0      1        0       1          0                 1   \n",
              "98       0      1        1       0          0                 0   \n",
              "177      0      1        0       0          1                 1   \n",
              "\n",
              "     Cholesterol_NORMAL  Age_binned_<20s  Age_binned_20s  Age_binned_30s  \\\n",
              "18                    0                0               1               0   \n",
              "170                   0                0               1               0   \n",
              "107                   0                0               0               0   \n",
              "98                    1                0               1               0   \n",
              "177                   0                0               1               0   \n",
              "\n",
              "     Age_binned_40s  Age_binned_50s  Age_binned_60s  Age_binned_>60s  \\\n",
              "18                0               0               0                0   \n",
              "170               0               0               0                0   \n",
              "107               1               0               0                0   \n",
              "98                0               0               0                0   \n",
              "177               0               0               0                0   \n",
              "\n",
              "     Na_to_K_binned_<10  Na_to_K_binned_10-20  Na_to_K_binned_20-30  \\\n",
              "18                    1                     0                     0   \n",
              "170                   0                     1                     0   \n",
              "107                   0                     0                     1   \n",
              "98                    0                     0                     0   \n",
              "177                   0                     0                     1   \n",
              "\n",
              "     Na_to_K_binned_>30  \n",
              "18                    0  \n",
              "170                   0  \n",
              "107                   0  \n",
              "98                    1  \n",
              "177                   0  "
            ],
            "text/html": [
              "\n",
              "  <div id=\"df-ef2fd6e4-d423-47c7-b70a-d4ea3ef63576\">\n",
              "    <div class=\"colab-df-container\">\n",
              "      <div>\n",
              "<style scoped>\n",
              "    .dataframe tbody tr th:only-of-type {\n",
              "        vertical-align: middle;\n",
              "    }\n",
              "\n",
              "    .dataframe tbody tr th {\n",
              "        vertical-align: top;\n",
              "    }\n",
              "\n",
              "    .dataframe thead th {\n",
              "        text-align: right;\n",
              "    }\n",
              "</style>\n",
              "<table border=\"1\" class=\"dataframe\">\n",
              "  <thead>\n",
              "    <tr style=\"text-align: right;\">\n",
              "      <th></th>\n",
              "      <th>Sex_F</th>\n",
              "      <th>Sex_M</th>\n",
              "      <th>BP_HIGH</th>\n",
              "      <th>BP_LOW</th>\n",
              "      <th>BP_NORMAL</th>\n",
              "      <th>Cholesterol_HIGH</th>\n",
              "      <th>Cholesterol_NORMAL</th>\n",
              "      <th>Age_binned_&lt;20s</th>\n",
              "      <th>Age_binned_20s</th>\n",
              "      <th>Age_binned_30s</th>\n",
              "      <th>Age_binned_40s</th>\n",
              "      <th>Age_binned_50s</th>\n",
              "      <th>Age_binned_60s</th>\n",
              "      <th>Age_binned_&gt;60s</th>\n",
              "      <th>Na_to_K_binned_&lt;10</th>\n",
              "      <th>Na_to_K_binned_10-20</th>\n",
              "      <th>Na_to_K_binned_20-30</th>\n",
              "      <th>Na_to_K_binned_&gt;30</th>\n",
              "    </tr>\n",
              "  </thead>\n",
              "  <tbody>\n",
              "    <tr>\n",
              "      <th>18</th>\n",
              "      <td>0</td>\n",
              "      <td>1</td>\n",
              "      <td>0</td>\n",
              "      <td>1</td>\n",
              "      <td>0</td>\n",
              "      <td>1</td>\n",
              "      <td>0</td>\n",
              "      <td>0</td>\n",
              "      <td>1</td>\n",
              "      <td>0</td>\n",
              "      <td>0</td>\n",
              "      <td>0</td>\n",
              "      <td>0</td>\n",
              "      <td>0</td>\n",
              "      <td>1</td>\n",
              "      <td>0</td>\n",
              "      <td>0</td>\n",
              "      <td>0</td>\n",
              "    </tr>\n",
              "    <tr>\n",
              "      <th>170</th>\n",
              "      <td>1</td>\n",
              "      <td>0</td>\n",
              "      <td>0</td>\n",
              "      <td>0</td>\n",
              "      <td>1</td>\n",
              "      <td>1</td>\n",
              "      <td>0</td>\n",
              "      <td>0</td>\n",
              "      <td>1</td>\n",
              "      <td>0</td>\n",
              "      <td>0</td>\n",
              "      <td>0</td>\n",
              "      <td>0</td>\n",
              "      <td>0</td>\n",
              "      <td>0</td>\n",
              "      <td>1</td>\n",
              "      <td>0</td>\n",
              "      <td>0</td>\n",
              "    </tr>\n",
              "    <tr>\n",
              "      <th>107</th>\n",
              "      <td>0</td>\n",
              "      <td>1</td>\n",
              "      <td>0</td>\n",
              "      <td>1</td>\n",
              "      <td>0</td>\n",
              "      <td>1</td>\n",
              "      <td>0</td>\n",
              "      <td>0</td>\n",
              "      <td>0</td>\n",
              "      <td>0</td>\n",
              "      <td>1</td>\n",
              "      <td>0</td>\n",
              "      <td>0</td>\n",
              "      <td>0</td>\n",
              "      <td>0</td>\n",
              "      <td>0</td>\n",
              "      <td>1</td>\n",
              "      <td>0</td>\n",
              "    </tr>\n",
              "    <tr>\n",
              "      <th>98</th>\n",
              "      <td>0</td>\n",
              "      <td>1</td>\n",
              "      <td>1</td>\n",
              "      <td>0</td>\n",
              "      <td>0</td>\n",
              "      <td>0</td>\n",
              "      <td>1</td>\n",
              "      <td>0</td>\n",
              "      <td>1</td>\n",
              "      <td>0</td>\n",
              "      <td>0</td>\n",
              "      <td>0</td>\n",
              "      <td>0</td>\n",
              "      <td>0</td>\n",
              "      <td>0</td>\n",
              "      <td>0</td>\n",
              "      <td>0</td>\n",
              "      <td>1</td>\n",
              "    </tr>\n",
              "    <tr>\n",
              "      <th>177</th>\n",
              "      <td>0</td>\n",
              "      <td>1</td>\n",
              "      <td>0</td>\n",
              "      <td>0</td>\n",
              "      <td>1</td>\n",
              "      <td>1</td>\n",
              "      <td>0</td>\n",
              "      <td>0</td>\n",
              "      <td>1</td>\n",
              "      <td>0</td>\n",
              "      <td>0</td>\n",
              "      <td>0</td>\n",
              "      <td>0</td>\n",
              "      <td>0</td>\n",
              "      <td>0</td>\n",
              "      <td>0</td>\n",
              "      <td>1</td>\n",
              "      <td>0</td>\n",
              "    </tr>\n",
              "  </tbody>\n",
              "</table>\n",
              "</div>\n",
              "      <button class=\"colab-df-convert\" onclick=\"convertToInteractive('df-ef2fd6e4-d423-47c7-b70a-d4ea3ef63576')\"\n",
              "              title=\"Convert this dataframe to an interactive table.\"\n",
              "              style=\"display:none;\">\n",
              "        \n",
              "  <svg xmlns=\"http://www.w3.org/2000/svg\" height=\"24px\"viewBox=\"0 0 24 24\"\n",
              "       width=\"24px\">\n",
              "    <path d=\"M0 0h24v24H0V0z\" fill=\"none\"/>\n",
              "    <path d=\"M18.56 5.44l.94 2.06.94-2.06 2.06-.94-2.06-.94-.94-2.06-.94 2.06-2.06.94zm-11 1L8.5 8.5l.94-2.06 2.06-.94-2.06-.94L8.5 2.5l-.94 2.06-2.06.94zm10 10l.94 2.06.94-2.06 2.06-.94-2.06-.94-.94-2.06-.94 2.06-2.06.94z\"/><path d=\"M17.41 7.96l-1.37-1.37c-.4-.4-.92-.59-1.43-.59-.52 0-1.04.2-1.43.59L10.3 9.45l-7.72 7.72c-.78.78-.78 2.05 0 2.83L4 21.41c.39.39.9.59 1.41.59.51 0 1.02-.2 1.41-.59l7.78-7.78 2.81-2.81c.8-.78.8-2.07 0-2.86zM5.41 20L4 18.59l7.72-7.72 1.47 1.35L5.41 20z\"/>\n",
              "  </svg>\n",
              "      </button>\n",
              "      \n",
              "  <style>\n",
              "    .colab-df-container {\n",
              "      display:flex;\n",
              "      flex-wrap:wrap;\n",
              "      gap: 12px;\n",
              "    }\n",
              "\n",
              "    .colab-df-convert {\n",
              "      background-color: #E8F0FE;\n",
              "      border: none;\n",
              "      border-radius: 50%;\n",
              "      cursor: pointer;\n",
              "      display: none;\n",
              "      fill: #1967D2;\n",
              "      height: 32px;\n",
              "      padding: 0 0 0 0;\n",
              "      width: 32px;\n",
              "    }\n",
              "\n",
              "    .colab-df-convert:hover {\n",
              "      background-color: #E2EBFA;\n",
              "      box-shadow: 0px 1px 2px rgba(60, 64, 67, 0.3), 0px 1px 3px 1px rgba(60, 64, 67, 0.15);\n",
              "      fill: #174EA6;\n",
              "    }\n",
              "\n",
              "    [theme=dark] .colab-df-convert {\n",
              "      background-color: #3B4455;\n",
              "      fill: #D2E3FC;\n",
              "    }\n",
              "\n",
              "    [theme=dark] .colab-df-convert:hover {\n",
              "      background-color: #434B5C;\n",
              "      box-shadow: 0px 1px 3px 1px rgba(0, 0, 0, 0.15);\n",
              "      filter: drop-shadow(0px 1px 2px rgba(0, 0, 0, 0.3));\n",
              "      fill: #FFFFFF;\n",
              "    }\n",
              "  </style>\n",
              "\n",
              "      <script>\n",
              "        const buttonEl =\n",
              "          document.querySelector('#df-ef2fd6e4-d423-47c7-b70a-d4ea3ef63576 button.colab-df-convert');\n",
              "        buttonEl.style.display =\n",
              "          google.colab.kernel.accessAllowed ? 'block' : 'none';\n",
              "\n",
              "        async function convertToInteractive(key) {\n",
              "          const element = document.querySelector('#df-ef2fd6e4-d423-47c7-b70a-d4ea3ef63576');\n",
              "          const dataTable =\n",
              "            await google.colab.kernel.invokeFunction('convertToInteractive',\n",
              "                                                     [key], {});\n",
              "          if (!dataTable) return;\n",
              "\n",
              "          const docLinkHtml = 'Like what you see? Visit the ' +\n",
              "            '<a target=\"_blank\" href=https://colab.research.google.com/notebooks/data_table.ipynb>data table notebook</a>'\n",
              "            + ' to learn more about interactive tables.';\n",
              "          element.innerHTML = '';\n",
              "          dataTable['output_type'] = 'display_data';\n",
              "          await google.colab.output.renderOutput(dataTable, element);\n",
              "          const docLink = document.createElement('div');\n",
              "          docLink.innerHTML = docLinkHtml;\n",
              "          element.appendChild(docLink);\n",
              "        }\n",
              "      </script>\n",
              "    </div>\n",
              "  </div>\n",
              "  "
            ]
          },
          "metadata": {},
          "execution_count": 25
        }
      ]
    },
    {
      "cell_type": "markdown",
      "source": [
        "## 3-2. SMOTE Technique \n",
        "Since the number of 'DrugY' is more than other types of drugs, oversampling is carried out to avoid overfitting."
      ],
      "metadata": {
        "id": "lff4zp6tUlZQ"
      }
    },
    {
      "cell_type": "code",
      "source": [
        "from imblearn.over_sampling import SMOTE\n",
        "X_train, y_train = SMOTE().fit_resample(X_train, y_train)"
      ],
      "metadata": {
        "id": "RtLvcI7YUb4a",
        "execution": {
          "iopub.status.busy": "2022-12-01T07:07:30.425515Z",
          "iopub.execute_input": "2022-12-01T07:07:30.426061Z",
          "iopub.status.idle": "2022-12-01T07:07:31.100743Z",
          "shell.execute_reply.started": "2022-12-01T07:07:30.426012Z",
          "shell.execute_reply": "2022-12-01T07:07:31.099386Z"
        },
        "trusted": true
      },
      "execution_count": 26,
      "outputs": []
    },
    {
      "cell_type": "code",
      "source": [
        "sns.set_theme(style=\"darkgrid\")\n",
        "sns.countplot(y=y_train, data=df, palette=\"mako_r\")\n",
        "plt.ylabel('Drug Type')\n",
        "plt.xlabel('Total')\n",
        "plt.show()"
      ],
      "metadata": {
        "id": "QlYIaegaUt-e",
        "execution": {
          "iopub.status.busy": "2022-12-01T07:07:32.186556Z",
          "iopub.execute_input": "2022-12-01T07:07:32.186972Z",
          "iopub.status.idle": "2022-12-01T07:07:32.483419Z",
          "shell.execute_reply.started": "2022-12-01T07:07:32.186940Z",
          "shell.execute_reply": "2022-12-01T07:07:32.482511Z"
        },
        "trusted": true,
        "colab": {
          "base_uri": "https://localhost:8080/",
          "height": 285
        },
        "outputId": "e1b86122-bda5-4c2e-9594-32c9868f67cf"
      },
      "execution_count": 27,
      "outputs": [
        {
          "output_type": "display_data",
          "data": {
            "text/plain": [
              "<Figure size 432x288 with 1 Axes>"
            ],
            "image/png": "[encoded data removed]"
          },
          "metadata": {}
        }
      ]
    },
    {
      "cell_type": "markdown",
      "source": [
        "As can be seen, the distrubtion of drug type are now balanced."
      ],
      "metadata": {
        "id": "ZEA3b7oYU5SZ"
      }
    },
    {
      "cell_type": "markdown",
      "source": [
        "#4. Model Training and Testing"
      ],
      "metadata": {
        "id": "2vJxY7YrwaZ_"
      }
    },
    {
      "cell_type": "markdown",
      "source": [
        "* Training and Testing using Decision  Tree, Random Forest, SVM, and Naive Bayes\n",
        "* Choose the model with the highest score\n"
      ],
      "metadata": {
        "id": "GOSg11gvwj3f"
      }
    },
    {
      "cell_type": "code",
      "source": [
        "train_scores = {} # train score list\n",
        "test_scores = {} # test score list"
      ],
      "metadata": {
        "id": "ummZH0hyunEV"
      },
      "execution_count": 28,
      "outputs": []
    },
    {
      "cell_type": "markdown",
      "source": [
        "##4-1. Decision Tree classifier"
      ],
      "metadata": {
        "id": "r7PP1xzErrCZ"
      }
    },
    {
      "cell_type": "code",
      "source": [
        "from sklearn import tree\n",
        "from sklearn.model_selection import cross_val_score\n",
        "\n",
        "tr = tree.DecisionTreeClassifier(random_state = 0)\n",
        "\n",
        "accuracies = cross_val_score(tr, X_train, y_train, cv=5)\n",
        "tr.fit(X_train,y_train)\n",
        "\n",
        "print(\"Train Score:\",np.mean(accuracies))\n",
        "print(\"Test Score:\",tr.score(X_test,y_test))"
      ],
      "metadata": {
        "colab": {
          "base_uri": "https://localhost:8080/"
        },
        "id": "MPUj3McorYwQ",
        "outputId": "d9c92523-bbdd-436a-e250-fbb9921605b0"
      },
      "execution_count": 29,
      "outputs": [
        {
          "output_type": "stream",
          "name": "stdout",
          "text": [
            "Train Score: 0.8721311475409836\n",
            "Test Score: 0.75\n"
          ]
        }
      ]
    },
    {
      "cell_type": "code",
      "source": [
        "train_scores[\"Decision Tree Train Score\"] = np.mean(accuracies)\n",
        "test_scores[\"Decision Tree Test Score\"] = tr.score(X_test,y_test)"
      ],
      "metadata": {
        "id": "kEpUA8nHusg3"
      },
      "execution_count": 30,
      "outputs": []
    },
    {
      "cell_type": "markdown",
      "source": [
        "##4-2. Random Forest classifier"
      ],
      "metadata": {
        "id": "GHi6Loxrru4q"
      }
    },
    {
      "cell_type": "code",
      "source": [
        "from sklearn.ensemble import RandomForestClassifier\n",
        "\n",
        "rf = RandomForestClassifier(random_state=0)\n",
        "\n",
        "accuracies = cross_val_score(rf, X_train, y_train, cv=5)\n",
        "rf.fit(X_train,y_train)\n",
        "\n",
        "print(\"Train Score:\",np.mean(accuracies))\n",
        "print(\"Test Score:\",rf.score(X_test,y_test))"
      ],
      "metadata": {
        "colab": {
          "base_uri": "https://localhost:8080/"
        },
        "id": "4N4Go_Otp-uT",
        "outputId": "9c31f3c5-891c-47e9-9def-652de1800f29"
      },
      "execution_count": 31,
      "outputs": [
        {
          "output_type": "stream",
          "name": "stdout",
          "text": [
            "Train Score: 0.8655737704918032\n",
            "Test Score: 0.8333333333333334\n"
          ]
        }
      ]
    },
    {
      "cell_type": "code",
      "source": [
        "train_scores[\"Random Forest Train Score\"] = np.mean(accuracies)\n",
        "test_scores[\"Random Forest Test Score\"] = rf.score(X_test,y_test)"
      ],
      "metadata": {
        "id": "_yR6Syktu-ph"
      },
      "execution_count": 32,
      "outputs": []
    },
    {
      "cell_type": "markdown",
      "source": [
        "##4-3. SVM classifier"
      ],
      "metadata": {
        "id": "UfCLQjJQrxe5"
      }
    },
    {
      "cell_type": "code",
      "source": [
        "from sklearn.svm import SVC\n",
        "\n",
        "svc = SVC(random_state = 0)\n",
        "\n",
        "accuracies = cross_val_score(svc, X_train, y_train, cv=5)\n",
        "svc.fit(X_train,y_train)\n",
        "\n",
        "print(\"Train Score:\",np.mean(accuracies))\n",
        "print(\"Test Score:\",svc.score(X_test,y_test))"
      ],
      "metadata": {
        "colab": {
          "base_uri": "https://localhost:8080/"
        },
        "id": "Bw3evNjaqElE",
        "outputId": "7c08334b-e6ba-47ed-9169-da923bd91edb"
      },
      "execution_count": 33,
      "outputs": [
        {
          "output_type": "stream",
          "name": "stdout",
          "text": [
            "Train Score: 0.35737704918032787\n",
            "Test Score: 0.5\n"
          ]
        }
      ]
    },
    {
      "cell_type": "code",
      "source": [
        "train_scores[\"SVM Train Score\"] = np.mean(accuracies)\n",
        "test_scores[\"SVM Test Score\"] = svc.score(X_test,y_test)"
      ],
      "metadata": {
        "id": "0M_GBbAZvEm1"
      },
      "execution_count": 34,
      "outputs": []
    },
    {
      "cell_type": "markdown",
      "source": [
        "##4-4. Naive Bayes classifier"
      ],
      "metadata": {
        "id": "zjMaZosrtCmY"
      }
    },
    {
      "cell_type": "code",
      "source": [
        "from sklearn.naive_bayes import GaussianNB\n",
        "\n",
        "nb = GaussianNB()\n",
        "\n",
        "accuracies = cross_val_score(nb, X_train, y_train, cv=5)\n",
        "nb.fit(X_train, y_train)\n",
        "\n",
        "print(\"Train Score:\",np.mean(accuracies))\n",
        "print(\"Test Score:\",nb.score(X_test,y_test))"
      ],
      "metadata": {
        "colab": {
          "base_uri": "https://localhost:8080/"
        },
        "id": "FwBdkcTQs1ja",
        "outputId": "2c21797f-a15d-4265-80d4-735a6d820fd0"
      },
      "execution_count": 35,
      "outputs": [
        {
          "output_type": "stream",
          "name": "stdout",
          "text": [
            "Train Score: 0.7672131147540984\n",
            "Test Score: 0.7\n"
          ]
        }
      ]
    },
    {
      "cell_type": "code",
      "source": [
        "train_scores[\"Naive Bayes Train Score\"] = np.mean(accuracies)\n",
        "test_scores[\"Naive Bayes Test Score\"] = nb.score(X_test,y_test)"
      ],
      "metadata": {
        "id": "0-BLeoB4vKW4"
      },
      "execution_count": 36,
      "outputs": []
    },
    {
      "cell_type": "markdown",
      "source": [
        "##4-5. Compare the scores"
      ],
      "metadata": {
        "id": "fSJOzoCGudk_"
      }
    },
    {
      "cell_type": "markdown",
      "source": [
        "Compare the train scores"
      ],
      "metadata": {
        "id": "xbjgLtkOxZjj"
      }
    },
    {
      "cell_type": "code",
      "source": [
        "df_result_train = pd.DataFrame.from_dict(train_scores,orient = \"index\",columns=[\"Score\"])\n",
        "df_result_train"
      ],
      "metadata": {
        "colab": {
          "base_uri": "https://localhost:8080/",
          "height": 175
        },
        "id": "WoHt_7tStHVi",
        "outputId": "27a2e73f-d584-4911-d300-60e1b5d052b2"
      },
      "execution_count": 37,
      "outputs": [
        {
          "output_type": "execute_result",
          "data": {
            "text/plain": [
              "                              Score\n",
              "Decision Tree Train Score  0.872131\n",
              "Random Forest Train Score  0.865574\n",
              "SVM Train Score            0.357377\n",
              "Naive Bayes Train Score    0.767213"
            ],
            "text/html": [
              "\n",
              "  <div id=\"df-aa325bf0-01b9-4b8e-bfe1-1f31dabe9625\">\n",
              "    <div class=\"colab-df-container\">\n",
              "      <div>\n",
              "<style scoped>\n",
              "    .dataframe tbody tr th:only-of-type {\n",
              "        vertical-align: middle;\n",
              "    }\n",
              "\n",
              "    .dataframe tbody tr th {\n",
              "        vertical-align: top;\n",
              "    }\n",
              "\n",
              "    .dataframe thead th {\n",
              "        text-align: right;\n",
              "    }\n",
              "</style>\n",
              "<table border=\"1\" class=\"dataframe\">\n",
              "  <thead>\n",
              "    <tr style=\"text-align: right;\">\n",
              "      <th></th>\n",
              "      <th>Score</th>\n",
              "    </tr>\n",
              "  </thead>\n",
              "  <tbody>\n",
              "    <tr>\n",
              "      <th>Decision Tree Train Score</th>\n",
              "      <td>0.872131</td>\n",
              "    </tr>\n",
              "    <tr>\n",
              "      <th>Random Forest Train Score</th>\n",
              "      <td>0.865574</td>\n",
              "    </tr>\n",
              "    <tr>\n",
              "      <th>SVM Train Score</th>\n",
              "      <td>0.357377</td>\n",
              "    </tr>\n",
              "    <tr>\n",
              "      <th>Naive Bayes Train Score</th>\n",
              "      <td>0.767213</td>\n",
              "    </tr>\n",
              "  </tbody>\n",
              "</table>\n",
              "</div>\n",
              "      <button class=\"colab-df-convert\" onclick=\"convertToInteractive('df-aa325bf0-01b9-4b8e-bfe1-1f31dabe9625')\"\n",
              "              title=\"Convert this dataframe to an interactive table.\"\n",
              "              style=\"display:none;\">\n",
              "        \n",
              "  <svg xmlns=\"http://www.w3.org/2000/svg\" height=\"24px\"viewBox=\"0 0 24 24\"\n",
              "       width=\"24px\">\n",
              "    <path d=\"M0 0h24v24H0V0z\" fill=\"none\"/>\n",
              "    <path d=\"M18.56 5.44l.94 2.06.94-2.06 2.06-.94-2.06-.94-.94-2.06-.94 2.06-2.06.94zm-11 1L8.5 8.5l.94-2.06 2.06-.94-2.06-.94L8.5 2.5l-.94 2.06-2.06.94zm10 10l.94 2.06.94-2.06 2.06-.94-2.06-.94-.94-2.06-.94 2.06-2.06.94z\"/><path d=\"M17.41 7.96l-1.37-1.37c-.4-.4-.92-.59-1.43-.59-.52 0-1.04.2-1.43.59L10.3 9.45l-7.72 7.72c-.78.78-.78 2.05 0 2.83L4 21.41c.39.39.9.59 1.41.59.51 0 1.02-.2 1.41-.59l7.78-7.78 2.81-2.81c.8-.78.8-2.07 0-2.86zM5.41 20L4 18.59l7.72-7.72 1.47 1.35L5.41 20z\"/>\n",
              "  </svg>\n",
              "      </button>\n",
              "      \n",
              "  <style>\n",
              "    .colab-df-container {\n",
              "      display:flex;\n",
              "      flex-wrap:wrap;\n",
              "      gap: 12px;\n",
              "    }\n",
              "\n",
              "    .colab-df-convert {\n",
              "      background-color: #E8F0FE;\n",
              "      border: none;\n",
              "      border-radius: 50%;\n",
              "      cursor: pointer;\n",
              "      display: none;\n",
              "      fill: #1967D2;\n",
              "      height: 32px;\n",
              "      padding: 0 0 0 0;\n",
              "      width: 32px;\n",
              "    }\n",
              "\n",
              "    .colab-df-convert:hover {\n",
              "      background-color: #E2EBFA;\n",
              "      box-shadow: 0px 1px 2px rgba(60, 64, 67, 0.3), 0px 1px 3px 1px rgba(60, 64, 67, 0.15);\n",
              "      fill: #174EA6;\n",
              "    }\n",
              "\n",
              "    [theme=dark] .colab-df-convert {\n",
              "      background-color: #3B4455;\n",
              "      fill: #D2E3FC;\n",
              "    }\n",
              "\n",
              "    [theme=dark] .colab-df-convert:hover {\n",
              "      background-color: #434B5C;\n",
              "      box-shadow: 0px 1px 3px 1px rgba(0, 0, 0, 0.15);\n",
              "      filter: drop-shadow(0px 1px 2px rgba(0, 0, 0, 0.3));\n",
              "      fill: #FFFFFF;\n",
              "    }\n",
              "  </style>\n",
              "\n",
              "      <script>\n",
              "        const buttonEl =\n",
              "          document.querySelector('#df-aa325bf0-01b9-4b8e-bfe1-1f31dabe9625 button.colab-df-convert');\n",
              "        buttonEl.style.display =\n",
              "          google.colab.kernel.accessAllowed ? 'block' : 'none';\n",
              "\n",
              "        async function convertToInteractive(key) {\n",
              "          const element = document.querySelector('#df-aa325bf0-01b9-4b8e-bfe1-1f31dabe9625');\n",
              "          const dataTable =\n",
              "            await google.colab.kernel.invokeFunction('convertToInteractive',\n",
              "                                                     [key], {});\n",
              "          if (!dataTable) return;\n",
              "\n",
              "          const docLinkHtml = 'Like what you see? Visit the ' +\n",
              "            '<a target=\"_blank\" href=https://colab.research.google.com/notebooks/data_table.ipynb>data table notebook</a>'\n",
              "            + ' to learn more about interactive tables.';\n",
              "          element.innerHTML = '';\n",
              "          dataTable['output_type'] = 'display_data';\n",
              "          await google.colab.output.renderOutput(dataTable, element);\n",
              "          const docLink = document.createElement('div');\n",
              "          docLink.innerHTML = docLinkHtml;\n",
              "          element.appendChild(docLink);\n",
              "        }\n",
              "      </script>\n",
              "    </div>\n",
              "  </div>\n",
              "  "
            ]
          },
          "metadata": {},
          "execution_count": 37
        }
      ]
    },
    {
      "cell_type": "markdown",
      "source": [
        "Compare the test scores"
      ],
      "metadata": {
        "id": "N-z6js2QxbNJ"
      }
    },
    {
      "cell_type": "code",
      "source": [
        "df_result_test = pd.DataFrame.from_dict(test_scores,orient = \"index\",columns=[\"Score\"])\n",
        "df_result_test"
      ],
      "metadata": {
        "colab": {
          "base_uri": "https://localhost:8080/",
          "height": 175
        },
        "id": "_RiWWrxdvPTn",
        "outputId": "a1911231-24a4-4983-d5ce-1a0d69287f47"
      },
      "execution_count": 38,
      "outputs": [
        {
          "output_type": "execute_result",
          "data": {
            "text/plain": [
              "                             Score\n",
              "Decision Tree Test Score  0.750000\n",
              "Random Forest Test Score  0.833333\n",
              "SVM Test Score            0.500000\n",
              "Naive Bayes Test Score    0.700000"
            ],
            "text/html": [
              "\n",
              "  <div id=\"df-044bb449-0084-4ee0-a79b-88f22b2fef8d\">\n",
              "    <div class=\"colab-df-container\">\n",
              "      <div>\n",
              "<style scoped>\n",
              "    .dataframe tbody tr th:only-of-type {\n",
              "        vertical-align: middle;\n",
              "    }\n",
              "\n",
              "    .dataframe tbody tr th {\n",
              "        vertical-align: top;\n",
              "    }\n",
              "\n",
              "    .dataframe thead th {\n",
              "        text-align: right;\n",
              "    }\n",
              "</style>\n",
              "<table border=\"1\" class=\"dataframe\">\n",
              "  <thead>\n",
              "    <tr style=\"text-align: right;\">\n",
              "      <th></th>\n",
              "      <th>Score</th>\n",
              "    </tr>\n",
              "  </thead>\n",
              "  <tbody>\n",
              "    <tr>\n",
              "      <th>Decision Tree Test Score</th>\n",
              "      <td>0.750000</td>\n",
              "    </tr>\n",
              "    <tr>\n",
              "      <th>Random Forest Test Score</th>\n",
              "      <td>0.833333</td>\n",
              "    </tr>\n",
              "    <tr>\n",
              "      <th>SVM Test Score</th>\n",
              "      <td>0.500000</td>\n",
              "    </tr>\n",
              "    <tr>\n",
              "      <th>Naive Bayes Test Score</th>\n",
              "      <td>0.700000</td>\n",
              "    </tr>\n",
              "  </tbody>\n",
              "</table>\n",
              "</div>\n",
              "      <button class=\"colab-df-convert\" onclick=\"convertToInteractive('df-044bb449-0084-4ee0-a79b-88f22b2fef8d')\"\n",
              "              title=\"Convert this dataframe to an interactive table.\"\n",
              "              style=\"display:none;\">\n",
              "        \n",
              "  <svg xmlns=\"http://www.w3.org/2000/svg\" height=\"24px\"viewBox=\"0 0 24 24\"\n",
              "       width=\"24px\">\n",
              "    <path d=\"M0 0h24v24H0V0z\" fill=\"none\"/>\n",
              "    <path d=\"M18.56 5.44l.94 2.06.94-2.06 2.06-.94-2.06-.94-.94-2.06-.94 2.06-2.06.94zm-11 1L8.5 8.5l.94-2.06 2.06-.94-2.06-.94L8.5 2.5l-.94 2.06-2.06.94zm10 10l.94 2.06.94-2.06 2.06-.94-2.06-.94-.94-2.06-.94 2.06-2.06.94z\"/><path d=\"M17.41 7.96l-1.37-1.37c-.4-.4-.92-.59-1.43-.59-.52 0-1.04.2-1.43.59L10.3 9.45l-7.72 7.72c-.78.78-.78 2.05 0 2.83L4 21.41c.39.39.9.59 1.41.59.51 0 1.02-.2 1.41-.59l7.78-7.78 2.81-2.81c.8-.78.8-2.07 0-2.86zM5.41 20L4 18.59l7.72-7.72 1.47 1.35L5.41 20z\"/>\n",
              "  </svg>\n",
              "      </button>\n",
              "      \n",
              "  <style>\n",
              "    .colab-df-container {\n",
              "      display:flex;\n",
              "      flex-wrap:wrap;\n",
              "      gap: 12px;\n",
              "    }\n",
              "\n",
              "    .colab-df-convert {\n",
              "      background-color: #E8F0FE;\n",
              "      border: none;\n",
              "      border-radius: 50%;\n",
              "      cursor: pointer;\n",
              "      display: none;\n",
              "      fill: #1967D2;\n",
              "      height: 32px;\n",
              "      padding: 0 0 0 0;\n",
              "      width: 32px;\n",
              "    }\n",
              "\n",
              "    .colab-df-convert:hover {\n",
              "      background-color: #E2EBFA;\n",
              "      box-shadow: 0px 1px 2px rgba(60, 64, 67, 0.3), 0px 1px 3px 1px rgba(60, 64, 67, 0.15);\n",
              "      fill: #174EA6;\n",
              "    }\n",
              "\n",
              "    [theme=dark] .colab-df-convert {\n",
              "      background-color: #3B4455;\n",
              "      fill: #D2E3FC;\n",
              "    }\n",
              "\n",
              "    [theme=dark] .colab-df-convert:hover {\n",
              "      background-color: #434B5C;\n",
              "      box-shadow: 0px 1px 3px 1px rgba(0, 0, 0, 0.15);\n",
              "      filter: drop-shadow(0px 1px 2px rgba(0, 0, 0, 0.3));\n",
              "      fill: #FFFFFF;\n",
              "    }\n",
              "  </style>\n",
              "\n",
              "      <script>\n",
              "        const buttonEl =\n",
              "          document.querySelector('#df-044bb449-0084-4ee0-a79b-88f22b2fef8d button.colab-df-convert');\n",
              "        buttonEl.style.display =\n",
              "          google.colab.kernel.accessAllowed ? 'block' : 'none';\n",
              "\n",
              "        async function convertToInteractive(key) {\n",
              "          const element = document.querySelector('#df-044bb449-0084-4ee0-a79b-88f22b2fef8d');\n",
              "          const dataTable =\n",
              "            await google.colab.kernel.invokeFunction('convertToInteractive',\n",
              "                                                     [key], {});\n",
              "          if (!dataTable) return;\n",
              "\n",
              "          const docLinkHtml = 'Like what you see? Visit the ' +\n",
              "            '<a target=\"_blank\" href=https://colab.research.google.com/notebooks/data_table.ipynb>data table notebook</a>'\n",
              "            + ' to learn more about interactive tables.';\n",
              "          element.innerHTML = '';\n",
              "          dataTable['output_type'] = 'display_data';\n",
              "          await google.colab.output.renderOutput(dataTable, element);\n",
              "          const docLink = document.createElement('div');\n",
              "          docLink.innerHTML = docLinkHtml;\n",
              "          element.appendChild(docLink);\n",
              "        }\n",
              "      </script>\n",
              "    </div>\n",
              "  </div>\n",
              "  "
            ]
          },
          "metadata": {},
          "execution_count": 38
        }
      ]
    },
    {
      "cell_type": "markdown",
      "source": [
        "Graphical representation"
      ],
      "metadata": {
        "id": "9sX3-TD-xnVi"
      }
    },
    {
      "cell_type": "code",
      "source": [
        "fig,ax = plt.subplots(1,2,figsize=(20,5))\n",
        "sns.barplot(x = df_result_train.index,y = df_result_train.Score,ax = ax[0])\n",
        "sns.barplot(x = df_result_test.index,y = df_result_test.Score,ax = ax[1])\n",
        "ax[0].set_xticklabels(df_result_train.index,rotation = 75)\n",
        "ax[1].set_xticklabels(df_result_test.index,rotation = 75)\n",
        "plt.show()"
      ],
      "metadata": {
        "colab": {
          "base_uri": "https://localhost:8080/",
          "height": 458
        },
        "id": "BlbIP76Uvnl_",
        "outputId": "f3e3bc84-7199-4002-869c-2a5831a28b6f"
      },
      "execution_count": 39,
      "outputs": [
        {
          "output_type": "display_data",
          "data": {
            "text/plain": [
              "<Figure size 1440x360 with 2 Axes>"
            ],
            "image/png": "[encoded data removed]"
          },
          "metadata": {}
        }
      ]
    },
    {
      "cell_type": "markdown",
      "source": [
        "Select Random Forest classifier because it has the highest cross validation score."
      ],
      "metadata": {
        "id": "Zn_GPpD-wART"
      }
    },
    {
      "cell_type": "markdown",
      "source": [
        "#5. Report Model performance"
      ],
      "metadata": {
        "id": "Fst_XTUdyH8f"
      }
    },
    {
      "cell_type": "markdown",
      "source": [
        "Report the performance of Random Forest classifier using evaluation metrics"
      ],
      "metadata": {
        "id": "vlWNNgSVx0XG"
      }
    },
    {
      "cell_type": "markdown",
      "source": [
        "###5-1. Accuracy"
      ],
      "metadata": {
        "id": "f1VMXrtt5Pj-"
      }
    },
    {
      "cell_type": "code",
      "source": [
        "from sklearn.metrics import accuracy_score, confusion_matrix, precision_score, recall_score\n",
        "\n",
        "y_pred = rf.predict(X_test)\n",
        "acc = accuracy_score(y_test, y_pred)\n",
        "\n",
        "print(\"Accuracy: \", acc)"
      ],
      "metadata": {
        "colab": {
          "base_uri": "https://localhost:8080/"
        },
        "id": "eHwmFCbzvqaw",
        "outputId": "0beb7b99-76b7-4f56-a6e7-ff3fa762075f"
      },
      "execution_count": 40,
      "outputs": [
        {
          "output_type": "stream",
          "name": "stdout",
          "text": [
            "Accuracy:  0.8333333333333334\n"
          ]
        }
      ]
    },
    {
      "cell_type": "markdown",
      "source": [
        "###5-2. confusion matrix"
      ],
      "metadata": {
        "id": "ei6ilOVt5Sqi"
      }
    },
    {
      "cell_type": "code",
      "source": [
        "import seaborn as sns\n",
        "\n",
        "cm = pd.DataFrame(confusion_matrix(y_test, y_pred))\n",
        "sns.heatmap(cm, annot=True)"
      ],
      "metadata": {
        "colab": {
          "base_uri": "https://localhost:8080/",
          "height": 286
        },
        "id": "RXJs-1_MEWEY",
        "outputId": "f5c93ff2-fcef-46b2-be5f-97f5fdd8219e"
      },
      "execution_count": 41,
      "outputs": [
        {
          "output_type": "execute_result",
          "data": {
            "text/plain": [
              "<matplotlib.axes._subplots.AxesSubplot at 0x7f2789cd09d0>"
            ]
          },
          "metadata": {},
          "execution_count": 41
        },
        {
          "output_type": "display_data",
          "data": {
            "text/plain": [
              "<Figure size 432x288 with 2 Axes>"
            ],
            "image/png": "[encoded data removed]"
          },
          "metadata": {}
        }
      ]
    },
    {
      "cell_type": "markdown",
      "source": [
        "###5-3. precision"
      ],
      "metadata": {
        "id": "V7-kUyz-5U-F"
      }
    },
    {
      "cell_type": "code",
      "source": [
        "prec = precision_score(y_test, y_pred, average='macro')\n",
        "print(\"Precision: \", prec)"
      ],
      "metadata": {
        "colab": {
          "base_uri": "https://localhost:8080/"
        },
        "id": "gTV7U30UydLg",
        "outputId": "3f1c9a2a-2988-4dfb-d05a-c01a2e07fa6d"
      },
      "execution_count": 42,
      "outputs": [
        {
          "output_type": "stream",
          "name": "stdout",
          "text": [
            "Precision:  0.7779448621553884\n"
          ]
        }
      ]
    },
    {
      "cell_type": "markdown",
      "source": [
        "###5-4. Recall"
      ],
      "metadata": {
        "id": "ACtT4_3Z5XEt"
      }
    },
    {
      "cell_type": "code",
      "source": [
        "rec = recall_score(y_test, y_pred, average='macro')\n",
        "print(\"Recall: \", rec)"
      ],
      "metadata": {
        "colab": {
          "base_uri": "https://localhost:8080/"
        },
        "id": "q-T-eVHTyjWw",
        "outputId": "9073ddd6-3e4b-4c1b-c06a-8301fc8eeabe"
      },
      "execution_count": 43,
      "outputs": [
        {
          "output_type": "stream",
          "name": "stdout",
          "text": [
            "Recall:  0.9244444444444444\n"
          ]
        }
      ]
    },
    {
      "cell_type": "markdown",
      "source": [
        "###5-5. F1-score"
      ],
      "metadata": {
        "id": "xgRZ8RVtDygk"
      }
    },
    {
      "cell_type": "code",
      "source": [
        "from sklearn.metrics import f1_score\n",
        "f1 = f1_score(y_test, y_pred, average='macro')\n",
        "print(\"F1 score: \", f1)"
      ],
      "metadata": {
        "colab": {
          "base_uri": "https://localhost:8080/"
        },
        "id": "efadzaGBDuPK",
        "outputId": "f86a06b5-4021-40bf-ff8e-2f020e083f9a"
      },
      "execution_count": 44,
      "outputs": [
        {
          "output_type": "stream",
          "name": "stdout",
          "text": [
            "F1 score:  0.8340311740311741\n"
          ]
        }
      ]
    },
    {
      "cell_type": "markdown",
      "source": [
        "###5-6. ROC curves"
      ],
      "metadata": {
        "id": "r9M5-TCY5Z0b"
      }
    },
    {
      "cell_type": "code",
      "source": [
        "from sklearn.preprocessing import label_binarize\n",
        "from sklearn.metrics import auc, roc_auc_score, roc_curve, precision_recall_curve\n",
        "from itertools import cycle\n",
        "\n",
        "y_score = rf.predict_proba(X_test)\n",
        "y_test_binary = label_binarize(y_test, classes=['DrugY', 'drugX', 'drugB', 'drugA', 'drugC'])\n",
        "n_classes = y_test_binary.shape[1]\n",
        "\n",
        "fpr = dict()\n",
        "tpr = dict()\n",
        "roc_auc = dict()\n",
        "\n",
        "colors = cycle(['red', 'orange', 'yellow', 'green', 'blue'])\n",
        "\n",
        "for i, color in zip(range(n_classes), colors):\n",
        "  fpr[i], tpr[i], _ = roc_curve(y_test_binary[:, i], y_score[:, i])\n",
        "  plt.plot(fpr[i], tpr[i], color=color, lw=2)\n",
        "  print('AUC for Class {}: {}'.format(i+1, auc(fpr[i], tpr[i])))\n",
        "\n",
        "plt.plot([0, 1], [0, 1], color='navy', lw=2, linestyle='--')\n",
        "plt.xlim([0.0, 1.0])\n",
        "plt.ylim([0.0, 1.05])\n",
        "plt.xlabel('False Positive Rate')\n",
        "plt.ylabel('True Positive Rate')\n",
        "plt.title('ROC Curves')\n",
        "plt.show()"
      ],
      "metadata": {
        "colab": {
          "base_uri": "https://localhost:8080/",
          "height": 392
        },
        "id": "uoY3yCE-0xs4",
        "outputId": "543d684d-ee2b-4320-d7c6-18b773556c33"
      },
      "execution_count": 45,
      "outputs": [
        {
          "output_type": "stream",
          "name": "stdout",
          "text": [
            "AUC for Class 1: 0.8111111111111113\n",
            "AUC for Class 2: 0.376984126984127\n",
            "AUC for Class 3: 0.9883040935672516\n",
            "AUC for Class 4: 0.28181818181818186\n",
            "AUC for Class 5: 0.3214285714285714\n"
          ]
        },
        {
          "output_type": "display_data",
          "data": {
            "text/plain": [
              "<Figure size 432x288 with 1 Axes>"
            ],
            "image/png": "[encoded data removed]"
          },
          "metadata": {}
        }
      ]
    },
    {
      "cell_type": "markdown",
      "source": [
        "###5-7. PR curves"
      ],
      "metadata": {
        "id": "AU2O8a1s7tP5"
      }
    },
    {
      "cell_type": "code",
      "source": [
        "from sklearn.metrics import precision_recall_curve\n",
        "from sklearn.metrics import average_precision_score\n",
        "from sklearn.metrics import PrecisionRecallDisplay\n",
        "\n",
        "# For each class\n",
        "precision = dict()\n",
        "recall = dict()\n",
        "average_precision = dict()\n",
        "for i in range(n_classes):\n",
        "    precision[i], recall[i], _ = precision_recall_curve(y_test_binary[:, i], y_score[:, i])\n",
        "    average_precision[i] = average_precision_score(y_test_binary[:, i], y_score[:, i])\n",
        "\n",
        "# A \"micro-average\": quantifying score on all classes jointly\n",
        "precision[\"micro\"], recall[\"micro\"], _ = precision_recall_curve(\n",
        "    y_test_binary.ravel(), y_score.ravel()\n",
        ")\n",
        "average_precision[\"micro\"] = average_precision_score(y_test_binary, y_score, average=\"micro\")"
      ],
      "metadata": {
        "id": "vpuwHQ-Z3Rx3"
      },
      "execution_count": 46,
      "outputs": []
    },
    {
      "cell_type": "code",
      "source": [
        "import matplotlib.pyplot as plt\n",
        "\n",
        "_, ax = plt.subplots(figsize=(7, 8))\n",
        "\n",
        "for i, color in zip(range(n_classes), colors):\n",
        "    display = PrecisionRecallDisplay(\n",
        "        recall=recall[i],\n",
        "        precision=precision[i],\n",
        "        average_precision=average_precision[i],\n",
        "    )\n",
        "    display.plot(ax=ax, name=f\"Precision-recall for class {i}\", color=color)\n",
        "\n",
        "\n",
        "handles, labels = display.ax_.get_legend_handles_labels()\n",
        "ax.set_xlim([0.0, 1.0])\n",
        "ax.set_ylim([0.0, 1.05])\n",
        "ax.legend(handles=handles, labels=labels, loc=\"best\")\n",
        "ax.set_title(\"Extension of Precision-Recall curve to multi-class\")\n",
        "\n",
        "plt.show()"
      ],
      "metadata": {
        "colab": {
          "base_uri": "https://localhost:8080/",
          "height": 518
        },
        "id": "ologpbb3804A",
        "outputId": "e9c86040-8ef8-4a27-ddb5-1efbbf32f5bb"
      },
      "execution_count": 47,
      "outputs": [
        {
          "output_type": "display_data",
          "data": {
            "text/plain": [
              "<Figure size 504x576 with 1 Axes>"
            ],
            "image/png": "[encoded data removed]"
          },
          "metadata": {}
        }
      ]
    },
    {
      "cell_type": "code",
      "source": [
        "display = PrecisionRecallDisplay(\n",
        "    recall=recall[\"micro\"],\n",
        "    precision=precision[\"micro\"],\n",
        "    average_precision=average_precision[\"micro\"],\n",
        ")\n",
        "display.plot()\n",
        "_ = display.ax_.set_title(\"Average over all classes\")"
      ],
      "metadata": {
        "colab": {
          "base_uri": "https://localhost:8080/",
          "height": 301
        },
        "id": "j96ftnPE8xwD",
        "outputId": "4a2f1fe9-290d-48b3-8cde-8e0a07ead670"
      },
      "execution_count": 48,
      "outputs": [
        {
          "output_type": "display_data",
          "data": {
            "text/plain": [
              "<Figure size 432x288 with 1 Axes>"
            ],
            "image/png": "[encoded data removed]"
          },
          "metadata": {}
        }
      ]
    },
    {
      "cell_type": "markdown",
      "source": [
        "#6. Feature Ranking"
      ],
      "metadata": {
        "id": "tDTfoUg1Mjnz"
      }
    },
    {
      "cell_type": "code",
      "source": [
        "import matplotlib.pyplot as plt\n",
        "\n",
        "feature_imp = pd.Series(rf.feature_importances_, index=X_train.columns).sort_values(ascending=False)\n",
        "\n",
        "plt.figure(figsize=(10,6))\n",
        "sns.barplot(x=feature_imp, y=feature_imp.index)\n",
        "# Add labels to your graph\n",
        "plt.xlabel('Feature Importance Score')\n",
        "plt.ylabel('Features')\n",
        "plt.title(\"Visualizing Important Features\")\n",
        "plt.tight_layout()"
      ],
      "metadata": {
        "colab": {
          "base_uri": "https://localhost:8080/",
          "height": 437
        },
        "id": "ml1eZ6ZtMnjn",
        "outputId": "003d91fd-e7d6-4899-d9a4-5feaa3b392f5"
      },
      "execution_count": 49,
      "outputs": [
        {
          "output_type": "display_data",
          "data": {
            "text/plain": [
              "<Figure size 720x432 with 1 Axes>"
            ],
            "image/png": "[encoded data removed]"
          },
          "metadata": {}
        }
      ]
    },
    {
      "cell_type": "markdown",
      "source": [
        "The BP_HIGH is the most important feature. Also, the second one and the third one is related to blood pressure. Therefore, the blood pressure is the most influential parameter that affects the type of drugs."
      ],
      "metadata": {
        "id": "D6xLP4HtNP3I"
      }
    },
    {
      "cell_type": "markdown",
      "source": [
        "#7. Hyperparameter Tuning"
      ],
      "metadata": {
        "id": "xn1Xo0faOH4k"
      }
    },
    {
      "cell_type": "code",
      "source": [
        "from sklearn.model_selection import GridSearchCV\n",
        "\n",
        "params ={\n",
        "    'n_estimators':[50, 80, 100, 200],\n",
        "    'criterion': ['gini', 'entropy'],\n",
        "    'max_features' : [4, 5, 6],\n",
        "    'max_depth' : [3, 5, 8, 10],\n",
        "    'min_samples_split' : [8, 16, 20]\n",
        "}\n"
      ],
      "metadata": {
        "id": "2Qjz5CFJOLWy"
      },
      "execution_count": 50,
      "outputs": []
    },
    {
      "cell_type": "code",
      "source": [
        "rf2 = RandomForestClassifier(random_state=0, n_jobs=-1)\n",
        "grid_cv = GridSearchCV(rf2, param_grid=params, cv=3, n_jobs=-1)\n",
        "grid_cv.fit(X_train,y_train)"
      ],
      "metadata": {
        "colab": {
          "base_uri": "https://localhost:8080/"
        },
        "id": "SPdkO7JmOlye",
        "outputId": "2ab2f1ac-2b97-4314-c9c4-a6bbea5a3c50"
      },
      "execution_count": 51,
      "outputs": [
        {
          "output_type": "execute_result",
          "data": {
            "text/plain": [
              "GridSearchCV(cv=3, estimator=RandomForestClassifier(n_jobs=-1, random_state=0),\n",
              "             n_jobs=-1,\n",
              "             param_grid={'criterion': ['gini', 'entropy'],\n",
              "                         'max_depth': [3, 5, 8, 10], 'max_features': [4, 5, 6],\n",
              "                         'min_samples_split': [8, 16, 20],\n",
              "                         'n_estimators': [50, 80, 100, 200]})"
            ]
          },
          "metadata": {},
          "execution_count": 51
        }
      ]
    },
    {
      "cell_type": "code",
      "source": [
        "print('Best Parameters: ', grid_cv.best_params_)\n",
        "print('Best Accuracy: ', grid_cv.best_score_)"
      ],
      "metadata": {
        "colab": {
          "base_uri": "https://localhost:8080/"
        },
        "id": "X2jhmGXuPqth",
        "outputId": "66c7d1db-5bb3-403b-d18a-d42f3c7e2eff"
      },
      "execution_count": 52,
      "outputs": [
        {
          "output_type": "stream",
          "name": "stdout",
          "text": [
            "Best Parameters:  {'criterion': 'gini', 'max_depth': 8, 'max_features': 5, 'min_samples_split': 8, 'n_estimators': 80}\n",
            "Best Accuracy:  0.9114735002912057\n"
          ]
        }
      ]
    },
    {
      "cell_type": "code",
      "source": [
        "# Random forest model training again with optimal parameters obtained through GridSearchCV\n",
        "new_rf = RandomForestClassifier(criterion = 'entropy',\n",
        "                                max_depth = 10,\n",
        "                                max_features = 4,\n",
        "                                min_samples_split = 8,\n",
        "                                n_estimators = 50,\n",
        "                                random_state = 1,\n",
        "                                n_jobs = -1)\n",
        "\n",
        "new_rf.fit(X_train, y_train)\n",
        "\n",
        "new_accuracies = cross_val_score(new_rf, X_train, y_train, cv=5)\n",
        "print(\"Train Score:\",np.mean(new_accuracies))\n",
        "print(\"Test Score:\",new_rf.score(X_test,y_test))"
      ],
      "metadata": {
        "colab": {
          "base_uri": "https://localhost:8080/"
        },
        "id": "MZHJGVgcQJCe",
        "outputId": "f4085c13-074a-4833-df35-b1b92ae6f076"
      },
      "execution_count": 53,
      "outputs": [
        {
          "output_type": "stream",
          "name": "stdout",
          "text": [
            "Train Score: 0.9049180327868852\n",
            "Test Score: 0.85\n"
          ]
        }
      ]
    },
    {
      "cell_type": "markdown",
      "source": [
        "The accuary of model with best parameters is about 0.902. The initial accuaracy of random forest model is about 0.879. Therefore, after hyperparameter tuning, we can get the better model."
      ],
      "metadata": {
        "id": "_LWV-L57Szsy"
      }
    },
    {
      "cell_type": "code",
      "source": [
        "feature_imp = pd.Series(new_rf.feature_importances_, index=X_train.columns).sort_values(ascending=False)\n",
        "\n",
        "plt.figure(figsize=(10,6))\n",
        "sns.barplot(x=feature_imp, y=feature_imp.index)\n",
        "# Add labels to your graph\n",
        "plt.xlabel('Feature Importance Score')\n",
        "plt.ylabel('Features')\n",
        "plt.title(\"Visualizing Important Features\")\n",
        "plt.tight_layout()"
      ],
      "metadata": {
        "colab": {
          "base_uri": "https://localhost:8080/",
          "height": 437
        },
        "id": "nclxjDZORcNd",
        "outputId": "a1b7fda4-267a-4722-fc08-c29b32c298d9"
      },
      "execution_count": 54,
      "outputs": [
        {
          "output_type": "display_data",
          "data": {
            "text/plain": [
              "<Figure size 720x432 with 1 Axes>"
            ],
            "image/png": "[encoded data removed]"
          },
          "metadata": {}
        }
      ]
    },
    {
      "cell_type": "markdown",
      "source": [
        "After hyperparamter tuning, Na_to_K_binned_20-30 got more importance. But overall, Blood Pressure is still the most important feature."
      ],
      "metadata": {
        "id": "ZEhUtTF3T2zK"
      }
    },
    {
      "cell_type": "markdown",
      "source": [
        "# 8. Report Model Performance Again"
      ],
      "metadata": {
        "id": "olQ0-epcKpvC"
      }
    },
    {
      "cell_type": "markdown",
      "source": [
        "Report the performance of Random Forest classifier, which has best hyperparameters after hyperparameter tuning, using evaluation metrics"
      ],
      "metadata": {
        "id": "QwpybCRRKtZR"
      }
    },
    {
      "cell_type": "markdown",
      "source": [
        "### 8-1. Accuracy"
      ],
      "metadata": {
        "id": "c1xoIO1rLNAg"
      }
    },
    {
      "cell_type": "code",
      "source": [
        " #Show our model's accuracy by accuracy_score\n",
        "\n",
        "from sklearn.metrics import accuracy_score, confusion_matrix, precision_score, recall_score\n",
        "\n",
        "y_pred = new_rf.predict(X_test)\n",
        "acc = accuracy_score(y_test, y_pred)\n",
        "\n",
        "print(\"Accuracy: \", acc)"
      ],
      "metadata": {
        "colab": {
          "base_uri": "https://localhost:8080/"
        },
        "id": "51usZKTsKtqJ",
        "outputId": "bfc7804a-8f4b-4f3b-9c73-26551efd6bea"
      },
      "execution_count": 55,
      "outputs": [
        {
          "output_type": "stream",
          "name": "stdout",
          "text": [
            "Accuracy:  0.85\n"
          ]
        }
      ]
    },
    {
      "cell_type": "markdown",
      "source": [
        " ### 8-2. Confusion Matrix"
      ],
      "metadata": {
        "id": "OSYnoUw7Lag_"
      }
    },
    {
      "cell_type": "code",
      "source": [
        " #Confusion Matrix\n",
        "import seaborn as sns\n",
        "\n",
        "cm = pd.DataFrame(confusion_matrix(y_test, y_pred))\n",
        "sns.heatmap(cm, annot=True)"
      ],
      "metadata": {
        "colab": {
          "base_uri": "https://localhost:8080/",
          "height": 286
        },
        "id": "F1BCipGALc7G",
        "outputId": "e07933ec-ef9c-4501-a950-38b9e8e44196"
      },
      "execution_count": 56,
      "outputs": [
        {
          "output_type": "execute_result",
          "data": {
            "text/plain": [
              "<matplotlib.axes._subplots.AxesSubplot at 0x7f278615b8b0>"
            ]
          },
          "metadata": {},
          "execution_count": 56
        },
        {
          "output_type": "display_data",
          "data": {
            "text/plain": [
              "<Figure size 432x288 with 2 Axes>"
            ],
            "image/png": "[encoded data removed]"
          },
          "metadata": {}
        }
      ]
    },
    {
      "cell_type": "markdown",
      "source": [
        "### 8-3. Precision"
      ],
      "metadata": {
        "id": "j_04ZhbhLkog"
      }
    },
    {
      "cell_type": "code",
      "source": [
        " #precision evaluation\n",
        " #precision = TP / (TP + FP)\n",
        "\n",
        "prec = precision_score(y_test, y_pred, average='macro')\n",
        "print(\"Precision: \", prec)"
      ],
      "metadata": {
        "colab": {
          "base_uri": "https://localhost:8080/"
        },
        "id": "oJtuVmtqLmMn",
        "outputId": "c8b3c89f-aaca-40a6-9008-547ff844b88d"
      },
      "execution_count": 57,
      "outputs": [
        {
          "output_type": "stream",
          "name": "stdout",
          "text": [
            "Precision:  0.7898268398268399\n"
          ]
        }
      ]
    },
    {
      "cell_type": "markdown",
      "source": [
        "### 8-4. Recall"
      ],
      "metadata": {
        "id": "SvycyVAnLq1Z"
      }
    },
    {
      "cell_type": "code",
      "source": [
        " #recall evaluation\n",
        " #recall = TP / P\n",
        "\n",
        "rec = recall_score(y_test, y_pred, average='macro')\n",
        "print(\"Recall: \", rec)"
      ],
      "metadata": {
        "colab": {
          "base_uri": "https://localhost:8080/"
        },
        "id": "h_RQNYgPLsTP",
        "outputId": "4ad6a666-5025-4d64-fdf4-4afc0f06f982"
      },
      "execution_count": 58,
      "outputs": [
        {
          "output_type": "stream",
          "name": "stdout",
          "text": [
            "Recall:  0.9400000000000001\n"
          ]
        }
      ]
    },
    {
      "cell_type": "markdown",
      "source": [
        "### 8-5. F1-Score"
      ],
      "metadata": {
        "id": "-6RU4KXeMQA-"
      }
    },
    {
      "cell_type": "code",
      "source": [
        " #F1_score evaluation\n",
        " # F1 = 2 * Precisoin * Recall / (Precision + Recall)\n",
        "\n",
        "f1 = f1_score(y_test, y_pred, average='macro')\n",
        "print(\"F1 score: \", f1)"
      ],
      "metadata": {
        "colab": {
          "base_uri": "https://localhost:8080/"
        },
        "id": "nQm6mgCAMSlz",
        "outputId": "0fbf0a20-b30a-48e2-c1b1-f98032762713"
      },
      "execution_count": 59,
      "outputs": [
        {
          "output_type": "stream",
          "name": "stdout",
          "text": [
            "F1 score:  0.8428011204481793\n"
          ]
        }
      ]
    },
    {
      "cell_type": "markdown",
      "source": [
        "### 8-6. ROC Curves"
      ],
      "metadata": {
        "id": "vMkUVcdULwT5"
      }
    },
    {
      "cell_type": "code",
      "source": [
        " #Receiver Operating Characteristic Curve\n",
        "\n",
        "from sklearn.preprocessing import label_binarize\n",
        "from sklearn.metrics import auc, roc_auc_score, roc_curve, precision_recall_curve, f1_score\n",
        "from itertools import cycle\n",
        "\n",
        "y_score = new_rf.predict_proba(X_test)\n",
        "y_test_binary = label_binarize(y_test, classes=['DrugY', 'drugX', 'drugB', 'drugA', 'drugC'])\n",
        "n_classes = y_test_binary.shape[1]\n",
        "\n",
        "fpr = dict()\n",
        "tpr = dict()\n",
        "roc_auc = dict()\n",
        "\n",
        "colors = cycle(['red', 'orange', 'yellow', 'green', 'blue'])\n",
        "\n",
        "for i, color in zip(range(n_classes), colors):\n",
        "  fpr[i], tpr[i], _ = roc_curve(y_test_binary[:, i], y_score[:, i])\n",
        "  plt.plot(fpr[i], tpr[i], color=color, lw=2)\n",
        "  print('AUC for Class {}: {}'.format(i+1, auc(fpr[i], tpr[i])))\n",
        "\n",
        "plt.plot([0, 1], [0, 1], color='navy', lw=2, linestyle='--')\n",
        "plt.xlim([0.0, 1.0])\n",
        "plt.ylim([0.0, 1.05])\n",
        "plt.xlabel('False Positive Rate')\n",
        "plt.ylabel('True Positive Rate')\n",
        "plt.title('ROC Curves')\n",
        "plt.show()"
      ],
      "metadata": {
        "colab": {
          "base_uri": "https://localhost:8080/",
          "height": 392
        },
        "id": "dC3agIUPLye3",
        "outputId": "74440295-97c3-431f-f69b-be8253dcd994"
      },
      "execution_count": 60,
      "outputs": [
        {
          "output_type": "stream",
          "name": "stdout",
          "text": [
            "AUC for Class 1: 0.7933333333333334\n",
            "AUC for Class 2: 0.38624338624338617\n",
            "AUC for Class 3: 0.9883040935672515\n",
            "AUC for Class 4: 0.2363636363636364\n",
            "AUC for Class 5: 0.28348214285714285\n"
          ]
        },
        {
          "output_type": "display_data",
          "data": {
            "text/plain": [
              "<Figure size 432x288 with 1 Axes>"
            ],
            "image/png": "[encoded data removed]"
          },
          "metadata": {}
        }
      ]
    },
    {
      "cell_type": "markdown",
      "source": [
        "### 8-7. PR Curves"
      ],
      "metadata": {
        "id": "9uLIl7RiL42p"
      }
    },
    {
      "cell_type": "code",
      "source": [
        "from sklearn.metrics import precision_recall_curve\n",
        "from sklearn.metrics import average_precision_score\n",
        "from sklearn.metrics import PrecisionRecallDisplay\n",
        "\n",
        "# For each class\n",
        "precision = dict()\n",
        "recall = dict()\n",
        "average_precision = dict()\n",
        "for i in range(n_classes):\n",
        "    precision[i], recall[i], _ = precision_recall_curve(y_test_binary[:, i], y_score[:, i])\n",
        "    average_precision[i] = average_precision_score(y_test_binary[:, i], y_score[:, i])\n",
        "\n",
        "# A \"micro-average\": quantifying score on all classes jointly\n",
        "precision[\"micro\"], recall[\"micro\"], _ = precision_recall_curve(\n",
        "    y_test_binary.ravel(), y_score.ravel()\n",
        ")\n",
        "average_precision[\"micro\"] = average_precision_score(y_test_binary, y_score, average=\"micro\")"
      ],
      "metadata": {
        "id": "QBrqlp5kL8HP"
      },
      "execution_count": 61,
      "outputs": []
    },
    {
      "cell_type": "code",
      "source": [
        "import matplotlib.pyplot as plt\n",
        "\n",
        "_, ax = plt.subplots(figsize=(7, 8))\n",
        "\n",
        "for i, color in zip(range(n_classes), colors):\n",
        "    display = PrecisionRecallDisplay(\n",
        "        recall=recall[i],\n",
        "        precision=precision[i],\n",
        "        average_precision=average_precision[i],\n",
        "    )\n",
        "    display.plot(ax=ax, name=f\"Precision-recall for class {i}\", color=color)\n",
        "\n",
        "\n",
        "handles, labels = display.ax_.get_legend_handles_labels()\n",
        "ax.set_xlim([0.0, 1.0])\n",
        "ax.set_ylim([0.0, 1.05])\n",
        "ax.legend(handles=handles, labels=labels, loc=\"best\")\n",
        "ax.set_title(\"Extension of Precision-Recall curve to multi-class\")\n",
        "\n",
        "plt.show()"
      ],
      "metadata": {
        "colab": {
          "base_uri": "https://localhost:8080/",
          "height": 518
        },
        "id": "k7wGNuvHL-_w",
        "outputId": "f2d65fcc-0b3f-4109-91fa-dc2e467dcf2e"
      },
      "execution_count": 62,
      "outputs": [
        {
          "output_type": "display_data",
          "data": {
            "text/plain": [
              "<Figure size 504x576 with 1 Axes>"
            ],
            "image/png": "[encoded data removed]"
          },
          "metadata": {}
        }
      ]
    },
    {
      "cell_type": "code",
      "source": [
        "display = PrecisionRecallDisplay(\n",
        "    recall=recall[\"micro\"],\n",
        "    precision=precision[\"micro\"],\n",
        "    average_precision=average_precision[\"micro\"],\n",
        ")\n",
        "display.plot()\n",
        "_ = display.ax_.set_title(\"Average over all classes\")"
      ],
      "metadata": {
        "colab": {
          "base_uri": "https://localhost:8080/",
          "height": 301
        },
        "id": "5Y2b_2EFMMNO",
        "outputId": "3c2a6aef-c521-432f-ea12-6037f7d4f869"
      },
      "execution_count": 63,
      "outputs": [
        {
          "output_type": "display_data",
          "data": {
            "text/plain": [
              "<Figure size 432x288 with 1 Axes>"
            ],
            "image/png": "[encoded data removed]"
          },
          "metadata": {}
        }
      ]
    },
    {
      "cell_type": "markdown",
      "source": [
        "# 9. Predicting New Data"
      ],
      "metadata": {
        "id": "yn06xa6WNFbo"
      }
    },
    {
      "cell_type": "markdown",
      "source": [
        "We wil check if our new model prescribes to new patient properly"
      ],
      "metadata": {
        "id": "GuS1g1AKLVgx"
      }
    },
    {
      "cell_type": "code",
      "source": [
        "# setting new patient's feature list\n",
        "# Looking at the dataset, if Na_to_K is higger than 15, it is classified as drugY. So set new patien's Na_to_K_binned_>30 feature to 1\n",
        "# We wil check if our new model prescribes drugY to new patient properly\n",
        "\n",
        "new_patient = [[0, 1, 0, 1, 0, 0, 1, 0, 0, 0, 1, 0, 0, 0, 0, 0, 0, 1]]"
      ],
      "metadata": {
        "id": "M_2SDpKnJvyG"
      },
      "execution_count": 64,
      "outputs": []
    },
    {
      "cell_type": "code",
      "source": [
        "# prediction on new patient\n",
        "\n",
        "new_patient_pred = new_rf.predict(new_patient)"
      ],
      "metadata": {
        "colab": {
          "base_uri": "https://localhost:8080/"
        },
        "id": "LpRWAK-uI5pS",
        "outputId": "9d7bc225-000a-4bb6-a643-99ceff410787"
      },
      "execution_count": 65,
      "outputs": [
        {
          "output_type": "stream",
          "name": "stderr",
          "text": [
            "/usr/local/lib/python3.8/dist-packages/sklearn/base.py:450: UserWarning: X does not have valid feature names, but RandomForestClassifier was fitted with feature names\n",
            "  warnings.warn(\n"
          ]
        }
      ]
    },
    {
      "cell_type": "code",
      "source": [
        "# print predict result\n",
        "\n",
        "new_patient_pred"
      ],
      "metadata": {
        "colab": {
          "base_uri": "https://localhost:8080/"
        },
        "id": "EXNqONOfKhM-",
        "outputId": "1fb298af-3695-48b5-b8ad-cf14dff4ea7c"
      },
      "execution_count": 66,
      "outputs": [
        {
          "output_type": "execute_result",
          "data": {
            "text/plain": [
              "array(['DrugY'], dtype=object)"
            ]
          },
          "metadata": {},
          "execution_count": 66
        }
      ]
    },
    {
      "cell_type": "markdown",
      "source": [
        "As predicted, drugY is prescribed to the new patient.\n",
        "This shows that our new model presribed well enough to new patients."
      ],
      "metadata": {
        "id": "PEZBrx5_Lmkm"
      }
    },
    {
      "cell_type": "markdown",
      "source": [
        "# 10. Result Interpretation"
      ],
      "metadata": {
        "id": "gXfxxadLDTCv"
      }
    },
    {
      "cell_type": "markdown",
      "source": [
        "## 10-1. Correlation between features and the type of drug predicted by the model"
      ],
      "metadata": {
        "id": "YXuvLbVWja2B"
      }
    },
    {
      "cell_type": "code",
      "source": [
        "pred_rf = new_rf.predict(X_test)\n",
        "prediction = pd.DataFrame({'Sex_F': X_test.loc[:,\"Sex_F\"], \n",
        "                           'Sex_M': X_test.loc[:,\"Sex_M\"], \n",
        "                           'BP_HIGH': X_test.loc[:,\"BP_HIGH\"], \n",
        "                           'BP_LOW': X_test.loc[:,\"BP_LOW\"],\n",
        "                           'BP_NORMAL': X_test.loc[:,\"BP_NORMAL\"],\n",
        "                           'Cholesterol_HIGH': X_test.loc[:,\"Cholesterol_HIGH\"],\n",
        "                           'Cholesterol_NORMAL': X_test.loc[:,\"Cholesterol_NORMAL\"],\n",
        "                           'Age_binned_<20s': X_test.loc[:,\"Age_binned_<20s\"],\n",
        "                           'Age_binned_20s': X_test.loc[:,\"Age_binned_20s\"],\n",
        "                           'Age_binned_30s': X_test.loc[:,\"Age_binned_30s\"],\n",
        "                           'Age_binned_40s': X_test.loc[:,\"Age_binned_40s\"],\n",
        "                           'Age_binned_50s': X_test.loc[:,\"Age_binned_50s\"],\n",
        "                           'Age_binned_60s': X_test.loc[:,\"Age_binned_60s\"],\n",
        "                           'Age_binned_>60s': X_test.loc[:,\"Age_binned_>60s\"],\n",
        "                           'Na_to_K_binned_<10': X_test.loc[:,\"Na_to_K_binned_<10\"],\n",
        "                           'Na_to_K_binned_10-20': X_test.loc[:,\"Na_to_K_binned_10-20\"],\n",
        "                           'Na_to_K_binned_20-30': X_test.loc[:,\"Na_to_K_binned_20-30\"],\n",
        "                           'Na_to_K_binned_>30': X_test.loc[:,\"Na_to_K_binned_>30\"],'DrugType': pred_rf})"
      ],
      "metadata": {
        "id": "ZogFGzvTl6kC"
      },
      "execution_count": 67,
      "outputs": []
    },
    {
      "cell_type": "code",
      "source": [
        "# Sex\n",
        "prediction['Sex_F'] = prediction['Sex_F'].replace([1, 0],['Female', 'Male'])\n",
        "\n",
        "#BP\n",
        "prediction['BP_HIGH'] = prediction['BP_HIGH'].replace([1, 0],['High',''])\n",
        "prediction['BP_LOW'] = prediction['BP_LOW'].replace([1, 0],['Low', ''])\n",
        "prediction['BP_NORMAL'] = prediction['BP_NORMAL'].replace([1, 0],['Normal', ''])\n",
        "\n",
        "prediction['BP_HIGH'] = np.where((prediction['BP_HIGH'] == ''), prediction['BP_LOW'], prediction['BP_HIGH'])\n",
        "prediction['BP_HIGH'] = np.where((prediction['BP_HIGH'] == ''), prediction['BP_NORMAL'], prediction['BP_HIGH'])\n",
        "\n",
        "#Cholestrol\n",
        "prediction['Cholesterol_HIGH'] = prediction['Cholesterol_HIGH'].replace([1, 0],['High', 'Normal'])\n",
        "\n",
        "#Age_binned\n",
        "prediction['Age_binned_<20s'] = prediction['Age_binned_<20s'].replace([1, 0],['<20s',''])\n",
        "prediction['Age_binned_20s'] = prediction['Age_binned_20s'].replace([1, 0],['20s',''])\n",
        "prediction['Age_binned_30s'] = prediction['Age_binned_30s'].replace([1, 0],['30s',''])\n",
        "prediction['Age_binned_40s'] = prediction['Age_binned_40s'].replace([1, 0],['40s',''])\n",
        "prediction['Age_binned_50s'] = prediction['Age_binned_50s'].replace([1, 0],['50s',''])\n",
        "prediction['Age_binned_60s'] = prediction['Age_binned_60s'].replace([1, 0],['60s',''])\n",
        "prediction['Age_binned_>60s'] = prediction['Age_binned_>60s'].replace([1, 0],['>60s',''])\n",
        "\n",
        "prediction['Age_binned_<20s'] = np.where((prediction['Age_binned_<20s'] == ''), prediction['Age_binned_20s'], prediction['Age_binned_<20s'])\n",
        "prediction['Age_binned_<20s'] = np.where((prediction['Age_binned_<20s'] == ''), prediction['Age_binned_30s'], prediction['Age_binned_<20s'])\n",
        "prediction['Age_binned_<20s'] = np.where((prediction['Age_binned_<20s'] == ''), prediction['Age_binned_40s'], prediction['Age_binned_<20s'])\n",
        "prediction['Age_binned_<20s'] = np.where((prediction['Age_binned_<20s'] == ''), prediction['Age_binned_50s'], prediction['Age_binned_<20s'])\n",
        "prediction['Age_binned_<20s'] = np.where((prediction['Age_binned_<20s'] == ''), prediction['Age_binned_60s'], prediction['Age_binned_<20s'])\n",
        "prediction['Age_binned_<20s'] = np.where((prediction['Age_binned_<20s'] == ''), prediction['Age_binned_>60s'], prediction['Age_binned_<20s'])\n",
        "\n",
        "#Na to K\n",
        "prediction['Na_to_K_binned_<10'] = prediction['Na_to_K_binned_<10'].replace([1, 0],['<10',''])\n",
        "prediction['Na_to_K_binned_10-20'] = prediction['Na_to_K_binned_10-20'].replace([1, 0],['10-20',''])\n",
        "prediction['Na_to_K_binned_20-30'] = prediction['Na_to_K_binned_20-30'].replace([1, 0],['20-30',''])\n",
        "prediction['Na_to_K_binned_>30'] = prediction['Na_to_K_binned_>30'].replace([1, 0],['>30s',''])\n",
        "\n",
        "prediction['Na_to_K_binned_<10'] = np.where((prediction['Na_to_K_binned_<10'] == ''), prediction['Na_to_K_binned_10-20'], prediction['Na_to_K_binned_<10'])\n",
        "prediction['Na_to_K_binned_<10'] = np.where((prediction['Na_to_K_binned_<10'] == ''), prediction['Na_to_K_binned_20-30'], prediction['Na_to_K_binned_<10'])\n",
        "prediction['Na_to_K_binned_<10'] = np.where((prediction['Na_to_K_binned_<10'] == ''), prediction['Na_to_K_binned_>30'], prediction['Na_to_K_binned_<10'])\n",
        "\n",
        "# Drop columns\n",
        "prediction = prediction.drop(['Sex_M', 'BP_LOW', 'BP_NORMAL', 'Cholesterol_NORMAL', 'Age_binned_20s', 'Age_binned_30s',\n",
        "                 'Age_binned_40s', 'Age_binned_50s', 'Age_binned_60s', 'Age_binned_>60s',\n",
        "                'Na_to_K_binned_10-20', 'Na_to_K_binned_20-30', 'Na_to_K_binned_>30'], axis = 1)"
      ],
      "metadata": {
        "id": "9KKskLrTmFjX"
      },
      "execution_count": 68,
      "outputs": []
    },
    {
      "cell_type": "code",
      "source": [
        "# Rename columns name\n",
        "new_name = {'Sex_F': 'Sex', 'BP_HIGH': 'BP', 'Cholesterol_HIGH': 'Cholesterol', 'Age_binned_<20s': 'Age_binned',\n",
        "          'Na_to_K_binned_<10': 'Na_to_K_binned'}\n",
        "prediction.rename(columns=new_name, inplace=True)"
      ],
      "metadata": {
        "id": "R3mD_U7kmJl3"
      },
      "execution_count": 69,
      "outputs": []
    },
    {
      "cell_type": "code",
      "source": [
        "prediction"
      ],
      "metadata": {
        "colab": {
          "base_uri": "https://localhost:8080/",
          "height": 1000
        },
        "id": "Np0Qq55_mKrX",
        "outputId": "d9dc4461-df1f-4bb4-d001-77e0f81670ea"
      },
      "execution_count": 70,
      "outputs": [
        {
          "output_type": "execute_result",
          "data": {
            "text/plain": [
              "        Sex      BP Cholesterol Age_binned Na_to_K_binned DrugType\n",
              "18     Male     Low        High        20s            <10    drugC\n",
              "170  Female  Normal        High        20s          10-20    drugX\n",
              "107    Male     Low        High        40s          20-30    DrugY\n",
              "98     Male    High      Normal        20s           >30s    DrugY\n",
              "177    Male  Normal        High        20s          20-30    DrugY\n",
              "182  Female     Low      Normal        20s          10-20    drugX\n",
              "5    Female  Normal        High        20s            <10    drugX\n",
              "146  Female     Low      Normal        30s          10-20    drugX\n",
              "12     Male     Low        High        40s          10-20    drugC\n",
              "152    Male  Normal      Normal        50s            <10    drugX\n",
              "61     Male    High      Normal        20s          10-20    drugA\n",
              "125  Female    High      Normal       <20s          20-30    DrugY\n",
              "180  Female    High      Normal        20s          20-30    DrugY\n",
              "154    Male     Low      Normal        30s          10-20    drugX\n",
              "80     Male    High        High        60s          10-20    drugB\n",
              "7      Male     Low        High        40s          10-20    drugC\n",
              "33   Female    High      Normal        60s           >30s    DrugY\n",
              "130  Female  Normal        High       >60s          20-30    DrugY\n",
              "37     Male     Low      Normal        30s          10-20    drugX\n",
              "74     Male    High      Normal        30s          10-20    drugA\n",
              "183  Female    High      Normal        30s          10-20    drugA\n",
              "145    Male  Normal        High        60s          10-20    drugX\n",
              "45   Female  Normal      Normal        60s            <10    drugX\n",
              "159  Female     Low      Normal        30s          10-20    drugX\n",
              "60   Female     Low      Normal        30s           >30s    DrugY\n",
              "123  Female  Normal        High        30s          10-20    drugX\n",
              "179  Female  Normal        High        60s          10-20    drugX\n",
              "185  Female  Normal      Normal        50s          20-30    DrugY\n",
              "122    Male  Normal        High        30s          20-30    DrugY\n",
              "44   Female  Normal      Normal        50s          10-20    drugX\n",
              "16     Male     Low      Normal        60s          10-20    drugX\n",
              "55   Female     Low        High        20s          10-20    drugC\n",
              "150    Male    High      Normal        40s            <10    drugA\n",
              "111  Female  Normal      Normal        40s            <10    drugX\n",
              "22     Male     Low      Normal        40s           >30s    DrugY\n",
              "189    Male    High      Normal        60s          20-30    DrugY\n",
              "129  Female  Normal        High        30s            <10    drugX\n",
              "4    Female     Low        High        60s          10-20    drugC\n",
              "83   Female    High      Normal        30s          10-20    drugA\n",
              "106    Male  Normal        High        20s          10-20    drugX\n",
              "134  Female    High        High        40s          20-30    DrugY\n",
              "66     Male    High        High        20s          10-20    drugA\n",
              "26     Male    High        High        30s           >30s    DrugY\n",
              "113  Female     Low      Normal        60s          10-20    drugX\n",
              "168  Female     Low      Normal        50s          20-30    DrugY\n",
              "63     Male     Low      Normal        40s            <10    drugX\n",
              "8      Male  Normal        High        60s          10-20    drugX\n",
              "75     Male     Low      Normal        20s          20-30    DrugY\n",
              "118  Female    High      Normal        30s          10-20    drugA\n",
              "143    Male    High      Normal       >60s          10-20    drugB\n",
              "71   Female  Normal        High        20s          20-30    DrugY\n",
              "124  Female    High      Normal        50s          10-20    drugB\n",
              "184  Female    High        High       <20s           >30s    DrugY\n",
              "97   Female    High        High        50s          20-30    DrugY\n",
              "149    Male     Low        High        20s            <10    drugC\n",
              "24   Female     Low        High        30s           >30s    DrugY\n",
              "30   Female  Normal      Normal       <20s            <10    drugX\n",
              "160  Female  Normal        High        30s          10-20    drugX\n",
              "40   Female  Normal        High       >60s          20-30    DrugY\n",
              "56     Male    High      Normal        60s          10-20    drugB"
            ],
            "text/html": [
              "\n",
              "  <div id=\"df-54b8c752-4678-4580-bf82-b7640b55acfd\">\n",
              "    <div class=\"colab-df-container\">\n",
              "      <div>\n",
              "<style scoped>\n",
              "    .dataframe tbody tr th:only-of-type {\n",
              "        vertical-align: middle;\n",
              "    }\n",
              "\n",
              "    .dataframe tbody tr th {\n",
              "        vertical-align: top;\n",
              "    }\n",
              "\n",
              "    .dataframe thead th {\n",
              "        text-align: right;\n",
              "    }\n",
              "</style>\n",
              "<table border=\"1\" class=\"dataframe\">\n",
              "  <thead>\n",
              "    <tr style=\"text-align: right;\">\n",
              "      <th></th>\n",
              "      <th>Sex</th>\n",
              "      <th>BP</th>\n",
              "      <th>Cholesterol</th>\n",
              "      <th>Age_binned</th>\n",
              "      <th>Na_to_K_binned</th>\n",
              "      <th>DrugType</th>\n",
              "    </tr>\n",
              "  </thead>\n",
              "  <tbody>\n",
              "    <tr>\n",
              "      <th>18</th>\n",
              "      <td>Male</td>\n",
              "      <td>Low</td>\n",
              "      <td>High</td>\n",
              "      <td>20s</td>\n",
              "      <td>&lt;10</td>\n",
              "      <td>drugC</td>\n",
              "    </tr>\n",
              "    <tr>\n",
              "      <th>170</th>\n",
              "      <td>Female</td>\n",
              "      <td>Normal</td>\n",
              "      <td>High</td>\n",
              "      <td>20s</td>\n",
              "      <td>10-20</td>\n",
              "      <td>drugX</td>\n",
              "    </tr>\n",
              "    <tr>\n",
              "      <th>107</th>\n",
              "      <td>Male</td>\n",
              "      <td>Low</td>\n",
              "      <td>High</td>\n",
              "      <td>40s</td>\n",
              "      <td>20-30</td>\n",
              "      <td>DrugY</td>\n",
              "    </tr>\n",
              "    <tr>\n",
              "      <th>98</th>\n",
              "      <td>Male</td>\n",
              "      <td>High</td>\n",
              "      <td>Normal</td>\n",
              "      <td>20s</td>\n",
              "      <td>&gt;30s</td>\n",
              "      <td>DrugY</td>\n",
              "    </tr>\n",
              "    <tr>\n",
              "      <th>177</th>\n",
              "      <td>Male</td>\n",
              "      <td>Normal</td>\n",
              "      <td>High</td>\n",
              "      <td>20s</td>\n",
              "      <td>20-30</td>\n",
              "      <td>DrugY</td>\n",
              "    </tr>\n",
              "    <tr>\n",
              "      <th>182</th>\n",
              "      <td>Female</td>\n",
              "      <td>Low</td>\n",
              "      <td>Normal</td>\n",
              "      <td>20s</td>\n",
              "      <td>10-20</td>\n",
              "      <td>drugX</td>\n",
              "    </tr>\n",
              "    <tr>\n",
              "      <th>5</th>\n",
              "      <td>Female</td>\n",
              "      <td>Normal</td>\n",
              "      <td>High</td>\n",
              "      <td>20s</td>\n",
              "      <td>&lt;10</td>\n",
              "      <td>drugX</td>\n",
              "    </tr>\n",
              "    <tr>\n",
              "      <th>146</th>\n",
              "      <td>Female</td>\n",
              "      <td>Low</td>\n",
              "      <td>Normal</td>\n",
              "      <td>30s</td>\n",
              "      <td>10-20</td>\n",
              "      <td>drugX</td>\n",
              "    </tr>\n",
              "    <tr>\n",
              "      <th>12</th>\n",
              "      <td>Male</td>\n",
              "      <td>Low</td>\n",
              "      <td>High</td>\n",
              "      <td>40s</td>\n",
              "      <td>10-20</td>\n",
              "      <td>drugC</td>\n",
              "    </tr>\n",
              "    <tr>\n",
              "      <th>152</th>\n",
              "      <td>Male</td>\n",
              "      <td>Normal</td>\n",
              "      <td>Normal</td>\n",
              "      <td>50s</td>\n",
              "      <td>&lt;10</td>\n",
              "      <td>drugX</td>\n",
              "    </tr>\n",
              "    <tr>\n",
              "      <th>61</th>\n",
              "      <td>Male</td>\n",
              "      <td>High</td>\n",
              "      <td>Normal</td>\n",
              "      <td>20s</td>\n",
              "      <td>10-20</td>\n",
              "      <td>drugA</td>\n",
              "    </tr>\n",
              "    <tr>\n",
              "      <th>125</th>\n",
              "      <td>Female</td>\n",
              "      <td>High</td>\n",
              "      <td>Normal</td>\n",
              "      <td>&lt;20s</td>\n",
              "      <td>20-30</td>\n",
              "      <td>DrugY</td>\n",
              "    </tr>\n",
              "    <tr>\n",
              "      <th>180</th>\n",
              "      <td>Female</td>\n",
              "      <td>High</td>\n",
              "      <td>Normal</td>\n",
              "      <td>20s</td>\n",
              "      <td>20-30</td>\n",
              "      <td>DrugY</td>\n",
              "    </tr>\n",
              "    <tr>\n",
              "      <th>154</th>\n",
              "      <td>Male</td>\n",
              "      <td>Low</td>\n",
              "      <td>Normal</td>\n",
              "      <td>30s</td>\n",
              "      <td>10-20</td>\n",
              "      <td>drugX</td>\n",
              "    </tr>\n",
              "    <tr>\n",
              "      <th>80</th>\n",
              "      <td>Male</td>\n",
              "      <td>High</td>\n",
              "      <td>High</td>\n",
              "      <td>60s</td>\n",
              "      <td>10-20</td>\n",
              "      <td>drugB</td>\n",
              "    </tr>\n",
              "    <tr>\n",
              "      <th>7</th>\n",
              "      <td>Male</td>\n",
              "      <td>Low</td>\n",
              "      <td>High</td>\n",
              "      <td>40s</td>\n",
              "      <td>10-20</td>\n",
              "      <td>drugC</td>\n",
              "    </tr>\n",
              "    <tr>\n",
              "      <th>33</th>\n",
              "      <td>Female</td>\n",
              "      <td>High</td>\n",
              "      <td>Normal</td>\n",
              "      <td>60s</td>\n",
              "      <td>&gt;30s</td>\n",
              "      <td>DrugY</td>\n",
              "    </tr>\n",
              "    <tr>\n",
              "      <th>130</th>\n",
              "      <td>Female</td>\n",
              "      <td>Normal</td>\n",
              "      <td>High</td>\n",
              "      <td>&gt;60s</td>\n",
              "      <td>20-30</td>\n",
              "      <td>DrugY</td>\n",
              "    </tr>\n",
              "    <tr>\n",
              "      <th>37</th>\n",
              "      <td>Male</td>\n",
              "      <td>Low</td>\n",
              "      <td>Normal</td>\n",
              "      <td>30s</td>\n",
              "      <td>10-20</td>\n",
              "      <td>drugX</td>\n",
              "    </tr>\n",
              "    <tr>\n",
              "      <th>74</th>\n",
              "      <td>Male</td>\n",
              "      <td>High</td>\n",
              "      <td>Normal</td>\n",
              "      <td>30s</td>\n",
              "      <td>10-20</td>\n",
              "      <td>drugA</td>\n",
              "    </tr>\n",
              "    <tr>\n",
              "      <th>183</th>\n",
              "      <td>Female</td>\n",
              "      <td>High</td>\n",
              "      <td>Normal</td>\n",
              "      <td>30s</td>\n",
              "      <td>10-20</td>\n",
              "      <td>drugA</td>\n",
              "    </tr>\n",
              "    <tr>\n",
              "      <th>145</th>\n",
              "      <td>Male</td>\n",
              "      <td>Normal</td>\n",
              "      <td>High</td>\n",
              "      <td>60s</td>\n",
              "      <td>10-20</td>\n",
              "      <td>drugX</td>\n",
              "    </tr>\n",
              "    <tr>\n",
              "      <th>45</th>\n",
              "      <td>Female</td>\n",
              "      <td>Normal</td>\n",
              "      <td>Normal</td>\n",
              "      <td>60s</td>\n",
              "      <td>&lt;10</td>\n",
              "      <td>drugX</td>\n",
              "    </tr>\n",
              "    <tr>\n",
              "      <th>159</th>\n",
              "      <td>Female</td>\n",
              "      <td>Low</td>\n",
              "      <td>Normal</td>\n",
              "      <td>30s</td>\n",
              "      <td>10-20</td>\n",
              "      <td>drugX</td>\n",
              "    </tr>\n",
              "    <tr>\n",
              "      <th>60</th>\n",
              "      <td>Female</td>\n",
              "      <td>Low</td>\n",
              "      <td>Normal</td>\n",
              "      <td>30s</td>\n",
              "      <td>&gt;30s</td>\n",
              "      <td>DrugY</td>\n",
              "    </tr>\n",
              "    <tr>\n",
              "      <th>123</th>\n",
              "      <td>Female</td>\n",
              "      <td>Normal</td>\n",
              "      <td>High</td>\n",
              "      <td>30s</td>\n",
              "      <td>10-20</td>\n",
              "      <td>drugX</td>\n",
              "    </tr>\n",
              "    <tr>\n",
              "      <th>179</th>\n",
              "      <td>Female</td>\n",
              "      <td>Normal</td>\n",
              "      <td>High</td>\n",
              "      <td>60s</td>\n",
              "      <td>10-20</td>\n",
              "      <td>drugX</td>\n",
              "    </tr>\n",
              "    <tr>\n",
              "      <th>185</th>\n",
              "      <td>Female</td>\n",
              "      <td>Normal</td>\n",
              "      <td>Normal</td>\n",
              "      <td>50s</td>\n",
              "      <td>20-30</td>\n",
              "      <td>DrugY</td>\n",
              "    </tr>\n",
              "    <tr>\n",
              "      <th>122</th>\n",
              "      <td>Male</td>\n",
              "      <td>Normal</td>\n",
              "      <td>High</td>\n",
              "      <td>30s</td>\n",
              "      <td>20-30</td>\n",
              "      <td>DrugY</td>\n",
              "    </tr>\n",
              "    <tr>\n",
              "      <th>44</th>\n",
              "      <td>Female</td>\n",
              "      <td>Normal</td>\n",
              "      <td>Normal</td>\n",
              "      <td>50s</td>\n",
              "      <td>10-20</td>\n",
              "      <td>drugX</td>\n",
              "    </tr>\n",
              "    <tr>\n",
              "      <th>16</th>\n",
              "      <td>Male</td>\n",
              "      <td>Low</td>\n",
              "      <td>Normal</td>\n",
              "      <td>60s</td>\n",
              "      <td>10-20</td>\n",
              "      <td>drugX</td>\n",
              "    </tr>\n",
              "    <tr>\n",
              "      <th>55</th>\n",
              "      <td>Female</td>\n",
              "      <td>Low</td>\n",
              "      <td>High</td>\n",
              "      <td>20s</td>\n",
              "      <td>10-20</td>\n",
              "      <td>drugC</td>\n",
              "    </tr>\n",
              "    <tr>\n",
              "      <th>150</th>\n",
              "      <td>Male</td>\n",
              "      <td>High</td>\n",
              "      <td>Normal</td>\n",
              "      <td>40s</td>\n",
              "      <td>&lt;10</td>\n",
              "      <td>drugA</td>\n",
              "    </tr>\n",
              "    <tr>\n",
              "      <th>111</th>\n",
              "      <td>Female</td>\n",
              "      <td>Normal</td>\n",
              "      <td>Normal</td>\n",
              "      <td>40s</td>\n",
              "      <td>&lt;10</td>\n",
              "      <td>drugX</td>\n",
              "    </tr>\n",
              "    <tr>\n",
              "      <th>22</th>\n",
              "      <td>Male</td>\n",
              "      <td>Low</td>\n",
              "      <td>Normal</td>\n",
              "      <td>40s</td>\n",
              "      <td>&gt;30s</td>\n",
              "      <td>DrugY</td>\n",
              "    </tr>\n",
              "    <tr>\n",
              "      <th>189</th>\n",
              "      <td>Male</td>\n",
              "      <td>High</td>\n",
              "      <td>Normal</td>\n",
              "      <td>60s</td>\n",
              "      <td>20-30</td>\n",
              "      <td>DrugY</td>\n",
              "    </tr>\n",
              "    <tr>\n",
              "      <th>129</th>\n",
              "      <td>Female</td>\n",
              "      <td>Normal</td>\n",
              "      <td>High</td>\n",
              "      <td>30s</td>\n",
              "      <td>&lt;10</td>\n",
              "      <td>drugX</td>\n",
              "    </tr>\n",
              "    <tr>\n",
              "      <th>4</th>\n",
              "      <td>Female</td>\n",
              "      <td>Low</td>\n",
              "      <td>High</td>\n",
              "      <td>60s</td>\n",
              "      <td>10-20</td>\n",
              "      <td>drugC</td>\n",
              "    </tr>\n",
              "    <tr>\n",
              "      <th>83</th>\n",
              "      <td>Female</td>\n",
              "      <td>High</td>\n",
              "      <td>Normal</td>\n",
              "      <td>30s</td>\n",
              "      <td>10-20</td>\n",
              "      <td>drugA</td>\n",
              "    </tr>\n",
              "    <tr>\n",
              "      <th>106</th>\n",
              "      <td>Male</td>\n",
              "      <td>Normal</td>\n",
              "      <td>High</td>\n",
              "      <td>20s</td>\n",
              "      <td>10-20</td>\n",
              "      <td>drugX</td>\n",
              "    </tr>\n",
              "    <tr>\n",
              "      <th>134</th>\n",
              "      <td>Female</td>\n",
              "      <td>High</td>\n",
              "      <td>High</td>\n",
              "      <td>40s</td>\n",
              "      <td>20-30</td>\n",
              "      <td>DrugY</td>\n",
              "    </tr>\n",
              "    <tr>\n",
              "      <th>66</th>\n",
              "      <td>Male</td>\n",
              "      <td>High</td>\n",
              "      <td>High</td>\n",
              "      <td>20s</td>\n",
              "      <td>10-20</td>\n",
              "      <td>drugA</td>\n",
              "    </tr>\n",
              "    <tr>\n",
              "      <th>26</th>\n",
              "      <td>Male</td>\n",
              "      <td>High</td>\n",
              "      <td>High</td>\n",
              "      <td>30s</td>\n",
              "      <td>&gt;30s</td>\n",
              "      <td>DrugY</td>\n",
              "    </tr>\n",
              "    <tr>\n",
              "      <th>113</th>\n",
              "      <td>Female</td>\n",
              "      <td>Low</td>\n",
              "      <td>Normal</td>\n",
              "      <td>60s</td>\n",
              "      <td>10-20</td>\n",
              "      <td>drugX</td>\n",
              "    </tr>\n",
              "    <tr>\n",
              "      <th>168</th>\n",
              "      <td>Female</td>\n",
              "      <td>Low</td>\n",
              "      <td>Normal</td>\n",
              "      <td>50s</td>\n",
              "      <td>20-30</td>\n",
              "      <td>DrugY</td>\n",
              "    </tr>\n",
              "    <tr>\n",
              "      <th>63</th>\n",
              "      <td>Male</td>\n",
              "      <td>Low</td>\n",
              "      <td>Normal</td>\n",
              "      <td>40s</td>\n",
              "      <td>&lt;10</td>\n",
              "      <td>drugX</td>\n",
              "    </tr>\n",
              "    <tr>\n",
              "      <th>8</th>\n",
              "      <td>Male</td>\n",
              "      <td>Normal</td>\n",
              "      <td>High</td>\n",
              "      <td>60s</td>\n",
              "      <td>10-20</td>\n",
              "      <td>drugX</td>\n",
              "    </tr>\n",
              "    <tr>\n",
              "      <th>75</th>\n",
              "      <td>Male</td>\n",
              "      <td>Low</td>\n",
              "      <td>Normal</td>\n",
              "      <td>20s</td>\n",
              "      <td>20-30</td>\n",
              "      <td>DrugY</td>\n",
              "    </tr>\n",
              "    <tr>\n",
              "      <th>118</th>\n",
              "      <td>Female</td>\n",
              "      <td>High</td>\n",
              "      <td>Normal</td>\n",
              "      <td>30s</td>\n",
              "      <td>10-20</td>\n",
              "      <td>drugA</td>\n",
              "    </tr>\n",
              "    <tr>\n",
              "      <th>143</th>\n",
              "      <td>Male</td>\n",
              "      <td>High</td>\n",
              "      <td>Normal</td>\n",
              "      <td>&gt;60s</td>\n",
              "      <td>10-20</td>\n",
              "      <td>drugB</td>\n",
              "    </tr>\n",
              "    <tr>\n",
              "      <th>71</th>\n",
              "      <td>Female</td>\n",
              "      <td>Normal</td>\n",
              "      <td>High</td>\n",
              "      <td>20s</td>\n",
              "      <td>20-30</td>\n",
              "      <td>DrugY</td>\n",
              "    </tr>\n",
              "    <tr>\n",
              "      <th>124</th>\n",
              "      <td>Female</td>\n",
              "      <td>High</td>\n",
              "      <td>Normal</td>\n",
              "      <td>50s</td>\n",
              "      <td>10-20</td>\n",
              "      <td>drugB</td>\n",
              "    </tr>\n",
              "    <tr>\n",
              "      <th>184</th>\n",
              "      <td>Female</td>\n",
              "      <td>High</td>\n",
              "      <td>High</td>\n",
              "      <td>&lt;20s</td>\n",
              "      <td>&gt;30s</td>\n",
              "      <td>DrugY</td>\n",
              "    </tr>\n",
              "    <tr>\n",
              "      <th>97</th>\n",
              "      <td>Female</td>\n",
              "      <td>High</td>\n",
              "      <td>High</td>\n",
              "      <td>50s</td>\n",
              "      <td>20-30</td>\n",
              "      <td>DrugY</td>\n",
              "    </tr>\n",
              "    <tr>\n",
              "      <th>149</th>\n",
              "      <td>Male</td>\n",
              "      <td>Low</td>\n",
              "      <td>High</td>\n",
              "      <td>20s</td>\n",
              "      <td>&lt;10</td>\n",
              "      <td>drugC</td>\n",
              "    </tr>\n",
              "    <tr>\n",
              "      <th>24</th>\n",
              "      <td>Female</td>\n",
              "      <td>Low</td>\n",
              "      <td>High</td>\n",
              "      <td>30s</td>\n",
              "      <td>&gt;30s</td>\n",
              "      <td>DrugY</td>\n",
              "    </tr>\n",
              "    <tr>\n",
              "      <th>30</th>\n",
              "      <td>Female</td>\n",
              "      <td>Normal</td>\n",
              "      <td>Normal</td>\n",
              "      <td>&lt;20s</td>\n",
              "      <td>&lt;10</td>\n",
              "      <td>drugX</td>\n",
              "    </tr>\n",
              "    <tr>\n",
              "      <th>160</th>\n",
              "      <td>Female</td>\n",
              "      <td>Normal</td>\n",
              "      <td>High</td>\n",
              "      <td>30s</td>\n",
              "      <td>10-20</td>\n",
              "      <td>drugX</td>\n",
              "    </tr>\n",
              "    <tr>\n",
              "      <th>40</th>\n",
              "      <td>Female</td>\n",
              "      <td>Normal</td>\n",
              "      <td>High</td>\n",
              "      <td>&gt;60s</td>\n",
              "      <td>20-30</td>\n",
              "      <td>DrugY</td>\n",
              "    </tr>\n",
              "    <tr>\n",
              "      <th>56</th>\n",
              "      <td>Male</td>\n",
              "      <td>High</td>\n",
              "      <td>Normal</td>\n",
              "      <td>60s</td>\n",
              "      <td>10-20</td>\n",
              "      <td>drugB</td>\n",
              "    </tr>\n",
              "  </tbody>\n",
              "</table>\n",
              "</div>\n",
              "      <button class=\"colab-df-convert\" onclick=\"convertToInteractive('df-54b8c752-4678-4580-bf82-b7640b55acfd')\"\n",
              "              title=\"Convert this dataframe to an interactive table.\"\n",
              "              style=\"display:none;\">\n",
              "        \n",
              "  <svg xmlns=\"http://www.w3.org/2000/svg\" height=\"24px\"viewBox=\"0 0 24 24\"\n",
              "       width=\"24px\">\n",
              "    <path d=\"M0 0h24v24H0V0z\" fill=\"none\"/>\n",
              "    <path d=\"M18.56 5.44l.94 2.06.94-2.06 2.06-.94-2.06-.94-.94-2.06-.94 2.06-2.06.94zm-11 1L8.5 8.5l.94-2.06 2.06-.94-2.06-.94L8.5 2.5l-.94 2.06-2.06.94zm10 10l.94 2.06.94-2.06 2.06-.94-2.06-.94-.94-2.06-.94 2.06-2.06.94z\"/><path d=\"M17.41 7.96l-1.37-1.37c-.4-.4-.92-.59-1.43-.59-.52 0-1.04.2-1.43.59L10.3 9.45l-7.72 7.72c-.78.78-.78 2.05 0 2.83L4 21.41c.39.39.9.59 1.41.59.51 0 1.02-.2 1.41-.59l7.78-7.78 2.81-2.81c.8-.78.8-2.07 0-2.86zM5.41 20L4 18.59l7.72-7.72 1.47 1.35L5.41 20z\"/>\n",
              "  </svg>\n",
              "      </button>\n",
              "      \n",
              "  <style>\n",
              "    .colab-df-container {\n",
              "      display:flex;\n",
              "      flex-wrap:wrap;\n",
              "      gap: 12px;\n",
              "    }\n",
              "\n",
              "    .colab-df-convert {\n",
              "      background-color: #E8F0FE;\n",
              "      border: none;\n",
              "      border-radius: 50%;\n",
              "      cursor: pointer;\n",
              "      display: none;\n",
              "      fill: #1967D2;\n",
              "      height: 32px;\n",
              "      padding: 0 0 0 0;\n",
              "      width: 32px;\n",
              "    }\n",
              "\n",
              "    .colab-df-convert:hover {\n",
              "      background-color: #E2EBFA;\n",
              "      box-shadow: 0px 1px 2px rgba(60, 64, 67, 0.3), 0px 1px 3px 1px rgba(60, 64, 67, 0.15);\n",
              "      fill: #174EA6;\n",
              "    }\n",
              "\n",
              "    [theme=dark] .colab-df-convert {\n",
              "      background-color: #3B4455;\n",
              "      fill: #D2E3FC;\n",
              "    }\n",
              "\n",
              "    [theme=dark] .colab-df-convert:hover {\n",
              "      background-color: #434B5C;\n",
              "      box-shadow: 0px 1px 3px 1px rgba(0, 0, 0, 0.15);\n",
              "      filter: drop-shadow(0px 1px 2px rgba(0, 0, 0, 0.3));\n",
              "      fill: #FFFFFF;\n",
              "    }\n",
              "  </style>\n",
              "\n",
              "      <script>\n",
              "        const buttonEl =\n",
              "          document.querySelector('#df-54b8c752-4678-4580-bf82-b7640b55acfd button.colab-df-convert');\n",
              "        buttonEl.style.display =\n",
              "          google.colab.kernel.accessAllowed ? 'block' : 'none';\n",
              "\n",
              "        async function convertToInteractive(key) {\n",
              "          const element = document.querySelector('#df-54b8c752-4678-4580-bf82-b7640b55acfd');\n",
              "          const dataTable =\n",
              "            await google.colab.kernel.invokeFunction('convertToInteractive',\n",
              "                                                     [key], {});\n",
              "          if (!dataTable) return;\n",
              "\n",
              "          const docLinkHtml = 'Like what you see? Visit the ' +\n",
              "            '<a target=\"_blank\" href=https://colab.research.google.com/notebooks/data_table.ipynb>data table notebook</a>'\n",
              "            + ' to learn more about interactive tables.';\n",
              "          element.innerHTML = '';\n",
              "          dataTable['output_type'] = 'display_data';\n",
              "          await google.colab.output.renderOutput(dataTable, element);\n",
              "          const docLink = document.createElement('div');\n",
              "          docLink.innerHTML = docLinkHtml;\n",
              "          element.appendChild(docLink);\n",
              "        }\n",
              "      </script>\n",
              "    </div>\n",
              "  </div>\n",
              "  "
            ]
          },
          "metadata": {},
          "execution_count": 70
        }
      ]
    },
    {
      "cell_type": "markdown",
      "source": [
        "### **Age -- Drug** relation"
      ],
      "metadata": {
        "id": "McKar47Nj05Z"
      }
    },
    {
      "cell_type": "code",
      "source": [
        "ad_pred = new_rf.predict(X_test)\n",
        "ad_pred = pd.DataFrame({'Sex_F': X_test.loc[:,\"Sex_F\"], \n",
        "                           'Sex_M': X_test.loc[:,\"Sex_M\"], \n",
        "                           'BP_HIGH': X_test.loc[:,\"BP_HIGH\"], \n",
        "                           'BP_LOW': X_test.loc[:,\"BP_LOW\"],\n",
        "                           'BP_NORMAL': X_test.loc[:,\"BP_NORMAL\"],\n",
        "                           'Cholesterol_HIGH': X_test.loc[:,\"Cholesterol_HIGH\"],\n",
        "                           'Cholesterol_NORMAL': X_test.loc[:,\"Cholesterol_NORMAL\"],\n",
        "                           'Age_binned_<20s': X_test.loc[:,\"Age_binned_<20s\"],\n",
        "                           'Age_binned_20s': X_test.loc[:,\"Age_binned_20s\"],\n",
        "                           'Age_binned_30s': X_test.loc[:,\"Age_binned_30s\"],\n",
        "                           'Age_binned_40s': X_test.loc[:,\"Age_binned_40s\"],\n",
        "                           'Age_binned_50s': X_test.loc[:,\"Age_binned_50s\"],\n",
        "                           'Age_binned_60s': X_test.loc[:,\"Age_binned_60s\"],\n",
        "                           'Age_binned_>60s': X_test.loc[:,\"Age_binned_>60s\"],\n",
        "                           'Na_to_K_binned_<10': X_test.loc[:,\"Na_to_K_binned_<10\"],\n",
        "                           'Na_to_K_binned_10-20': X_test.loc[:,\"Na_to_K_binned_10-20\"],\n",
        "                           'Na_to_K_binned_20-30': X_test.loc[:,\"Na_to_K_binned_20-30\"],\n",
        "                           'Na_to_K_binned_>30': X_test.loc[:,\"Na_to_K_binned_>30\"],'DrugType': pred_rf})\n",
        "\n",
        "ad_pred['Age_binned_<20s'] = ad_pred['Age_binned_<20s'].replace([1, 0],[10,''])\n",
        "ad_pred['Age_binned_20s'] = ad_pred['Age_binned_20s'].replace([1, 0],[20,''])\n",
        "ad_pred['Age_binned_30s'] = ad_pred['Age_binned_30s'].replace([1, 0],[30,''])\n",
        "ad_pred['Age_binned_40s'] = ad_pred['Age_binned_40s'].replace([1, 0],[40,''])\n",
        "ad_pred['Age_binned_50s'] = ad_pred['Age_binned_50s'].replace([1, 0],[50,''])\n",
        "ad_pred['Age_binned_60s'] = ad_pred['Age_binned_60s'].replace([1, 0],[60,''])\n",
        "ad_pred['Age_binned_>60s'] = ad_pred['Age_binned_>60s'].replace([1, 0],[70,''])\n",
        "\n",
        "ad_pred['Age_binned_<20s'] = np.where((ad_pred['Age_binned_<20s'] == ''), ad_pred['Age_binned_20s'], ad_pred['Age_binned_<20s'])\n",
        "ad_pred['Age_binned_<20s'] = np.where((ad_pred['Age_binned_<20s'] == ''), ad_pred['Age_binned_30s'], ad_pred['Age_binned_<20s'])\n",
        "ad_pred['Age_binned_<20s'] = np.where((ad_pred['Age_binned_<20s'] == ''), ad_pred['Age_binned_40s'], ad_pred['Age_binned_<20s'])\n",
        "ad_pred['Age_binned_<20s'] = np.where((ad_pred['Age_binned_<20s'] == ''), ad_pred['Age_binned_50s'], ad_pred['Age_binned_<20s'])\n",
        "ad_pred['Age_binned_<20s'] = np.where((ad_pred['Age_binned_<20s'] == ''), ad_pred['Age_binned_60s'], ad_pred['Age_binned_<20s'])\n",
        "ad_pred['Age_binned_<20s'] = np.where((ad_pred['Age_binned_<20s'] == ''), ad_pred['Age_binned_>60s'], ad_pred['Age_binned_<20s'])\n",
        "\n",
        "ad_pred = ad_pred.drop(['Sex_M', 'BP_LOW', 'BP_NORMAL', 'Cholesterol_NORMAL', 'Age_binned_20s', 'Age_binned_30s',\n",
        "                 'Age_binned_40s', 'Age_binned_50s', 'Age_binned_60s', 'Age_binned_>60s',\n",
        "                'Na_to_K_binned_10-20', 'Na_to_K_binned_20-30', 'Na_to_K_binned_>30'], axis = 1)\n",
        "\n",
        "ad_new_name = {'Sex_F': 'Sex', 'BP_HIGH': 'BP', 'Cholesterol_HIGH': 'Cholesterol', 'Age_binned_<20s': 'Age_binned',\n",
        "          'Na_to_K_binned_<10': 'Na_to_K_binned'}\n",
        "ad_pred.rename(columns=ad_new_name, inplace=True)"
      ],
      "metadata": {
        "id": "xJ9JGHwPtLJD"
      },
      "execution_count": 71,
      "outputs": []
    },
    {
      "cell_type": "code",
      "source": [
        "plt.figure(figsize = (9,5))\n",
        "sns.swarmplot(x = \"DrugType\", y = \"Age_binned\",data = ad_pred)\n",
        "plt.legend(ad_pred.DrugType.value_counts().index)\n",
        "plt.title(\"Age -- Drug\")\n",
        "plt.show()\n",
        "\n",
        "print(\"[drugC] min age:\", ad_pred.Age_binned[ad_pred.DrugType == \"drugC\"].min(), \", max age:\", ad_pred.Age_binned[ad_pred.DrugType == \"drugC\"].max())\n",
        "print(\"[drugX] min age:\", ad_pred.Age_binned[ad_pred.DrugType == \"drugX\"].min(), \", max age:\", ad_pred.Age_binned[ad_pred.DrugType == \"drugX\"].max())\n",
        "print(\"[DrugY] min age:\", ad_pred.Age_binned[ad_pred.DrugType == \"DrugY\"].min(), \", max age:\", ad_pred.Age_binned[ad_pred.DrugType == \"DrugY\"].max())\n",
        "print(\"[drugA] min age:\", ad_pred.Age_binned[ad_pred.DrugType == \"drugA\"].min(), \", max age:\", ad_pred.Age_binned[ad_pred.DrugType == \"drugA\"].max())\n",
        "print(\"[drugB] min age:\", ad_pred.Age_binned[ad_pred.DrugType == \"drugB\"].min(), \", max age:\", ad_pred.Age_binned[ad_pred.DrugType == \"drugB\"].max())"
      ],
      "metadata": {
        "colab": {
          "base_uri": "https://localhost:8080/",
          "height": 446
        },
        "id": "pwjPjV9yusY0",
        "outputId": "7f9e92b4-f3f4-44a7-a669-2e293dac2f8a"
      },
      "execution_count": 72,
      "outputs": [
        {
          "output_type": "display_data",
          "data": {
            "text/plain": [
              "<Figure size 648x360 with 1 Axes>"
            ],
            "image/png": "[encoded data removed]"
          },
          "metadata": {}
        },
        {
          "output_type": "stream",
          "name": "stdout",
          "text": [
            "[drugC] min age: 20 , max age: 60\n",
            "[drugX] min age: 10 , max age: 60\n",
            "[DrugY] min age: 10 , max age: 70\n",
            "[drugA] min age: 20 , max age: 40\n",
            "[drugB] min age: 50 , max age: 70\n"
          ]
        }
      ]
    },
    {
      "cell_type": "markdown",
      "source": [
        "- drugC and drugA are not taken by the children and teenager, whose ages are between 0 and 19.\n",
        "- drugA is taken only by the younger than 50 years old.\n",
        "- drugB is taken only by the older than 50 years old.\n",
        "- DrugY is taken by all ages."
      ],
      "metadata": {
        "id": "fZjammVQrUW9"
      }
    },
    {
      "cell_type": "markdown",
      "source": [
        "### **Sex -- Drug** relation"
      ],
      "metadata": {
        "id": "eXJ7ifcBqMFf"
      }
    },
    {
      "cell_type": "code",
      "source": [
        "pred_Sex_Drug = prediction.groupby([\"DrugType\",\"Sex\"]).size().reset_index(name = \"Count\")\n",
        "plt.figure(figsize = (9,5))\n",
        "sns.barplot(x = \"DrugType\",y=\"Count\", hue = \"Sex\",data = pred_Sex_Drug)\n",
        "plt.title(\"Sex -- Drug\")\n",
        "plt.show()"
      ],
      "metadata": {
        "colab": {
          "base_uri": "https://localhost:8080/",
          "height": 355
        },
        "id": "7hUWm8PoqO_f",
        "outputId": "b343c965-11f1-4bb6-c7ad-743a8b7e9c9a"
      },
      "execution_count": 73,
      "outputs": [
        {
          "output_type": "display_data",
          "data": {
            "text/plain": [
              "<Figure size 648x360 with 1 Axes>"
            ],
            "image/png": "[encoded data removed]"
          },
          "metadata": {}
        }
      ]
    },
    {
      "cell_type": "markdown",
      "source": [
        "- Male people got drugA, drugB and drugC more than female people did.\n",
        "- Female people got DrugY and drugX more than male people did.\n",
        "- Just by this, 'sex' becomes quite appropriate feature for classification compared to beginning."
      ],
      "metadata": {
        "id": "S_l1yhhUqbiO"
      }
    },
    {
      "cell_type": "markdown",
      "source": [
        "### **BP -- Drug** relation"
      ],
      "metadata": {
        "id": "k9rae-boqgsV"
      }
    },
    {
      "cell_type": "code",
      "source": [
        "pred_BP_Drug = prediction.groupby([\"DrugType\",\"BP\"]).size().reset_index(name = \"Count\")\n",
        "plt.figure(figsize = (9,5))\n",
        "sns.barplot(x = \"DrugType\",y=\"Count\", hue = \"BP\",data = pred_BP_Drug)\n",
        "plt.title(\"BP -- Drug\")\n",
        "plt.show()"
      ],
      "metadata": {
        "colab": {
          "base_uri": "https://localhost:8080/",
          "height": 355
        },
        "id": "iV_x7-Aqqb5m",
        "outputId": "7aa1a291-3b74-4ba8-8119-bc50c5120da0"
      },
      "execution_count": 74,
      "outputs": [
        {
          "output_type": "display_data",
          "data": {
            "text/plain": [
              "<Figure size 648x360 with 1 Axes>"
            ],
            "image/png": "[encoded data removed]"
          },
          "metadata": {}
        }
      ]
    },
    {
      "cell_type": "markdown",
      "source": [
        "- drugA and drugB were given only to people with HIGH blood pressure.\n",
        "- drugC was given to people with LOW blood pressure.\n",
        "- drugX was Not given to people with HIGH blood pressure.\n",
        "- Still, BP is an important feature for classification."
      ],
      "metadata": {
        "id": "auYnQoPbqyw9"
      }
    },
    {
      "cell_type": "markdown",
      "source": [
        "### **Na_to_K -- Drug** relation"
      ],
      "metadata": {
        "id": "NlTX1WwHqzJR"
      }
    },
    {
      "cell_type": "code",
      "source": [
        "ntk_pred = new_rf.predict(X_test)\n",
        "ntk_pred = pd.DataFrame({'Sex_F': X_test.loc[:,\"Sex_F\"], \n",
        "                           'Sex_M': X_test.loc[:,\"Sex_M\"], \n",
        "                           'BP_HIGH': X_test.loc[:,\"BP_HIGH\"], \n",
        "                           'BP_LOW': X_test.loc[:,\"BP_LOW\"],\n",
        "                           'BP_NORMAL': X_test.loc[:,\"BP_NORMAL\"],\n",
        "                           'Cholesterol_HIGH': X_test.loc[:,\"Cholesterol_HIGH\"],\n",
        "                           'Cholesterol_NORMAL': X_test.loc[:,\"Cholesterol_NORMAL\"],\n",
        "                           'Age_binned_<20s': X_test.loc[:,\"Age_binned_<20s\"],\n",
        "                           'Age_binned_20s': X_test.loc[:,\"Age_binned_20s\"],\n",
        "                           'Age_binned_30s': X_test.loc[:,\"Age_binned_30s\"],\n",
        "                           'Age_binned_40s': X_test.loc[:,\"Age_binned_40s\"],\n",
        "                           'Age_binned_50s': X_test.loc[:,\"Age_binned_50s\"],\n",
        "                           'Age_binned_60s': X_test.loc[:,\"Age_binned_60s\"],\n",
        "                           'Age_binned_>60s': X_test.loc[:,\"Age_binned_>60s\"],\n",
        "                           'Na_to_K_binned_<10': X_test.loc[:,\"Na_to_K_binned_<10\"],\n",
        "                           'Na_to_K_binned_10-20': X_test.loc[:,\"Na_to_K_binned_10-20\"],\n",
        "                           'Na_to_K_binned_20-30': X_test.loc[:,\"Na_to_K_binned_20-30\"],\n",
        "                           'Na_to_K_binned_>30': X_test.loc[:,\"Na_to_K_binned_>30\"],'DrugType': pred_rf})\n",
        "\n",
        "ntk_pred['Na_to_K_binned_<10'] = ntk_pred['Na_to_K_binned_<10'].replace([1, 0],['0-10',''])\n",
        "ntk_pred['Na_to_K_binned_10-20'] = ntk_pred['Na_to_K_binned_10-20'].replace([1, 0],['10-20',''])\n",
        "ntk_pred['Na_to_K_binned_20-30'] = ntk_pred['Na_to_K_binned_20-30'].replace([1, 0],['20-30',''])\n",
        "ntk_pred['Na_to_K_binned_>30'] = ntk_pred['Na_to_K_binned_>30'].replace([1, 0],['30-',''])\n",
        "\n",
        "ntk_pred['Na_to_K_binned_<10'] = np.where((ntk_pred['Na_to_K_binned_<10'] == ''), ntk_pred['Na_to_K_binned_10-20'], ntk_pred['Na_to_K_binned_<10'])\n",
        "ntk_pred['Na_to_K_binned_<10'] = np.where((ntk_pred['Na_to_K_binned_<10'] == ''), ntk_pred['Na_to_K_binned_20-30'], ntk_pred['Na_to_K_binned_<10'])\n",
        "ntk_pred['Na_to_K_binned_<10'] = np.where((ntk_pred['Na_to_K_binned_<10'] == ''), ntk_pred['Na_to_K_binned_>30'], ntk_pred['Na_to_K_binned_<10'])\n",
        "\n",
        "ntk_pred = ntk_pred.drop(['Sex_M', 'BP_LOW', 'BP_NORMAL', 'Cholesterol_NORMAL', 'Age_binned_20s', 'Age_binned_30s',\n",
        "                 'Age_binned_40s', 'Age_binned_50s', 'Age_binned_60s', 'Age_binned_>60s',\n",
        "                'Na_to_K_binned_10-20', 'Na_to_K_binned_20-30', 'Na_to_K_binned_>30'], axis = 1)\n",
        "\n",
        "ntk_new_name = {'Sex_F': 'Sex', 'BP_HIGH': 'BP', 'Cholesterol_HIGH': 'Cholesterol', 'Age_binned_<20s': 'Age_binned',\n",
        "          'Na_to_K_binned_<10': 'Na_to_K_binned'}\n",
        "ntk_pred.rename(columns=ntk_new_name, inplace=True)"
      ],
      "metadata": {
        "id": "z0VwJSNVvhKT"
      },
      "execution_count": 75,
      "outputs": []
    },
    {
      "cell_type": "code",
      "source": [
        "plt.figure(figsize = (9,5))\n",
        "sns.swarmplot(x = \"DrugType\", y = \"Na_to_K_binned\",data = ntk_pred)\n",
        "plt.title(\"Na_to_K -- Drug\")\n",
        "plt.show()\n",
        "\n",
        "print(\"[drugC] min Na_to_K:\",ntk_pred.Na_to_K_binned[ntk_pred.DrugType == \"drugC\"].min(), \", max Na_to_K:\", ntk_pred.Na_to_K_binned[ntk_pred.DrugType == \"drugC\"].min())\n",
        "print(\"[drugX] min Na_to_K:\",ntk_pred.Na_to_K_binned[ntk_pred.DrugType == \"drugX\"].min(), \", max Na_to_K:\", ntk_pred.Na_to_K_binned[ntk_pred.DrugType == \"drugX\"].min())\n",
        "print(\"[DrugY] min Na_to_K:\",ntk_pred.Na_to_K_binned[ntk_pred.DrugType == \"DrugY\"].min(), \", max Na_to_K:\", ntk_pred.Na_to_K_binned[ntk_pred.DrugType == \"DrugY\"].min())\n",
        "print(\"[drugA] min Na_to_K:\",ntk_pred.Na_to_K_binned[ntk_pred.DrugType == \"drugA\"].min(), \", max Na_to_K:\", ntk_pred.Na_to_K_binned[ntk_pred.DrugType == \"drugA\"].min())\n",
        "print(\"[drugB] min Na_to_K:\",ntk_pred.Na_to_K_binned[ntk_pred.DrugType == \"drugB\"].min(), \", max Na_to_K:\", ntk_pred.Na_to_K_binned[ntk_pred.DrugType == \"drugB\"].min())"
      ],
      "metadata": {
        "colab": {
          "base_uri": "https://localhost:8080/",
          "height": 446
        },
        "id": "vjqkITd5q7r3",
        "outputId": "dec06c99-b067-4c33-f0f7-e29725240604"
      },
      "execution_count": 76,
      "outputs": [
        {
          "output_type": "display_data",
          "data": {
            "text/plain": [
              "<Figure size 648x360 with 1 Axes>"
            ],
            "image/png": "[encoded data removed]"
          },
          "metadata": {}
        },
        {
          "output_type": "stream",
          "name": "stdout",
          "text": [
            "[drugC] min Na_to_K: 0-10 , max Na_to_K: 0-10\n",
            "[drugX] min Na_to_K: 0-10 , max Na_to_K: 0-10\n",
            "[DrugY] min Na_to_K: 20-30 , max Na_to_K: 20-30\n",
            "[drugA] min Na_to_K: 0-10 , max Na_to_K: 0-10\n",
            "[drugB] min Na_to_K: 10-20 , max Na_to_K: 10-20\n"
          ]
        }
      ]
    },
    {
      "cell_type": "markdown",
      "source": [
        "- People with Na_to_K ratio bigger than 20, got DrugY.\n",
        "- Still, Na to K is an important feature for DrugY classification."
      ],
      "metadata": {
        "id": "su5_aOzzrPM0"
      }
    },
    {
      "cell_type": "markdown",
      "source": [
        "### **Cholesterol -- Drug** relation"
      ],
      "metadata": {
        "id": "m90QySdArPv-"
      }
    },
    {
      "cell_type": "code",
      "source": [
        "pred_CH_Drug = prediction.groupby([\"DrugType\",\"Cholesterol\"]).size().reset_index(name = \"Count\")\n",
        "plt.figure(figsize = (9,5))\n",
        "sns.barplot(x = \"DrugType\",y=\"Count\", hue = \"Cholesterol\",data = pred_CH_Drug)\n",
        "plt.title(\"Cholesterol -- Drug\")\n",
        "plt.show()"
      ],
      "metadata": {
        "colab": {
          "base_uri": "https://localhost:8080/",
          "height": 355
        },
        "id": "gUCIRmyNraDm",
        "outputId": "a3967e00-09f3-4116-c3e7-73f3b8d0e281"
      },
      "execution_count": 77,
      "outputs": [
        {
          "output_type": "display_data",
          "data": {
            "text/plain": [
              "<Figure size 648x360 with 1 Axes>"
            ],
            "image/png": "[encoded data removed]"
          },
          "metadata": {}
        }
      ]
    },
    {
      "cell_type": "markdown",
      "source": [
        "- drugC was only given to people with HIGH cholesterol.\n",
        "- Cholesterol is an important feature to classify drugC.\n",
        "- Compared to the beginning, drugA and drugB is almost given to the people who have Normal cholesterol.\n",
        "- Therefore, drugA and drugB become an important feature to classify drugA and drugB."
      ],
      "metadata": {
        "id": "ogEXQo1Prdeg"
      }
    },
    {
      "cell_type": "markdown",
      "source": [
        "## 10-2. Cause of misclassification"
      ],
      "metadata": {
        "id": "gH9jz260HJ8z"
      }
    },
    {
      "cell_type": "code",
      "source": [
        "# using tuned hyperparameters\n",
        "new_y_pred = new_rf.predict(X_test)\n",
        "misclassified = (y_test == new_y_pred)\n",
        "cross_check = pd.DataFrame({'Actual' : y_test, 'Predicted' : new_y_pred, 'Correct?': misclassified})\n",
        "cross_check"
      ],
      "metadata": {
        "colab": {
          "base_uri": "https://localhost:8080/",
          "height": 1000
        },
        "id": "b4kZlvhJDYkW",
        "outputId": "35021993-cda2-434e-e15c-2132c79d2d99"
      },
      "execution_count": 78,
      "outputs": [
        {
          "output_type": "execute_result",
          "data": {
            "text/plain": [
              "    Actual Predicted  Correct?\n",
              "18   drugC     drugC      True\n",
              "170  drugX     drugX      True\n",
              "107  DrugY     DrugY      True\n",
              "98   DrugY     DrugY      True\n",
              "177  DrugY     DrugY      True\n",
              "182  drugX     drugX      True\n",
              "5    drugX     drugX      True\n",
              "146  drugX     drugX      True\n",
              "12   DrugY     drugC     False\n",
              "152  drugX     drugX      True\n",
              "61   drugA     drugA      True\n",
              "125  DrugY     DrugY      True\n",
              "180  DrugY     DrugY      True\n",
              "154  DrugY     drugX     False\n",
              "80   drugB     drugB      True\n",
              "7    drugC     drugC      True\n",
              "33   DrugY     DrugY      True\n",
              "130  DrugY     DrugY      True\n",
              "37   drugX     drugX      True\n",
              "74   DrugY     drugA     False\n",
              "183  DrugY     drugA     False\n",
              "145  drugX     drugX      True\n",
              "45   drugX     drugX      True\n",
              "159  drugX     drugX      True\n",
              "60   DrugY     DrugY      True\n",
              "123  DrugY     drugX     False\n",
              "179  DrugY     drugX     False\n",
              "185  DrugY     DrugY      True\n",
              "122  DrugY     DrugY      True\n",
              "44   drugX     drugX      True\n",
              "16   drugX     drugX      True\n",
              "55   drugC     drugC      True\n",
              "150  drugA     drugA      True\n",
              "111  drugX     drugX      True\n",
              "22   DrugY     DrugY      True\n",
              "189  DrugY     DrugY      True\n",
              "129  drugX     drugX      True\n",
              "4    DrugY     drugC     False\n",
              "83   drugA     drugA      True\n",
              "106  drugX     drugX      True\n",
              "134  DrugY     DrugY      True\n",
              "66   drugA     drugA      True\n",
              "26   DrugY     DrugY      True\n",
              "113  drugX     drugX      True\n",
              "168  DrugY     DrugY      True\n",
              "63   drugX     drugX      True\n",
              "8    DrugY     drugX     False\n",
              "75   DrugY     DrugY      True\n",
              "118  drugA     drugA      True\n",
              "143  DrugY     drugB     False\n",
              "71   DrugY     DrugY      True\n",
              "124  drugB     drugB      True\n",
              "184  DrugY     DrugY      True\n",
              "97   DrugY     DrugY      True\n",
              "149  drugC     drugC      True\n",
              "24   DrugY     DrugY      True\n",
              "30   drugX     drugX      True\n",
              "160  drugX     drugX      True\n",
              "40   DrugY     DrugY      True\n",
              "56   drugB     drugB      True"
            ],
            "text/html": [
              "\n",
              "  <div id=\"df-34d0e006-bf5e-4a54-abf5-c449e4af5dc2\">\n",
              "    <div class=\"colab-df-container\">\n",
              "      <div>\n",
              "<style scoped>\n",
              "    .dataframe tbody tr th:only-of-type {\n",
              "        vertical-align: middle;\n",
              "    }\n",
              "\n",
              "    .dataframe tbody tr th {\n",
              "        vertical-align: top;\n",
              "    }\n",
              "\n",
              "    .dataframe thead th {\n",
              "        text-align: right;\n",
              "    }\n",
              "</style>\n",
              "<table border=\"1\" class=\"dataframe\">\n",
              "  <thead>\n",
              "    <tr style=\"text-align: right;\">\n",
              "      <th></th>\n",
              "      <th>Actual</th>\n",
              "      <th>Predicted</th>\n",
              "      <th>Correct?</th>\n",
              "    </tr>\n",
              "  </thead>\n",
              "  <tbody>\n",
              "    <tr>\n",
              "      <th>18</th>\n",
              "      <td>drugC</td>\n",
              "      <td>drugC</td>\n",
              "      <td>True</td>\n",
              "    </tr>\n",
              "    <tr>\n",
              "      <th>170</th>\n",
              "      <td>drugX</td>\n",
              "      <td>drugX</td>\n",
              "      <td>True</td>\n",
              "    </tr>\n",
              "    <tr>\n",
              "      <th>107</th>\n",
              "      <td>DrugY</td>\n",
              "      <td>DrugY</td>\n",
              "      <td>True</td>\n",
              "    </tr>\n",
              "    <tr>\n",
              "      <th>98</th>\n",
              "      <td>DrugY</td>\n",
              "      <td>DrugY</td>\n",
              "      <td>True</td>\n",
              "    </tr>\n",
              "    <tr>\n",
              "      <th>177</th>\n",
              "      <td>DrugY</td>\n",
              "      <td>DrugY</td>\n",
              "      <td>True</td>\n",
              "    </tr>\n",
              "    <tr>\n",
              "      <th>182</th>\n",
              "      <td>drugX</td>\n",
              "      <td>drugX</td>\n",
              "      <td>True</td>\n",
              "    </tr>\n",
              "    <tr>\n",
              "      <th>5</th>\n",
              "      <td>drugX</td>\n",
              "      <td>drugX</td>\n",
              "      <td>True</td>\n",
              "    </tr>\n",
              "    <tr>\n",
              "      <th>146</th>\n",
              "      <td>drugX</td>\n",
              "      <td>drugX</td>\n",
              "      <td>True</td>\n",
              "    </tr>\n",
              "    <tr>\n",
              "      <th>12</th>\n",
              "      <td>DrugY</td>\n",
              "      <td>drugC</td>\n",
              "      <td>False</td>\n",
              "    </tr>\n",
              "    <tr>\n",
              "      <th>152</th>\n",
              "      <td>drugX</td>\n",
              "      <td>drugX</td>\n",
              "      <td>True</td>\n",
              "    </tr>\n",
              "    <tr>\n",
              "      <th>61</th>\n",
              "      <td>drugA</td>\n",
              "      <td>drugA</td>\n",
              "      <td>True</td>\n",
              "    </tr>\n",
              "    <tr>\n",
              "      <th>125</th>\n",
              "      <td>DrugY</td>\n",
              "      <td>DrugY</td>\n",
              "      <td>True</td>\n",
              "    </tr>\n",
              "    <tr>\n",
              "      <th>180</th>\n",
              "      <td>DrugY</td>\n",
              "      <td>DrugY</td>\n",
              "      <td>True</td>\n",
              "    </tr>\n",
              "    <tr>\n",
              "      <th>154</th>\n",
              "      <td>DrugY</td>\n",
              "      <td>drugX</td>\n",
              "      <td>False</td>\n",
              "    </tr>\n",
              "    <tr>\n",
              "      <th>80</th>\n",
              "      <td>drugB</td>\n",
              "      <td>drugB</td>\n",
              "      <td>True</td>\n",
              "    </tr>\n",
              "    <tr>\n",
              "      <th>7</th>\n",
              "      <td>drugC</td>\n",
              "      <td>drugC</td>\n",
              "      <td>True</td>\n",
              "    </tr>\n",
              "    <tr>\n",
              "      <th>33</th>\n",
              "      <td>DrugY</td>\n",
              "      <td>DrugY</td>\n",
              "      <td>True</td>\n",
              "    </tr>\n",
              "    <tr>\n",
              "      <th>130</th>\n",
              "      <td>DrugY</td>\n",
              "      <td>DrugY</td>\n",
              "      <td>True</td>\n",
              "    </tr>\n",
              "    <tr>\n",
              "      <th>37</th>\n",
              "      <td>drugX</td>\n",
              "      <td>drugX</td>\n",
              "      <td>True</td>\n",
              "    </tr>\n",
              "    <tr>\n",
              "      <th>74</th>\n",
              "      <td>DrugY</td>\n",
              "      <td>drugA</td>\n",
              "      <td>False</td>\n",
              "    </tr>\n",
              "    <tr>\n",
              "      <th>183</th>\n",
              "      <td>DrugY</td>\n",
              "      <td>drugA</td>\n",
              "      <td>False</td>\n",
              "    </tr>\n",
              "    <tr>\n",
              "      <th>145</th>\n",
              "      <td>drugX</td>\n",
              "      <td>drugX</td>\n",
              "      <td>True</td>\n",
              "    </tr>\n",
              "    <tr>\n",
              "      <th>45</th>\n",
              "      <td>drugX</td>\n",
              "      <td>drugX</td>\n",
              "      <td>True</td>\n",
              "    </tr>\n",
              "    <tr>\n",
              "      <th>159</th>\n",
              "      <td>drugX</td>\n",
              "      <td>drugX</td>\n",
              "      <td>True</td>\n",
              "    </tr>\n",
              "    <tr>\n",
              "      <th>60</th>\n",
              "      <td>DrugY</td>\n",
              "      <td>DrugY</td>\n",
              "      <td>True</td>\n",
              "    </tr>\n",
              "    <tr>\n",
              "      <th>123</th>\n",
              "      <td>DrugY</td>\n",
              "      <td>drugX</td>\n",
              "      <td>False</td>\n",
              "    </tr>\n",
              "    <tr>\n",
              "      <th>179</th>\n",
              "      <td>DrugY</td>\n",
              "      <td>drugX</td>\n",
              "      <td>False</td>\n",
              "    </tr>\n",
              "    <tr>\n",
              "      <th>185</th>\n",
              "      <td>DrugY</td>\n",
              "      <td>DrugY</td>\n",
              "      <td>True</td>\n",
              "    </tr>\n",
              "    <tr>\n",
              "      <th>122</th>\n",
              "      <td>DrugY</td>\n",
              "      <td>DrugY</td>\n",
              "      <td>True</td>\n",
              "    </tr>\n",
              "    <tr>\n",
              "      <th>44</th>\n",
              "      <td>drugX</td>\n",
              "      <td>drugX</td>\n",
              "      <td>True</td>\n",
              "    </tr>\n",
              "    <tr>\n",
              "      <th>16</th>\n",
              "      <td>drugX</td>\n",
              "      <td>drugX</td>\n",
              "      <td>True</td>\n",
              "    </tr>\n",
              "    <tr>\n",
              "      <th>55</th>\n",
              "      <td>drugC</td>\n",
              "      <td>drugC</td>\n",
              "      <td>True</td>\n",
              "    </tr>\n",
              "    <tr>\n",
              "      <th>150</th>\n",
              "      <td>drugA</td>\n",
              "      <td>drugA</td>\n",
              "      <td>True</td>\n",
              "    </tr>\n",
              "    <tr>\n",
              "      <th>111</th>\n",
              "      <td>drugX</td>\n",
              "      <td>drugX</td>\n",
              "      <td>True</td>\n",
              "    </tr>\n",
              "    <tr>\n",
              "      <th>22</th>\n",
              "      <td>DrugY</td>\n",
              "      <td>DrugY</td>\n",
              "      <td>True</td>\n",
              "    </tr>\n",
              "    <tr>\n",
              "      <th>189</th>\n",
              "      <td>DrugY</td>\n",
              "      <td>DrugY</td>\n",
              "      <td>True</td>\n",
              "    </tr>\n",
              "    <tr>\n",
              "      <th>129</th>\n",
              "      <td>drugX</td>\n",
              "      <td>drugX</td>\n",
              "      <td>True</td>\n",
              "    </tr>\n",
              "    <tr>\n",
              "      <th>4</th>\n",
              "      <td>DrugY</td>\n",
              "      <td>drugC</td>\n",
              "      <td>False</td>\n",
              "    </tr>\n",
              "    <tr>\n",
              "      <th>83</th>\n",
              "      <td>drugA</td>\n",
              "      <td>drugA</td>\n",
              "      <td>True</td>\n",
              "    </tr>\n",
              "    <tr>\n",
              "      <th>106</th>\n",
              "      <td>drugX</td>\n",
              "      <td>drugX</td>\n",
              "      <td>True</td>\n",
              "    </tr>\n",
              "    <tr>\n",
              "      <th>134</th>\n",
              "      <td>DrugY</td>\n",
              "      <td>DrugY</td>\n",
              "      <td>True</td>\n",
              "    </tr>\n",
              "    <tr>\n",
              "      <th>66</th>\n",
              "      <td>drugA</td>\n",
              "      <td>drugA</td>\n",
              "      <td>True</td>\n",
              "    </tr>\n",
              "    <tr>\n",
              "      <th>26</th>\n",
              "      <td>DrugY</td>\n",
              "      <td>DrugY</td>\n",
              "      <td>True</td>\n",
              "    </tr>\n",
              "    <tr>\n",
              "      <th>113</th>\n",
              "      <td>drugX</td>\n",
              "      <td>drugX</td>\n",
              "      <td>True</td>\n",
              "    </tr>\n",
              "    <tr>\n",
              "      <th>168</th>\n",
              "      <td>DrugY</td>\n",
              "      <td>DrugY</td>\n",
              "      <td>True</td>\n",
              "    </tr>\n",
              "    <tr>\n",
              "      <th>63</th>\n",
              "      <td>drugX</td>\n",
              "      <td>drugX</td>\n",
              "      <td>True</td>\n",
              "    </tr>\n",
              "    <tr>\n",
              "      <th>8</th>\n",
              "      <td>DrugY</td>\n",
              "      <td>drugX</td>\n",
              "      <td>False</td>\n",
              "    </tr>\n",
              "    <tr>\n",
              "      <th>75</th>\n",
              "      <td>DrugY</td>\n",
              "      <td>DrugY</td>\n",
              "      <td>True</td>\n",
              "    </tr>\n",
              "    <tr>\n",
              "      <th>118</th>\n",
              "      <td>drugA</td>\n",
              "      <td>drugA</td>\n",
              "      <td>True</td>\n",
              "    </tr>\n",
              "    <tr>\n",
              "      <th>143</th>\n",
              "      <td>DrugY</td>\n",
              "      <td>drugB</td>\n",
              "      <td>False</td>\n",
              "    </tr>\n",
              "    <tr>\n",
              "      <th>71</th>\n",
              "      <td>DrugY</td>\n",
              "      <td>DrugY</td>\n",
              "      <td>True</td>\n",
              "    </tr>\n",
              "    <tr>\n",
              "      <th>124</th>\n",
              "      <td>drugB</td>\n",
              "      <td>drugB</td>\n",
              "      <td>True</td>\n",
              "    </tr>\n",
              "    <tr>\n",
              "      <th>184</th>\n",
              "      <td>DrugY</td>\n",
              "      <td>DrugY</td>\n",
              "      <td>True</td>\n",
              "    </tr>\n",
              "    <tr>\n",
              "      <th>97</th>\n",
              "      <td>DrugY</td>\n",
              "      <td>DrugY</td>\n",
              "      <td>True</td>\n",
              "    </tr>\n",
              "    <tr>\n",
              "      <th>149</th>\n",
              "      <td>drugC</td>\n",
              "      <td>drugC</td>\n",
              "      <td>True</td>\n",
              "    </tr>\n",
              "    <tr>\n",
              "      <th>24</th>\n",
              "      <td>DrugY</td>\n",
              "      <td>DrugY</td>\n",
              "      <td>True</td>\n",
              "    </tr>\n",
              "    <tr>\n",
              "      <th>30</th>\n",
              "      <td>drugX</td>\n",
              "      <td>drugX</td>\n",
              "      <td>True</td>\n",
              "    </tr>\n",
              "    <tr>\n",
              "      <th>160</th>\n",
              "      <td>drugX</td>\n",
              "      <td>drugX</td>\n",
              "      <td>True</td>\n",
              "    </tr>\n",
              "    <tr>\n",
              "      <th>40</th>\n",
              "      <td>DrugY</td>\n",
              "      <td>DrugY</td>\n",
              "      <td>True</td>\n",
              "    </tr>\n",
              "    <tr>\n",
              "      <th>56</th>\n",
              "      <td>drugB</td>\n",
              "      <td>drugB</td>\n",
              "      <td>True</td>\n",
              "    </tr>\n",
              "  </tbody>\n",
              "</table>\n",
              "</div>\n",
              "      <button class=\"colab-df-convert\" onclick=\"convertToInteractive('df-34d0e006-bf5e-4a54-abf5-c449e4af5dc2')\"\n",
              "              title=\"Convert this dataframe to an interactive table.\"\n",
              "              style=\"display:none;\">\n",
              "        \n",
              "  <svg xmlns=\"http://www.w3.org/2000/svg\" height=\"24px\"viewBox=\"0 0 24 24\"\n",
              "       width=\"24px\">\n",
              "    <path d=\"M0 0h24v24H0V0z\" fill=\"none\"/>\n",
              "    <path d=\"M18.56 5.44l.94 2.06.94-2.06 2.06-.94-2.06-.94-.94-2.06-.94 2.06-2.06.94zm-11 1L8.5 8.5l.94-2.06 2.06-.94-2.06-.94L8.5 2.5l-.94 2.06-2.06.94zm10 10l.94 2.06.94-2.06 2.06-.94-2.06-.94-.94-2.06-.94 2.06-2.06.94z\"/><path d=\"M17.41 7.96l-1.37-1.37c-.4-.4-.92-.59-1.43-.59-.52 0-1.04.2-1.43.59L10.3 9.45l-7.72 7.72c-.78.78-.78 2.05 0 2.83L4 21.41c.39.39.9.59 1.41.59.51 0 1.02-.2 1.41-.59l7.78-7.78 2.81-2.81c.8-.78.8-2.07 0-2.86zM5.41 20L4 18.59l7.72-7.72 1.47 1.35L5.41 20z\"/>\n",
              "  </svg>\n",
              "      </button>\n",
              "      \n",
              "  <style>\n",
              "    .colab-df-container {\n",
              "      display:flex;\n",
              "      flex-wrap:wrap;\n",
              "      gap: 12px;\n",
              "    }\n",
              "\n",
              "    .colab-df-convert {\n",
              "      background-color: #E8F0FE;\n",
              "      border: none;\n",
              "      border-radius: 50%;\n",
              "      cursor: pointer;\n",
              "      display: none;\n",
              "      fill: #1967D2;\n",
              "      height: 32px;\n",
              "      padding: 0 0 0 0;\n",
              "      width: 32px;\n",
              "    }\n",
              "\n",
              "    .colab-df-convert:hover {\n",
              "      background-color: #E2EBFA;\n",
              "      box-shadow: 0px 1px 2px rgba(60, 64, 67, 0.3), 0px 1px 3px 1px rgba(60, 64, 67, 0.15);\n",
              "      fill: #174EA6;\n",
              "    }\n",
              "\n",
              "    [theme=dark] .colab-df-convert {\n",
              "      background-color: #3B4455;\n",
              "      fill: #D2E3FC;\n",
              "    }\n",
              "\n",
              "    [theme=dark] .colab-df-convert:hover {\n",
              "      background-color: #434B5C;\n",
              "      box-shadow: 0px 1px 3px 1px rgba(0, 0, 0, 0.15);\n",
              "      filter: drop-shadow(0px 1px 2px rgba(0, 0, 0, 0.3));\n",
              "      fill: #FFFFFF;\n",
              "    }\n",
              "  </style>\n",
              "\n",
              "      <script>\n",
              "        const buttonEl =\n",
              "          document.querySelector('#df-34d0e006-bf5e-4a54-abf5-c449e4af5dc2 button.colab-df-convert');\n",
              "        buttonEl.style.display =\n",
              "          google.colab.kernel.accessAllowed ? 'block' : 'none';\n",
              "\n",
              "        async function convertToInteractive(key) {\n",
              "          const element = document.querySelector('#df-34d0e006-bf5e-4a54-abf5-c449e4af5dc2');\n",
              "          const dataTable =\n",
              "            await google.colab.kernel.invokeFunction('convertToInteractive',\n",
              "                                                     [key], {});\n",
              "          if (!dataTable) return;\n",
              "\n",
              "          const docLinkHtml = 'Like what you see? Visit the ' +\n",
              "            '<a target=\"_blank\" href=https://colab.research.google.com/notebooks/data_table.ipynb>data table notebook</a>'\n",
              "            + ' to learn more about interactive tables.';\n",
              "          element.innerHTML = '';\n",
              "          dataTable['output_type'] = 'display_data';\n",
              "          await google.colab.output.renderOutput(dataTable, element);\n",
              "          const docLink = document.createElement('div');\n",
              "          docLink.innerHTML = docLinkHtml;\n",
              "          element.appendChild(docLink);\n",
              "        }\n",
              "      </script>\n",
              "    </div>\n",
              "  </div>\n",
              "  "
            ]
          },
          "metadata": {},
          "execution_count": 78
        }
      ]
    },
    {
      "cell_type": "code",
      "source": [
        "temp = np.where(misclassified == False)\n",
        "temp = np.array(temp).reshape((-1,)).tolist()\n",
        "misclassified.take(temp)"
      ],
      "metadata": {
        "colab": {
          "base_uri": "https://localhost:8080/"
        },
        "id": "mQVpeMBUDdKu",
        "outputId": "f2f6475c-b0a4-4193-ffd6-cbf06f2ef73a"
      },
      "execution_count": 79,
      "outputs": [
        {
          "output_type": "execute_result",
          "data": {
            "text/plain": [
              "12     False\n",
              "154    False\n",
              "74     False\n",
              "183    False\n",
              "123    False\n",
              "179    False\n",
              "4      False\n",
              "8      False\n",
              "143    False\n",
              "Name: Drug, dtype: bool"
            ]
          },
          "metadata": {},
          "execution_count": 79
        }
      ]
    },
    {
      "cell_type": "code",
      "source": [
        "misclassified_idx = misclassified.take(temp).index.tolist()\n",
        "misclassified_idx = sorted(misclassified_idx)\n",
        "reval = pd.DataFrame()\n",
        "for i in misclassified_idx:\n",
        "  reval = reval.append([df.iloc[i]])\n",
        "reval"
      ],
      "metadata": {
        "colab": {
          "base_uri": "https://localhost:8080/",
          "height": 331
        },
        "id": "pjLZs1ow5LE_",
        "outputId": "52a7227a-2def-469e-e5e1-be497b6beab2"
      },
      "execution_count": 80,
      "outputs": [
        {
          "output_type": "execute_result",
          "data": {
            "text/plain": [
              "    Sex      BP Cholesterol   Drug Age_binned Na_to_K_binned\n",
              "4     F     LOW        HIGH  DrugY        60s          10-20\n",
              "8     M  NORMAL        HIGH  DrugY        60s          10-20\n",
              "12    M     LOW        HIGH  DrugY        40s          10-20\n",
              "74    M    HIGH      NORMAL  DrugY        30s          10-20\n",
              "123   F  NORMAL        HIGH  DrugY        30s          10-20\n",
              "143   M    HIGH      NORMAL  DrugY       >60s          10-20\n",
              "154   M     LOW      NORMAL  DrugY        30s          10-20\n",
              "179   F  NORMAL        HIGH  DrugY        60s          10-20\n",
              "183   F    HIGH      NORMAL  DrugY        30s          10-20"
            ],
            "text/html": [
              "\n",
              "  <div id=\"df-8ccfe314-6fc8-46aa-8e74-4e43d73e16f7\">\n",
              "    <div class=\"colab-df-container\">\n",
              "      <div>\n",
              "<style scoped>\n",
              "    .dataframe tbody tr th:only-of-type {\n",
              "        vertical-align: middle;\n",
              "    }\n",
              "\n",
              "    .dataframe tbody tr th {\n",
              "        vertical-align: top;\n",
              "    }\n",
              "\n",
              "    .dataframe thead th {\n",
              "        text-align: right;\n",
              "    }\n",
              "</style>\n",
              "<table border=\"1\" class=\"dataframe\">\n",
              "  <thead>\n",
              "    <tr style=\"text-align: right;\">\n",
              "      <th></th>\n",
              "      <th>Sex</th>\n",
              "      <th>BP</th>\n",
              "      <th>Cholesterol</th>\n",
              "      <th>Drug</th>\n",
              "      <th>Age_binned</th>\n",
              "      <th>Na_to_K_binned</th>\n",
              "    </tr>\n",
              "  </thead>\n",
              "  <tbody>\n",
              "    <tr>\n",
              "      <th>4</th>\n",
              "      <td>F</td>\n",
              "      <td>LOW</td>\n",
              "      <td>HIGH</td>\n",
              "      <td>DrugY</td>\n",
              "      <td>60s</td>\n",
              "      <td>10-20</td>\n",
              "    </tr>\n",
              "    <tr>\n",
              "      <th>8</th>\n",
              "      <td>M</td>\n",
              "      <td>NORMAL</td>\n",
              "      <td>HIGH</td>\n",
              "      <td>DrugY</td>\n",
              "      <td>60s</td>\n",
              "      <td>10-20</td>\n",
              "    </tr>\n",
              "    <tr>\n",
              "      <th>12</th>\n",
              "      <td>M</td>\n",
              "      <td>LOW</td>\n",
              "      <td>HIGH</td>\n",
              "      <td>DrugY</td>\n",
              "      <td>40s</td>\n",
              "      <td>10-20</td>\n",
              "    </tr>\n",
              "    <tr>\n",
              "      <th>74</th>\n",
              "      <td>M</td>\n",
              "      <td>HIGH</td>\n",
              "      <td>NORMAL</td>\n",
              "      <td>DrugY</td>\n",
              "      <td>30s</td>\n",
              "      <td>10-20</td>\n",
              "    </tr>\n",
              "    <tr>\n",
              "      <th>123</th>\n",
              "      <td>F</td>\n",
              "      <td>NORMAL</td>\n",
              "      <td>HIGH</td>\n",
              "      <td>DrugY</td>\n",
              "      <td>30s</td>\n",
              "      <td>10-20</td>\n",
              "    </tr>\n",
              "    <tr>\n",
              "      <th>143</th>\n",
              "      <td>M</td>\n",
              "      <td>HIGH</td>\n",
              "      <td>NORMAL</td>\n",
              "      <td>DrugY</td>\n",
              "      <td>&gt;60s</td>\n",
              "      <td>10-20</td>\n",
              "    </tr>\n",
              "    <tr>\n",
              "      <th>154</th>\n",
              "      <td>M</td>\n",
              "      <td>LOW</td>\n",
              "      <td>NORMAL</td>\n",
              "      <td>DrugY</td>\n",
              "      <td>30s</td>\n",
              "      <td>10-20</td>\n",
              "    </tr>\n",
              "    <tr>\n",
              "      <th>179</th>\n",
              "      <td>F</td>\n",
              "      <td>NORMAL</td>\n",
              "      <td>HIGH</td>\n",
              "      <td>DrugY</td>\n",
              "      <td>60s</td>\n",
              "      <td>10-20</td>\n",
              "    </tr>\n",
              "    <tr>\n",
              "      <th>183</th>\n",
              "      <td>F</td>\n",
              "      <td>HIGH</td>\n",
              "      <td>NORMAL</td>\n",
              "      <td>DrugY</td>\n",
              "      <td>30s</td>\n",
              "      <td>10-20</td>\n",
              "    </tr>\n",
              "  </tbody>\n",
              "</table>\n",
              "</div>\n",
              "      <button class=\"colab-df-convert\" onclick=\"convertToInteractive('df-8ccfe314-6fc8-46aa-8e74-4e43d73e16f7')\"\n",
              "              title=\"Convert this dataframe to an interactive table.\"\n",
              "              style=\"display:none;\">\n",
              "        \n",
              "  <svg xmlns=\"http://www.w3.org/2000/svg\" height=\"24px\"viewBox=\"0 0 24 24\"\n",
              "       width=\"24px\">\n",
              "    <path d=\"M0 0h24v24H0V0z\" fill=\"none\"/>\n",
              "    <path d=\"M18.56 5.44l.94 2.06.94-2.06 2.06-.94-2.06-.94-.94-2.06-.94 2.06-2.06.94zm-11 1L8.5 8.5l.94-2.06 2.06-.94-2.06-.94L8.5 2.5l-.94 2.06-2.06.94zm10 10l.94 2.06.94-2.06 2.06-.94-2.06-.94-.94-2.06-.94 2.06-2.06.94z\"/><path d=\"M17.41 7.96l-1.37-1.37c-.4-.4-.92-.59-1.43-.59-.52 0-1.04.2-1.43.59L10.3 9.45l-7.72 7.72c-.78.78-.78 2.05 0 2.83L4 21.41c.39.39.9.59 1.41.59.51 0 1.02-.2 1.41-.59l7.78-7.78 2.81-2.81c.8-.78.8-2.07 0-2.86zM5.41 20L4 18.59l7.72-7.72 1.47 1.35L5.41 20z\"/>\n",
              "  </svg>\n",
              "      </button>\n",
              "      \n",
              "  <style>\n",
              "    .colab-df-container {\n",
              "      display:flex;\n",
              "      flex-wrap:wrap;\n",
              "      gap: 12px;\n",
              "    }\n",
              "\n",
              "    .colab-df-convert {\n",
              "      background-color: #E8F0FE;\n",
              "      border: none;\n",
              "      border-radius: 50%;\n",
              "      cursor: pointer;\n",
              "      display: none;\n",
              "      fill: #1967D2;\n",
              "      height: 32px;\n",
              "      padding: 0 0 0 0;\n",
              "      width: 32px;\n",
              "    }\n",
              "\n",
              "    .colab-df-convert:hover {\n",
              "      background-color: #E2EBFA;\n",
              "      box-shadow: 0px 1px 2px rgba(60, 64, 67, 0.3), 0px 1px 3px 1px rgba(60, 64, 67, 0.15);\n",
              "      fill: #174EA6;\n",
              "    }\n",
              "\n",
              "    [theme=dark] .colab-df-convert {\n",
              "      background-color: #3B4455;\n",
              "      fill: #D2E3FC;\n",
              "    }\n",
              "\n",
              "    [theme=dark] .colab-df-convert:hover {\n",
              "      background-color: #434B5C;\n",
              "      box-shadow: 0px 1px 3px 1px rgba(0, 0, 0, 0.15);\n",
              "      filter: drop-shadow(0px 1px 2px rgba(0, 0, 0, 0.3));\n",
              "      fill: #FFFFFF;\n",
              "    }\n",
              "  </style>\n",
              "\n",
              "      <script>\n",
              "        const buttonEl =\n",
              "          document.querySelector('#df-8ccfe314-6fc8-46aa-8e74-4e43d73e16f7 button.colab-df-convert');\n",
              "        buttonEl.style.display =\n",
              "          google.colab.kernel.accessAllowed ? 'block' : 'none';\n",
              "\n",
              "        async function convertToInteractive(key) {\n",
              "          const element = document.querySelector('#df-8ccfe314-6fc8-46aa-8e74-4e43d73e16f7');\n",
              "          const dataTable =\n",
              "            await google.colab.kernel.invokeFunction('convertToInteractive',\n",
              "                                                     [key], {});\n",
              "          if (!dataTable) return;\n",
              "\n",
              "          const docLinkHtml = 'Like what you see? Visit the ' +\n",
              "            '<a target=\"_blank\" href=https://colab.research.google.com/notebooks/data_table.ipynb>data table notebook</a>'\n",
              "            + ' to learn more about interactive tables.';\n",
              "          element.innerHTML = '';\n",
              "          dataTable['output_type'] = 'display_data';\n",
              "          await google.colab.output.renderOutput(dataTable, element);\n",
              "          const docLink = document.createElement('div');\n",
              "          docLink.innerHTML = docLinkHtml;\n",
              "          element.appendChild(docLink);\n",
              "        }\n",
              "      </script>\n",
              "    </div>\n",
              "  </div>\n",
              "  "
            ]
          },
          "metadata": {},
          "execution_count": 80
        }
      ]
    },
    {
      "cell_type": "code",
      "source": [
        "plt.figure(figsize = (9,5))\n",
        "sns.countplot(x = reval.Sex)\n",
        "plt.show()"
      ],
      "metadata": {
        "colab": {
          "base_uri": "https://localhost:8080/",
          "height": 339
        },
        "id": "62VX3qahDhV1",
        "outputId": "56fb701d-c927-4f5b-c14f-a72783b0f26f"
      },
      "execution_count": 81,
      "outputs": [
        {
          "output_type": "display_data",
          "data": {
            "text/plain": [
              "<Figure size 648x360 with 1 Axes>"
            ],
            "image/png": "[encoded data removed]"
          },
          "metadata": {}
        }
      ]
    },
    {
      "cell_type": "code",
      "source": [
        "plt.figure(figsize = (9,5))\n",
        "sns.countplot(x = reval.BP)\n",
        "plt.show()"
      ],
      "metadata": {
        "colab": {
          "base_uri": "https://localhost:8080/",
          "height": 339
        },
        "id": "hEdEeYorDwcr",
        "outputId": "e0340202-ef50-4ee7-e89d-595858743bd4"
      },
      "execution_count": 82,
      "outputs": [
        {
          "output_type": "display_data",
          "data": {
            "text/plain": [
              "<Figure size 648x360 with 1 Axes>"
            ],
            "image/png": "[encoded data removed]"
          },
          "metadata": {}
        }
      ]
    },
    {
      "cell_type": "code",
      "source": [
        "plt.figure(figsize = (9,5))\n",
        "sns.countplot(x = reval.Cholesterol)\n",
        "plt.show()"
      ],
      "metadata": {
        "colab": {
          "base_uri": "https://localhost:8080/",
          "height": 339
        },
        "id": "4M3nWE2pD-37",
        "outputId": "3fb389a3-c2f0-4684-ec14-5eb73cff1d4f"
      },
      "execution_count": 83,
      "outputs": [
        {
          "output_type": "display_data",
          "data": {
            "text/plain": [
              "<Figure size 648x360 with 1 Axes>"
            ],
            "image/png": "[encoded data removed]"
          },
          "metadata": {}
        }
      ]
    },
    {
      "cell_type": "code",
      "source": [
        "plt.figure(figsize = (9,5))\n",
        "sns.histplot(x = reval.Age_binned)\n",
        "plt.show()"
      ],
      "metadata": {
        "colab": {
          "base_uri": "https://localhost:8080/",
          "height": 339
        },
        "id": "ByKC6R6gEAxT",
        "outputId": "a4e01579-2d0a-4b5f-e850-fe3bf24af116"
      },
      "execution_count": 84,
      "outputs": [
        {
          "output_type": "display_data",
          "data": {
            "text/plain": [
              "<Figure size 648x360 with 1 Axes>"
            ],
            "image/png": "[encoded data removed]"
          },
          "metadata": {}
        }
      ]
    },
    {
      "cell_type": "code",
      "source": [
        "plt.figure(figsize = (9,5))\n",
        "sns.histplot(x = reval.Na_to_K_binned)\n",
        "plt.show()"
      ],
      "metadata": {
        "colab": {
          "base_uri": "https://localhost:8080/",
          "height": 339
        },
        "id": "tKMgVHhKEIpM",
        "outputId": "752bc4ab-3058-4729-9d4a-a35d8abbc0eb"
      },
      "execution_count": 85,
      "outputs": [
        {
          "output_type": "display_data",
          "data": {
            "text/plain": [
              "<Figure size 648x360 with 1 Axes>"
            ],
            "image/png": "[encoded data removed]"
          },
          "metadata": {}
        }
      ]
    },
    {
      "cell_type": "code",
      "source": [
        "plt.figure(figsize = (9,5))\n",
        "sns.countplot(x = reval.Drug)\n",
        "plt.show()"
      ],
      "metadata": {
        "colab": {
          "base_uri": "https://localhost:8080/",
          "height": 339
        },
        "id": "UCkkE7cMD5QC",
        "outputId": "4ca53645-bddf-4045-aeec-b519d15e4465"
      },
      "execution_count": 86,
      "outputs": [
        {
          "output_type": "display_data",
          "data": {
            "text/plain": [
              "<Figure size 648x360 with 1 Axes>"
            ],
            "image/png": "[encoded data removed]"
          },
          "metadata": {}
        }
      ]
    },
    {
      "cell_type": "markdown",
      "source": [
        "\n",
        "There was no significant difference between the misclassified data, and the predicted result values did not show any obvious tendencies.<br />\n",
        "One notable point was that Na_to_K 10-20 took a substantial proportion. This seems to be due to the ambiguity that can be classified into all drug types if they belong to this group.\n",
        "Also, people who should have been prescribed DrugY were likely to be misclassified, which is suspected to be due to the universal range of data.<br />\n",
        "Therefore, the cause of the misclassified data is thought to be the ambiguity of classifying boundary values."
      ],
      "metadata": {
        "id": "O-i47NDDDymy"
      }
    }
  ]
}